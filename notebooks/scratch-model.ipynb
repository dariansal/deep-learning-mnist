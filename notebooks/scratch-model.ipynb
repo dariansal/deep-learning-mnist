{
 "cells": [
  {
   "cell_type": "markdown",
   "metadata": {},
   "source": [
    "<center><h1><b><u> Multilayer Perceptron for MNIST Dataset From Scratch</u></b></h1></center>"
   ]
  },
  {
   "cell_type": "markdown",
   "metadata": {},
   "source": [
    "## __Importing Libraries, Classes, and Functions__"
   ]
  },
  {
   "cell_type": "code",
   "execution_count": 362,
   "metadata": {},
   "outputs": [],
   "source": [
    "import numpy as np\n",
    "from operator import itemgetter\n",
    "import random\n",
    "import json\n",
    "import pickle\n",
    "import matplotlib.pyplot as plt\n",
    "from PIL import Image"
   ]
  },
  {
   "cell_type": "markdown",
   "metadata": {},
   "source": [
    "## __Loading the Data__"
   ]
  },
  {
   "cell_type": "code",
   "execution_count": 304,
   "metadata": {},
   "outputs": [],
   "source": [
    "def extract_images(filename):\n",
    "    '''Many file formats use magic numbers so that file readers can easily identify them to verify its reading correct file type. This prevents some errors. Each\n",
    "    pixel is represented from value 0-255 (an unsigned byte/8 bit integer). Metadata is big endian (>, normal) and 4 byte/32 bit integer and stored as 1D array.\n",
    "    file.read(x) takes x bytes from the file and creates an immutable buffer (a bytes object, an array of bytes) and stores it in memory. frombuffer interprets buffer object as array\n",
    "    of bytes of certain data type. It doesn't copy the data just provides a view of the existing data and converts to numpy array.'''\n",
    "    with open(filename, 'rb') as f: #read binary\n",
    "        buffer = f.read(16) #metadata\n",
    "        magic, num_images, rows, cols = np.frombuffer(buffer, dtype='>i4') #rows and columns per image (dimensions)\n",
    "        data = np.frombuffer(f.read(), dtype=np.uint8) #read and store remaining data in 1D numpy array; #numpy spaces out elements instead of commas\n",
    "        data = data.reshape(num_images, rows, cols).astype(np.float32) #reshape flat data into 3D, num_image amt of rows x cols arrays\n",
    "    return data\n",
    "\n",
    "def extract_labels(filename):\n",
    "    with open(filename, 'rb') as f:\n",
    "        magic, num_labels = np.frombuffer(f.read(8), dtype='>i4')\n",
    "        labels = np.frombuffer(f.read(), dtype=np.uint8)\n",
    "    return labels\n",
    "\n",
    "def one_hot_encode(labels, num_classes=10):\n",
    "    return np.eye(num_classes)[labels] #certain row of the identity matrix\n",
    "\n",
    "def load_mnist():\n",
    "    data_path = '../data/MNIST/raw'\n",
    "    train_images = extract_images(f'{data_path}/train-images-idx3-ubyte')\n",
    "    train_labels = extract_labels(f'{data_path}/train-labels-idx1-ubyte')\n",
    "    test_images = extract_images(f'{data_path}/t10k-images-idx3-ubyte')\n",
    "    test_labels = extract_labels(f'{data_path}/t10k-labels-idx1-ubyte')\n",
    "\n",
    "    #Make sure data is right shape for forward pass\n",
    "    train_images_flat = train_images.reshape(60000, 784).T\n",
    "    test_images_flat = test_images.reshape(10000, 784).T\n",
    "\n",
    "    train_labels_one_hot = one_hot_encode(train_labels).T\n",
    "    test_labels_one_hot = one_hot_encode(test_labels).T\n",
    "    \n",
    "    return (train_images_flat, train_labels_one_hot), (test_images_flat, test_labels_one_hot) #each dataset is tuple of numpy arrays"
   ]
  },
  {
   "cell_type": "code",
   "execution_count": 305,
   "metadata": {},
   "outputs": [
    {
     "name": "stdout",
     "output_type": "stream",
     "text": [
      "Train images shape: (784, 60000)\n",
      "Train labels shape: (10, 60000)\n",
      "Test images shape: (784, 10000)\n",
      "Test labels shape: (10, 10000)\n"
     ]
    }
   ],
   "source": [
    "#Comma means tuple containing 1 element otherwise would just be int; numpy arrays come with useful attributes like shape\n",
    "(train_images, train_labels), (test_images, test_labels) = load_mnist()\n",
    "\n",
    "print(f\"Train images shape: {train_images.shape}\")\n",
    "print(f\"Train labels shape: {train_labels.shape}\")\n",
    "print(f\"Test images shape: {test_images.shape}\")\n",
    "print(f\"Test labels shape: {test_labels.shape}\")"
   ]
  },
  {
   "cell_type": "markdown",
   "metadata": {},
   "source": [
    "### __Splitting the Data__"
   ]
  },
  {
   "cell_type": "code",
   "execution_count": 389,
   "metadata": {},
   "outputs": [
    {
     "name": "stdout",
     "output_type": "stream",
     "text": [
      "sub_train_x shape: (784, 48000)\n",
      "sub_train_y shape: (10, 48000)\n",
      "val_x shape: (784, 12000)\n",
      "val_y shape: (10, 12000)\n"
     ]
    }
   ],
   "source": [
    "len_train = train_images.shape[1]\n",
    "\n",
    "split_index = int(len_train * 0.8)  #index separating train and val\n",
    "\n",
    "# Split the array\n",
    "sub_train_x = train_images[:, :split_index]\n",
    "sub_train_y = train_labels[:, :split_index]\n",
    "\n",
    "val_x = train_images[:, split_index:]\n",
    "val_y = train_labels[:, split_index:]\n",
    "\n",
    "print(\"sub_train_x shape:\", sub_train_x.shape)\n",
    "print(\"sub_train_y shape:\", sub_train_y.shape)\n",
    "print(\"val_x shape:\", val_x.shape)\n",
    "print(\"val_y shape:\", val_y.shape)"
   ]
  },
  {
   "cell_type": "markdown",
   "metadata": {},
   "source": [
    "## __Viewing a Sample__"
   ]
  },
  {
   "cell_type": "code",
   "execution_count": 390,
   "metadata": {},
   "outputs": [
    {
     "data": {
      "image/png": "[encoded data removed]",
      "text/plain": [
       "<Figure size 600x300 with 1 Axes>"
      ]
     },
     "metadata": {},
     "output_type": "display_data"
    }
   ],
   "source": [
    "index = random.randrange(0, train_images.shape[1])\n",
    "\n",
    "plt.figure(figsize=(6, 3))\n",
    "plt.imshow(train_images[:, index].reshape(28,28), cmap = 'gray')\n",
    "plt.axis(\"off\")\n",
    "plt.show()"
   ]
  },
  {
   "cell_type": "markdown",
   "metadata": {},
   "source": [
    "## __Initializing the Hyperparameters__"
   ]
  },
  {
   "cell_type": "code",
   "execution_count": 391,
   "metadata": {},
   "outputs": [],
   "source": [
    "class Hypers:\n",
    "    def __init__(self, hyperpath):\n",
    "        with open(hyperpath, 'r') as file:\n",
    "            hyper_dict = json.load(file)\n",
    "        self.lr = hyper_dict['learning_rate']\n",
    "        self.b_size = hyper_dict['batch_size']\n",
    "        self.n_slope = hyper_dict['n_slope']\n",
    "        self.epochs = hyper_dict['epochs']\n",
    "        self.hidden = hyper_dict['hidden']\n",
    "\n",
    "\n",
    "#can feed this into functions that need hypers\n",
    "hypers = Hypers('../config/mlp-scratch-hyperparameters.json')"
   ]
  },
  {
   "cell_type": "markdown",
   "metadata": {},
   "source": []
  },
  {
   "cell_type": "markdown",
   "metadata": {},
   "source": [
    "## __Defining Functions__"
   ]
  },
  {
   "cell_type": "markdown",
   "metadata": {},
   "source": [
    "### __Activations__"
   ]
  },
  {
   "cell_type": "code",
   "execution_count": 366,
   "metadata": {},
   "outputs": [],
   "source": [
    "def softmax(x): #x is vector\n",
    "    # Subtract max for numerical stability, keeping dims for proper broadcasting; axis = 0 is all elements you can reach by varying first index (row), which is a column\n",
    "    x_shifted = x - np.max(x, axis=0, keepdims=True)\n",
    "    \n",
    "    # Compute exponentials\n",
    "    exp_x = np.exp(x_shifted)\n",
    "    \n",
    "    # Compute softmax\n",
    "    return exp_x / np.sum(exp_x, axis=0, keepdims=True)"
   ]
  },
  {
   "cell_type": "code",
   "execution_count": 367,
   "metadata": {},
   "outputs": [],
   "source": [
    "def relu(z):\n",
    "    return np.maximum(z, 0)"
   ]
  },
  {
   "cell_type": "code",
   "execution_count": 310,
   "metadata": {},
   "outputs": [],
   "source": [
    "def drelu_dz(z):\n",
    "    return np.where(z <= 0, 0.0, 1.0).astype(np.float32)"
   ]
  },
  {
   "cell_type": "markdown",
   "metadata": {},
   "source": [
    "### __Parameter Initialization__"
   ]
  },
  {
   "cell_type": "code",
   "execution_count": 368,
   "metadata": {},
   "outputs": [],
   "source": [
    "def he_init(shape):\n",
    "    #output, input\n",
    "    fan_out, fan_in = shape\n",
    "    \n",
    "    #scaling factor; 2 for ReLU\n",
    "    scaling = np.sqrt(2/fan_in)\n",
    "\n",
    "    #create matrix sampled from Gaussian and multiply by scaling factor\n",
    "    return np.random.randn(fan_out, fan_in) * scaling"
   ]
  },
  {
   "cell_type": "markdown",
   "metadata": {},
   "source": [
    "## __Model Structure__"
   ]
  },
  {
   "cell_type": "markdown",
   "metadata": {},
   "source": [
    "### __Average Loss Function for Categorical Cross-Entropy__"
   ]
  },
  {
   "cell_type": "code",
   "execution_count": 369,
   "metadata": {},
   "outputs": [],
   "source": [
    "class AvgCategoricalCrossEntropy:\n",
    "    #loss function\n",
    "    def __call__(self, A2, Y):\n",
    "        m = Y.shape[1]\n",
    "        \n",
    "        epsilon=1e-15\n",
    "        A2_safe = np.maximum(A2, epsilon)\n",
    "\n",
    "        #same as doing (1/m) * sum of all columns (sum of values in a column of Y * np.log(A2_safe)); (1/m) total loss across whole batch\n",
    "        return (-1/m) * np.sum(Y * np.log(A2_safe)) \n",
    "    \n",
    "\n",
    "    def backward(self, X, Y, parameters, layer_computations):\n",
    "        W1, b1, W2, b2 = parameters\n",
    "        Z1, A1, Z2, A2 = layer_computations\n",
    "\n",
    "        m = X.shape[1] #batch size\n",
    "\n",
    "        dZ2 = (A2 - Y)\n",
    "        dW2 = (1/m)*(dZ2 @ A1.T)\n",
    "        db2 = (1/m)*np.sum(dZ2, axis = 1, keepdims = True) #sums across each row for all rows (summing the columns)\n",
    "\n",
    "        dZ1 = (W2.T @ dZ2)*drelu_dz(Z1) \n",
    "        dW1 = (1/m)*(dZ1 @ X.T)\n",
    "        db1 = (1/m)*np.sum(dZ1, axis = 1, keepdims = True)\n",
    "\n",
    "\n",
    "        #{'dW1': dW1, 'db1': db1, 'dW2' : dW2, 'db2': db2}\n",
    "        return dW1, db1, dW2, db2"
   ]
  },
  {
   "cell_type": "markdown",
   "metadata": {},
   "source": [
    "### __Optimizer__"
   ]
  },
  {
   "cell_type": "code",
   "execution_count": 370,
   "metadata": {},
   "outputs": [],
   "source": [
    "class FullBatchGD: \n",
    "    def __init__(self, lr = 0.01):\n",
    "        self.lr = lr\n",
    "\n",
    "    def step(self, parameters, partials):\n",
    "        #Unpack info\n",
    "        W1, b1, W2, b2 = parameters\n",
    "        dW1, db1, dW2, db2 = partials\n",
    "        \n",
    "        #Take step and update parameters in model object\n",
    "        W1 = W1 - self.lr*dW1\n",
    "        b1 = b1 - self.lr*db1\n",
    "        W2 = W2 - self.lr*dW2\n",
    "        b2 = b2 - self.lr*db2\n",
    "\n",
    "        return W1, b1, W2, b2"
   ]
  },
  {
   "cell_type": "markdown",
   "metadata": {},
   "source": [
    "### __The MLP__"
   ]
  },
  {
   "cell_type": "code",
   "execution_count": 371,
   "metadata": {},
   "outputs": [],
   "source": [
    "class MLP:\n",
    "    def __init__(self, input_dim, hidden_dim, output_dim):\n",
    "        \n",
    "        #Input to hidden\n",
    "        self.W1 = he_init((hidden_dim, input_dim)) \n",
    "        self.b1 = he_init((hidden_dim, 1))\n",
    "\n",
    "        #hidden to output\n",
    "        self.W2 = he_init((output_dim, hidden_dim))\n",
    "        self.b2 = he_init((output_dim, 1))\n",
    "        \n",
    "        self.parameters = self.W1, self.b1, self.W2, self.b2\n",
    "    \n",
    "    def update_parameters(self, updated_params):\n",
    "            self.parameters = updated_params\n",
    "            self.W1, self.b1, self.W2, self.b2 = updated_params #makes sure the parameter attributes update for their use in __call__\n",
    "        \n",
    "    #forward\n",
    "    def __call__(self, X, view_prob = False):\n",
    "        #input to hidden\n",
    "        Z1 = self.W1 @ X + self.b1 \n",
    "        A1 = relu(Z1)\n",
    "\n",
    "        #Hidden to output\n",
    "        Z2 = self.W2 @ A1 + self.b2\n",
    "\n",
    "        #Calculate loss\n",
    "        A2 = softmax(Z2)\n",
    "\n",
    "        return Z1, A1, Z2, A2"
   ]
  },
  {
   "cell_type": "markdown",
   "metadata": {},
   "source": [
    "## __Training__"
   ]
  },
  {
   "cell_type": "code",
   "execution_count": 385,
   "metadata": {},
   "outputs": [],
   "source": [
    "def evaluate(model, X, Y):    \n",
    "    layer_computations = model(X)\n",
    "    A2 = layer_computations[3]\n",
    "\n",
    "    #Find max along column for prediction\n",
    "    y_pred = np.argmax(A2, axis = 0) \n",
    "    y_truth = np.argmax(Y, axis = 0)\n",
    "\n",
    "    acc = np.sum(y_pred == y_truth) / len(y_truth) #same as np.mean\n",
    "    return acc"
   ]
  },
  {
   "cell_type": "code",
   "execution_count": 386,
   "metadata": {},
   "outputs": [],
   "source": [
    "#One epoch of training\n",
    "def train(model, X, Y, criterion, optimizer, val_x = None, val_y = None):\n",
    "     #Forward pass\n",
    "     layer_computations = model(X) #A2 column consists of probabilities of each class\n",
    "     A2 = layer_computations[3]\n",
    "\n",
    "     #Loss calculation\n",
    "     avg_loss = criterion(A2, Y)\n",
    "\n",
    "     #Backprop\n",
    "     partials = criterion.backward(X, Y, model.parameters, layer_computations)\n",
    "\n",
    "     #Gd\n",
    "     updated_params = optimizer.step(model.parameters, partials)\n",
    "     model.update_parameters(updated_params)\n",
    "     \n",
    "     if val_x is not None and val_y is not None:\n",
    "         train_acc = evaluate(model, X, Y)\n",
    "         val_acc = evaluate(model, val_x, val_y)\n",
    "         return avg_loss, train_acc, val_acc\n",
    "     else:\n",
    "          return avg_loss"
   ]
  },
  {
   "cell_type": "markdown",
   "metadata": {},
   "source": [
    "### __Training with Train/Validation Subsets__"
   ]
  },
  {
   "cell_type": "code",
   "execution_count": 407,
   "metadata": {},
   "outputs": [],
   "source": [
    "input_dim = train_images.shape[0]\n",
    "output_dim = train_labels.shape[0]\n",
    "\n",
    "model = MLP(input_dim, hypers.hidden, output_dim)\n",
    "categorical_cross = AvgCategoricalCrossEntropy()\n",
    "optimizer = FullBatchGD(hypers.lr)"
   ]
  },
  {
   "cell_type": "code",
   "execution_count": 408,
   "metadata": {},
   "outputs": [],
   "source": [
    "def train_n_epochs(model, sub_train_x, sub_train_y, categorical_cross, optimizer, val_x, val_y, hypers):\n",
    "    avg_losses = []\n",
    "    val_accs = []\n",
    "    train_accs = []\n",
    "\n",
    "    for epoch in range(hypers.epochs):\n",
    "        avg_loss, train_acc, val_acc = train(model, sub_train_x, sub_train_y, categorical_cross, optimizer, val_x, val_y)\n",
    "        avg_losses.append(avg_loss)\n",
    "        val_accs.append(val_acc)\n",
    "        train_accs.append(train_acc)\n",
    "\n",
    "        if ((epoch + 1) % 10 == 0):\n",
    "            print(f'Epoch {epoch + 1}, Loss: {avg_loss:.2f}, Train Accuracy: {train_acc*100:.2f}%, Val Accuracy: {val_acc*100:.2f}%')\n",
    "        \n",
    "    return avg_losses, val_accs, train_accs"
   ]
  },
  {
   "cell_type": "code",
   "execution_count": 409,
   "metadata": {},
   "outputs": [
    {
     "name": "stdout",
     "output_type": "stream",
     "text": [
      "Epoch 10, Loss: 28.17, Train Accuracy: 22.69%, Val Accuracy: 22.82%\n",
      "Epoch 20, Loss: 22.05, Train Accuracy: 28.54%, Val Accuracy: 29.75%\n",
      "Epoch 30, Loss: 1.86, Train Accuracy: 59.90%, Val Accuracy: 60.70%\n",
      "Epoch 40, Loss: 1.31, Train Accuracy: 67.95%, Val Accuracy: 68.03%\n",
      "Epoch 50, Loss: 1.32, Train Accuracy: 68.25%, Val Accuracy: 68.27%\n",
      "Epoch 60, Loss: 1.10, Train Accuracy: 73.90%, Val Accuracy: 74.14%\n",
      "Epoch 70, Loss: 0.88, Train Accuracy: 73.52%, Val Accuracy: 73.25%\n",
      "Epoch 80, Loss: 0.77, Train Accuracy: 79.64%, Val Accuracy: 79.71%\n",
      "Epoch 90, Loss: 0.85, Train Accuracy: 79.19%, Val Accuracy: 79.24%\n",
      "Epoch 100, Loss: 0.64, Train Accuracy: 83.59%, Val Accuracy: 83.36%\n",
      "Epoch 110, Loss: 0.61, Train Accuracy: 85.00%, Val Accuracy: 85.02%\n",
      "Epoch 120, Loss: 0.59, Train Accuracy: 84.51%, Val Accuracy: 84.60%\n"
     ]
    }
   ],
   "source": [
    "avg_losses, val_accs, train_accs = train_n_epochs(model, sub_train_x, sub_train_y, categorical_cross, optimizer, val_x, val_y, hypers)"
   ]
  },
  {
   "cell_type": "code",
   "execution_count": 411,
   "metadata": {},
   "outputs": [
    {
     "data": {
      "image/png": "[encoded data removed]",
      "text/plain": [
       "<Figure size 900x300 with 2 Axes>"
      ]
     },
     "metadata": {},
     "output_type": "display_data"
    }
   ],
   "source": [
    "all_epochs = np.arange(0, hypers.epochs)\n",
    "\n",
    "#1 row 2 columns, each ax object creates a plot (Axes object is not axis but a subplot)\n",
    "fig, (ax1, ax2) = plt.subplots(1, 2, figsize=(9, 3)) \n",
    "\n",
    "#Avg loss\n",
    "ax1.plot(all_epochs, avg_losses)\n",
    "ax1.set_title(\"Average Loss Per Epoch\")\n",
    "ax1.set_xlabel(\"Number of Epochs\")\n",
    "ax1.set_ylabel(\"Average Loss\")\n",
    "\n",
    "#Val/Train accuracy\n",
    "ax2.plot(all_epochs, val_accs)\n",
    "ax2.plot(all_epochs, train_accs)\n",
    "ax2.set_title(\"Validation and Training Accuracy Per Epoch\")\n",
    "ax2.set_xlabel(\"Number of Epochs\")\n",
    "ax2.set_ylabel(\"Validation Accuracy\")\n",
    "\n",
    "plt.tight_layout() #adjusts spacing\n",
    "plt.show()"
   ]
  },
  {
   "cell_type": "markdown",
   "metadata": {},
   "source": [
    "### __Final Training with Full Train Dataset__"
   ]
  },
  {
   "cell_type": "code",
   "execution_count": 416,
   "metadata": {},
   "outputs": [],
   "source": [
    "model = MLP(input_dim, hypers.hidden, output_dim)"
   ]
  },
  {
   "cell_type": "code",
   "execution_count": 417,
   "metadata": {},
   "outputs": [
    {
     "name": "stdout",
     "output_type": "stream",
     "text": [
      "Epoch 10, Loss: 2.62\n",
      "Epoch 20, Loss: 1.75\n",
      "Epoch 30, Loss: 1.34\n",
      "Epoch 40, Loss: 1.20\n",
      "Epoch 50, Loss: 0.96\n",
      "Epoch 60, Loss: 0.89\n",
      "Epoch 70, Loss: 0.78\n",
      "Epoch 80, Loss: 0.74\n",
      "Epoch 90, Loss: 0.69\n",
      "Epoch 100, Loss: 0.64\n",
      "Epoch 110, Loss: 0.60\n",
      "Epoch 120, Loss: 0.57\n"
     ]
    }
   ],
   "source": [
    "for epoch in range(hypers.epochs):\n",
    "    avg_loss = train(model, sub_train_x, sub_train_y, categorical_cross, optimizer)\n",
    "    if ((epoch + 1) % 10 == 0):\n",
    "        print(f'Epoch {epoch + 1}, Loss: {avg_loss:.2f}')"
   ]
  },
  {
   "cell_type": "markdown",
   "metadata": {},
   "source": [
    "## __Evaluation__"
   ]
  },
  {
   "cell_type": "code",
   "execution_count": 418,
   "metadata": {},
   "outputs": [
    {
     "name": "stdout",
     "output_type": "stream",
     "text": [
      "Train Accuracy: 85.41%\n",
      "Test Accuracy: 84.17%\n"
     ]
    }
   ],
   "source": [
    "train_acc = evaluate(model, train_images, train_labels) \n",
    "test_acc = evaluate(model, test_images, test_labels) \n",
    "\n",
    "\n",
    "print(f'Train Accuracy: {train_acc*100:.2f}%')\n",
    "print(f'Test Accuracy: {test_acc*100:.2f}%')"
   ]
  },
  {
   "cell_type": "markdown",
   "metadata": {},
   "source": [
    "## __Pickling the Model__"
   ]
  },
  {
   "cell_type": "code",
   "execution_count": 419,
   "metadata": {},
   "outputs": [],
   "source": [
    "f_name = \"mlp-scratch-84.17.pkl\""
   ]
  },
  {
   "cell_type": "code",
   "execution_count": 422,
   "metadata": {},
   "outputs": [],
   "source": [
    "#with open(f'../models/{f_name}', 'wb') as f:\n",
    "    #pickle.dump(model, f)"
   ]
  },
  {
   "cell_type": "code",
   "execution_count": 421,
   "metadata": {},
   "outputs": [],
   "source": [
    "# Loading the model\n",
    "with open(f'../models/{f_name}', 'rb') as f:\n",
    "    model = pickle.load(f)"
   ]
  },
  {
   "cell_type": "markdown",
   "metadata": {},
   "source": [
    "## __Inference on New Image__"
   ]
  },
  {
   "cell_type": "markdown",
   "metadata": {},
   "source": [
    "### __Preprocess and Visualizing Image__"
   ]
  },
  {
   "cell_type": "code",
   "execution_count": 423,
   "metadata": {},
   "outputs": [],
   "source": [
    "#Normalize and change to proper dimension\n",
    "def preprocess(image_path):\n",
    "    #Resize and convert to numpy\n",
    "    image = Image.open(image_path).convert('L')\n",
    "    image = np.array(image.resize((28, 28)))\n",
    "    \n",
    "    im_normalized = image / 255.0\n",
    "    \n",
    "    return im_normalized.reshape(784, 1)\n",
    "\n",
    "def preprocess_vis(image_path):\n",
    "    image = Image.open(image_path).convert('L')\n",
    "    return image.resize((28, 28))"
   ]
  },
  {
   "cell_type": "code",
   "execution_count": 453,
   "metadata": {},
   "outputs": [],
   "source": [
    "image_path = '../data/test-images/0.png'\n",
    "\n",
    "visual_im = preprocess_vis(image_path)"
   ]
  },
  {
   "cell_type": "code",
   "execution_count": 454,
   "metadata": {},
   "outputs": [
    {
     "data": {
      "image/png": "[encoded data removed]",
      "text/plain": [
       "<Figure size 600x300 with 1 Axes>"
      ]
     },
     "metadata": {},
     "output_type": "display_data"
    }
   ],
   "source": [
    "plt.figure(figsize=(6, 3))\n",
    "plt.axis(\"off\")\n",
    "\n",
    "#Capture return value\n",
    "_ = plt.imshow(visual_im, cmap=\"grey\")"
   ]
  },
  {
   "cell_type": "markdown",
   "metadata": {},
   "source": [
    "### __Feeding through MLP__"
   ]
  },
  {
   "cell_type": "code",
   "execution_count": 455,
   "metadata": {},
   "outputs": [],
   "source": [
    "def classify_image(model, image_path):\n",
    "    image = preprocess(image_path)\n",
    "\n",
    "\n",
    "    layer_computations = model(image)\n",
    "    A2 = layer_computations[3]\n",
    "\n",
    "    #Extract and sort probabilities\n",
    "    prob_classes = list(enumerate(A2[:, 0]))\n",
    "    prob_classes.sort(key = itemgetter(1), reverse = True)\n",
    "\n",
    "    #Extract classification\n",
    "    y_pred = np.argmax(A2, axis = 0)[0] #Extract only element in the 1d array\n",
    "\n",
    "    return prob_classes, y_pred"
   ]
  },
  {
   "cell_type": "code",
   "execution_count": 456,
   "metadata": {},
   "outputs": [
    {
     "name": "stdout",
     "output_type": "stream",
     "text": [
      "Probability of 2: 60.134%\n",
      "Probability of 9: 13.899%\n",
      "Probability of 4: 7.405%\n",
      "Probability of 1: 7.270%\n",
      "Probability of 7: 3.919%\n",
      "Probability of 3: 2.660%\n",
      "Probability of 6: 2.323%\n",
      "Probability of 5: 1.459%\n",
      "Probability of 8: 0.926%\n",
      "Probability of 0: 0.005%\n",
      "\n",
      "Predicted number: 2\n"
     ]
    }
   ],
   "source": [
    "prob_classes, y_pred = classify_image(model, image_path)\n",
    "\n",
    "for num, probability in prob_classes:\n",
    "    print(f'Probability of {num}:{probability.item() * 100: .3f}%')\n",
    "\n",
    "print(f'\\nPredicted number: {y_pred}')"
   ]
  }
 ],
 "metadata": {
  "kernelspec": {
   "display_name": "myenv",
   "language": "python",
   "name": "python3"
  },
  "language_info": {
   "codemirror_mode": {
    "name": "ipython",
    "version": 3
   },
   "file_extension": ".py",
   "mimetype": "text/x-python",
   "name": "python",
   "nbconvert_exporter": "python",
   "pygments_lexer": "ipython3",
   "version": "3.10.14"
  }
 },
 "nbformat": 4,
 "nbformat_minor": 2
}
