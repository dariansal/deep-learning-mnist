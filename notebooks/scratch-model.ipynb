{
 "cells": [
  {
   "cell_type": "markdown",
   "metadata": {},
   "source": [
    "<center><h1><b><u> Multilayer Perceptron for MNIST Dataset From Scratch</u></b></h1></center>"
   ]
  },
  {
   "cell_type": "markdown",
   "metadata": {},
   "source": [
    "## __Importing Libraries, Classes, and Functions__"
   ]
  },
  {
   "cell_type": "code",
   "execution_count": 70,
   "metadata": {},
   "outputs": [],
   "source": [
    "import numpy as np\n",
    "from operator import itemgetter\n",
    "import random\n",
    "import json\n",
    "import math\n",
    "import pickle\n",
    "import matplotlib.pyplot as plt\n",
    "from PIL import Image"
   ]
  },
  {
   "cell_type": "markdown",
   "metadata": {},
   "source": [
    "## __Loading the Data__"
   ]
  },
  {
   "cell_type": "code",
   "execution_count": 71,
   "metadata": {},
   "outputs": [],
   "source": [
    "def extract_images(filename):\n",
    "    '''Many file formats use magic numbers so that file readers can easily identify them to verify its reading correct file type. This prevents some errors. Each\n",
    "    pixel is represented from value 0-255 (an unsigned byte/8 bit integer). Metadata is big endian (>, normal) and 4 byte/32 bit integer and stored as 1D array.\n",
    "    file.read(x) takes x bytes from the file and creates an immutable buffer (a bytes object, an array of bytes) and stores it in memory. frombuffer interprets buffer object as array\n",
    "    of bytes of certain data type. It doesn't copy the data just provides a view of the existing data and converts to numpy array.'''\n",
    "    with open(filename, 'rb') as f: #read binary\n",
    "        buffer = f.read(16) #metadata\n",
    "        magic, num_images, rows, cols = np.frombuffer(buffer, dtype='>i4') #rows and columns per image (dimensions)\n",
    "        data = np.frombuffer(f.read(), dtype=np.uint8) #read and store remaining data in 1D numpy array; #numpy spaces out elements instead of commas\n",
    "        data = data.reshape(num_images, rows, cols).astype(np.float32) #reshape flat data into 3D, num_image amt of rows x cols arrays\n",
    "    return data\n",
    "\n",
    "def extract_labels(filename):\n",
    "    with open(filename, 'rb') as f:\n",
    "        magic, num_labels = np.frombuffer(f.read(8), dtype='>i4')\n",
    "        labels = np.frombuffer(f.read(), dtype=np.uint8)\n",
    "    return labels\n",
    "\n",
    "def one_hot_encode(labels, num_classes=10):\n",
    "    return np.eye(num_classes)[labels] #certain row of the identity matrix\n",
    "\n",
    "def load_mnist():\n",
    "    data_path = '../data/MNIST/raw'\n",
    "    train_images = extract_images(f'{data_path}/train-images-idx3-ubyte')\n",
    "    train_labels = extract_labels(f'{data_path}/train-labels-idx1-ubyte')\n",
    "    test_images = extract_images(f'{data_path}/t10k-images-idx3-ubyte')\n",
    "    test_labels = extract_labels(f'{data_path}/t10k-labels-idx1-ubyte')\n",
    "\n",
    "    #Make sure data is right shape for forward pass\n",
    "    train_images_flat = train_images.reshape(60000, 784).T\n",
    "    test_images_flat = test_images.reshape(10000, 784).T\n",
    "\n",
    "    train_labels_one_hot = one_hot_encode(train_labels).T\n",
    "    test_labels_one_hot = one_hot_encode(test_labels).T\n",
    "    \n",
    "    return (train_images_flat, train_labels_one_hot), (test_images_flat, test_labels_one_hot) #each dataset is tuple of numpy arrays"
   ]
  },
  {
   "cell_type": "code",
   "execution_count": 72,
   "metadata": {},
   "outputs": [
    {
     "name": "stdout",
     "output_type": "stream",
     "text": [
      "train_x shape: (784, 60000)\n",
      "train_y shape: (10, 60000)\n",
      "test_x shape: (784, 10000)\n",
      "test_y shape: (10, 10000)\n"
     ]
    }
   ],
   "source": [
    "#Comma means tuple containing 1 element otherwise would just be int; numpy arrays come with useful attributes like shape\n",
    "(train_x, train_y), (test_x, test_y) = load_mnist()\n",
    "\n",
    "print(f\"train_x shape: {train_x.shape}\")\n",
    "print(f\"train_y shape: {train_y.shape}\")\n",
    "print(f\"test_x shape: {test_x.shape}\")\n",
    "print(f\"test_y shape: {test_y.shape}\")"
   ]
  },
  {
   "cell_type": "markdown",
   "metadata": {},
   "source": [
    "### __Splitting the Data__"
   ]
  },
  {
   "cell_type": "code",
   "execution_count": 73,
   "metadata": {},
   "outputs": [
    {
     "name": "stdout",
     "output_type": "stream",
     "text": [
      "sub_train_x shape: (784, 48000)\n",
      "sub_train_y shape: (10, 48000)\n",
      "val_x shape: (784, 12000)\n",
      "val_y shape: (10, 12000)\n"
     ]
    }
   ],
   "source": [
    "len_train = train_x.shape[1]\n",
    "\n",
    "split_index = int(len_train * 0.8)  #index separating train and val\n",
    "\n",
    "# Split the array\n",
    "sub_train_x = train_x[:, :split_index]\n",
    "sub_train_y = train_y[:, :split_index]\n",
    "\n",
    "val_x = train_x[:, split_index:]\n",
    "val_y = train_y[:, split_index:]\n",
    "\n",
    "print(\"sub_train_x shape:\", sub_train_x.shape)\n",
    "print(\"sub_train_y shape:\", sub_train_y.shape)\n",
    "print(\"val_x shape:\", val_x.shape)\n",
    "print(\"val_y shape:\", val_y.shape)"
   ]
  },
  {
   "cell_type": "markdown",
   "metadata": {},
   "source": [
    "### __Viewing a Sample__"
   ]
  },
  {
   "cell_type": "code",
   "execution_count": 74,
   "metadata": {},
   "outputs": [
    {
     "data": {
      "image/png": "[encoded data removed]",
      "text/plain": [
       "<Figure size 600x300 with 1 Axes>"
      ]
     },
     "metadata": {},
     "output_type": "display_data"
    }
   ],
   "source": [
    "index = random.randrange(0, train_x.shape[1])\n",
    "\n",
    "plt.figure(figsize=(6, 3))\n",
    "plt.imshow(train_x[:, index].reshape(28,28), cmap = 'gray')\n",
    "plt.axis(\"off\")\n",
    "plt.show()"
   ]
  },
  {
   "cell_type": "markdown",
   "metadata": {},
   "source": [
    "## __Initializing the Hyperparameters__"
   ]
  },
  {
   "cell_type": "code",
   "execution_count": 169,
   "metadata": {},
   "outputs": [],
   "source": [
    "class Hypers:\n",
    "    def __init__(self, hyperpath):\n",
    "        with open(hyperpath, 'r') as file:\n",
    "            hyper_dict = json.load(file)\n",
    "            \n",
    "        self.lr = hyper_dict['learning_rate']\n",
    "        self.b_size = hyper_dict['b_size']\n",
    "        self.epochs = hyper_dict['epochs']\n",
    "        self.hidden = hyper_dict['hidden']\n",
    "\n",
    "\n",
    "#can feed this into functions that need hypers\n",
    "hypers = Hypers('../config/mlp-scratch-hyperparameters.json')"
   ]
  },
  {
   "cell_type": "code",
   "execution_count": 76,
   "metadata": {},
   "outputs": [],
   "source": [
    "def create_mini_batches(X, Y, hypers): #batch -> [mini_batches]\n",
    "    mini_batches = []\n",
    "    n_samples = X.shape[1]\n",
    "    #Randomize order of samples in each epoch to prevent bias (not necesssary for full batch GD)\n",
    "    indices = np.random.permutation(n_samples)\n",
    "\n",
    "\n",
    "    num_batches = math.ceil(n_samples / hypers.b_size)  # Rounding up to account for possible last batch < m\n",
    "    \n",
    "    #For each mini batch\n",
    "    for i in range(num_batches):\n",
    "        #Calculate indices of columns to take subset (can't be greater than n_samples)\n",
    "        batch_start = i * hypers.b_size\n",
    "        batch_end = (i + 1) * hypers.b_size\n",
    "\n",
    "        safe_batch_end = min(batch_end, n_samples)  # Ensure we don't go past n_samples; accounts for last batch\n",
    "        batch_indices = indices[batch_start:safe_batch_end]\n",
    "        \n",
    "        #Take subsets to get a mini batch\n",
    "        X_mini = X[:, batch_indices]\n",
    "        Y_mini = Y[:, batch_indices]\n",
    "\n",
    "        #Append the mini batch\n",
    "        mini_batches.append((X_mini, Y_mini))\n",
    "    \n",
    "    return mini_batches"
   ]
  },
  {
   "cell_type": "markdown",
   "metadata": {},
   "source": []
  },
  {
   "cell_type": "markdown",
   "metadata": {},
   "source": [
    "## __Defining Functions__"
   ]
  },
  {
   "cell_type": "markdown",
   "metadata": {},
   "source": [
    "### __Activations__"
   ]
  },
  {
   "cell_type": "code",
   "execution_count": 77,
   "metadata": {},
   "outputs": [],
   "source": [
    "def softmax(x): #x is vector\n",
    "    # Subtract max for numerical stability, keeping dims for proper broadcasting; axis = 0 is all elements you can reach by varying first index (row), which is a column\n",
    "    x_shifted = x - np.max(x, axis=0, keepdims=True)\n",
    "    \n",
    "    # Compute exponentials\n",
    "    exp_x = np.exp(x_shifted)\n",
    "    \n",
    "    # Compute softmax\n",
    "    return exp_x / np.sum(exp_x, axis=0, keepdims=True)"
   ]
  },
  {
   "cell_type": "code",
   "execution_count": 78,
   "metadata": {},
   "outputs": [],
   "source": [
    "def relu(z):\n",
    "    return np.maximum(z, 0)"
   ]
  },
  {
   "cell_type": "code",
   "execution_count": 79,
   "metadata": {},
   "outputs": [],
   "source": [
    "def drelu_dz(z):\n",
    "    return np.where(z <= 0, 0.0, 1.0).astype(np.float32)"
   ]
  },
  {
   "cell_type": "markdown",
   "metadata": {},
   "source": [
    "### __Parameter Initialization__"
   ]
  },
  {
   "cell_type": "code",
   "execution_count": 80,
   "metadata": {},
   "outputs": [],
   "source": [
    "def he_init(shape):\n",
    "    #output, input\n",
    "    fan_out, fan_in = shape\n",
    "    \n",
    "    #scaling factor; 2 for ReLU\n",
    "    scaling = np.sqrt(2/fan_in)\n",
    "\n",
    "    #create matrix sampled from Gaussian and multiply by scaling factor\n",
    "    return np.random.randn(fan_out, fan_in) * scaling"
   ]
  },
  {
   "cell_type": "markdown",
   "metadata": {},
   "source": [
    "## __Model Structure__"
   ]
  },
  {
   "cell_type": "markdown",
   "metadata": {},
   "source": [
    "### __Average Loss Function for Categorical Cross-Entropy__"
   ]
  },
  {
   "cell_type": "code",
   "execution_count": 81,
   "metadata": {},
   "outputs": [],
   "source": [
    "class AvgCategoricalCrossEntropy:\n",
    "    #loss function\n",
    "    def __call__(self, A2, Y):\n",
    "        m = Y.shape[1]\n",
    "        \n",
    "        epsilon=1e-15\n",
    "        A2_safe = np.maximum(A2, epsilon)\n",
    "\n",
    "        #same as doing (1/m) * sum of all columns (sum of values in a column of Y * np.log(A2_safe)); (1/m) total loss across whole batch\n",
    "        return (-1/m) * np.sum(Y * np.log(A2_safe)) \n",
    "    \n",
    "\n",
    "    def backward(self, X, Y, parameters, layer_computations):\n",
    "        W1, b1, W2, b2 = parameters\n",
    "        Z1, A1, Z2, A2 = layer_computations\n",
    "\n",
    "        m = X.shape[1] #batch size\n",
    "\n",
    "        dZ2 = (A2 - Y)\n",
    "        dW2 = (1/m)*(dZ2 @ A1.T)\n",
    "        db2 = (1/m)*np.sum(dZ2, axis = 1, keepdims = True) #sums across each row for all rows (summing the columns)\n",
    "\n",
    "        dZ1 = (W2.T @ dZ2)*drelu_dz(Z1) \n",
    "        dW1 = (1/m)*(dZ1 @ X.T)\n",
    "        db1 = (1/m)*np.sum(dZ1, axis = 1, keepdims = True)\n",
    "\n",
    "\n",
    "        #{'dW1': dW1, 'db1': db1, 'dW2' : dW2, 'db2': db2}\n",
    "        return dW1, db1, dW2, db2"
   ]
  },
  {
   "cell_type": "markdown",
   "metadata": {},
   "source": [
    "### __Optimizer__"
   ]
  },
  {
   "cell_type": "code",
   "execution_count": 82,
   "metadata": {},
   "outputs": [],
   "source": [
    "class StochasticGD:\n",
    "    def __init__(self, lr = 0.01):\n",
    "        self.lr = lr\n",
    "\n",
    "    def step(self, parameters, partials):\n",
    "        #Unpack info\n",
    "        W1, b1, W2, b2 = parameters\n",
    "        dW1, db1, dW2, db2 = partials\n",
    "        \n",
    "        #Take step and update parameters in model object\n",
    "        W1 = W1 - self.lr*dW1\n",
    "        b1 = b1 - self.lr*db1\n",
    "        W2 = W2 - self.lr*dW2\n",
    "        b2 = b2 - self.lr*db2\n",
    "\n",
    "        return W1, b1, W2, b2"
   ]
  },
  {
   "cell_type": "markdown",
   "metadata": {},
   "source": [
    "### __The MLP__"
   ]
  },
  {
   "cell_type": "code",
   "execution_count": 83,
   "metadata": {},
   "outputs": [],
   "source": [
    "class MLP:\n",
    "    def __init__(self, input_dim, hidden_dim, output_dim):\n",
    "        \n",
    "        #Input to hidden\n",
    "        self.W1 = he_init((hidden_dim, input_dim)) \n",
    "        self.b1 = he_init((hidden_dim, 1))\n",
    "\n",
    "        #hidden to output\n",
    "        self.W2 = he_init((output_dim, hidden_dim))\n",
    "        self.b2 = he_init((output_dim, 1))\n",
    "        \n",
    "        self.parameters = self.W1, self.b1, self.W2, self.b2\n",
    "    \n",
    "    def update_parameters(self, updated_params):\n",
    "            self.parameters = updated_params\n",
    "            self.W1, self.b1, self.W2, self.b2 = updated_params #makes sure the parameter attributes update for their use in __call__\n",
    "        \n",
    "    #forward\n",
    "    def __call__(self, X, view_prob = False):\n",
    "        #input to hidden\n",
    "        Z1 = self.W1 @ X + self.b1 \n",
    "        A1 = relu(Z1)\n",
    "\n",
    "        #Hidden to output\n",
    "        Z2 = self.W2 @ A1 + self.b2\n",
    "\n",
    "        #Calculate loss\n",
    "        A2 = softmax(Z2)\n",
    "\n",
    "        return Z1, A1, Z2, A2"
   ]
  },
  {
   "cell_type": "markdown",
   "metadata": {},
   "source": [
    "## __Training__"
   ]
  },
  {
   "cell_type": "code",
   "execution_count": 84,
   "metadata": {},
   "outputs": [],
   "source": [
    "def evaluate(model, X, Y):    \n",
    "    layer_computations = model(X)\n",
    "    A2 = layer_computations[3]\n",
    "\n",
    "    #Find max along column for prediction\n",
    "    y_pred = np.argmax(A2, axis = 0) \n",
    "    y_truth = np.argmax(Y, axis = 0)\n",
    "    \n",
    "    acc = np.sum(y_pred == y_truth) / len(y_truth) #same as np.mean\n",
    "    return acc"
   ]
  },
  {
   "cell_type": "code",
   "execution_count": 85,
   "metadata": {},
   "outputs": [],
   "source": [
    "#One epoch of training\n",
    "def train_one_epoch(model, X, Y, criterion, optimizer, hypers, val_x = None, val_y = None):\n",
    "    mini_batches = create_mini_batches(X, Y, hypers)\n",
    "    total_loss = 0\n",
    "\n",
    "    for X_mini, Y_mini in mini_batches:\n",
    "        #Forward pass\n",
    "        layer_computations = model(X_mini) #A2 column consists of probabilities of each class\n",
    "        A2 = layer_computations[3]\n",
    "\n",
    "        #Loss calculation (not necessary for backprop/training)\n",
    "        avg_loss = criterion(A2, Y_mini) #avg loss across all samples in mini batch\n",
    "        total_loss += avg_loss\n",
    "\n",
    "        #Backprop\n",
    "        partials = criterion.backward(X_mini, Y_mini, model.parameters, layer_computations)\n",
    "\n",
    "        #Gd\n",
    "        updated_params = optimizer.step(model.parameters, partials)\n",
    "        model.update_parameters(updated_params)\n",
    "    \n",
    "    avg_mini_batch_loss = total_loss/len(mini_batches)\n",
    "     \n",
    "    if val_x is not None and val_y is not None:\n",
    "        train_acc = evaluate(model, X, Y)\n",
    "        val_acc = evaluate(model, val_x, val_y)\n",
    "        return avg_mini_batch_loss, train_acc, val_acc\n",
    "    else:\n",
    "        return avg_mini_batch_loss"
   ]
  },
  {
   "cell_type": "code",
   "execution_count": 89,
   "metadata": {},
   "outputs": [],
   "source": [
    "def train_n_epochs(model, train_x, train_y, categorical_cross, optimizer, val_x, val_y, hypers):\n",
    "    avg_losses = []\n",
    "    val_accs = []\n",
    "    train_accs = []\n",
    "\n",
    "    for epoch in range(hypers.epochs):\n",
    "        #avg_loss = avg loss across all mini batches in epoch = avg epoch loss\n",
    "        avg_loss, train_acc, val_acc = train_one_epoch(model, train_x, train_y, categorical_cross, optimizer, hypers, val_x, val_y)\n",
    "        avg_losses.append(avg_loss)\n",
    "        val_accs.append(val_acc)\n",
    "        train_accs.append(train_acc)\n",
    "\n",
    "        if ((epoch + 1) % 10 == 0 or epoch == hypers.epochs - 1):\n",
    "            print(f'Epoch {epoch + 1}, Loss: {avg_loss:.4f}, Train Accuracy: {train_acc*100:.2f}%, Val Accuracy: {val_acc*100:.2f}%')\n",
    "        \n",
    "    return avg_losses, val_accs, train_accs"
   ]
  },
  {
   "cell_type": "markdown",
   "metadata": {},
   "source": [
    "### __Training with Train/Validation Subsets__"
   ]
  },
  {
   "cell_type": "code",
   "execution_count": 90,
   "metadata": {},
   "outputs": [],
   "source": [
    "input_dim = train_x.shape[0]\n",
    "output_dim = train_y.shape[0]\n",
    "\n",
    "model = MLP(input_dim, hypers.hidden, output_dim)\n",
    "categorical_cross = AvgCategoricalCrossEntropy()\n",
    "optimizer = StochasticGD(hypers.lr)"
   ]
  },
  {
   "cell_type": "code",
   "execution_count": 91,
   "metadata": {},
   "outputs": [
    {
     "name": "stdout",
     "output_type": "stream",
     "text": [
      "Epoch 10, Loss: 0.0836, Train Accuracy: 97.81%, Val Accuracy: 93.96%\n",
      "Epoch 20, Loss: 0.0303, Train Accuracy: 99.23%, Val Accuracy: 94.95%\n",
      "Epoch 30, Loss: 0.0141, Train Accuracy: 99.73%, Val Accuracy: 95.38%\n",
      "Epoch 40, Loss: 0.0076, Train Accuracy: 99.87%, Val Accuracy: 95.38%\n",
      "Epoch 50, Loss: 0.0046, Train Accuracy: 99.94%, Val Accuracy: 95.47%\n",
      "Epoch 60, Loss: 0.0030, Train Accuracy: 99.97%, Val Accuracy: 95.52%\n",
      "Epoch 70, Loss: 0.0022, Train Accuracy: 99.99%, Val Accuracy: 95.56%\n",
      "Epoch 80, Loss: 0.0017, Train Accuracy: 99.99%, Val Accuracy: 95.59%\n",
      "Epoch 90, Loss: 0.0014, Train Accuracy: 99.99%, Val Accuracy: 95.63%\n",
      "Epoch 100, Loss: 0.0011, Train Accuracy: 99.99%, Val Accuracy: 95.62%\n",
      "Epoch 110, Loss: 0.0010, Train Accuracy: 99.99%, Val Accuracy: 95.70%\n",
      "Epoch 120, Loss: 0.0008, Train Accuracy: 99.99%, Val Accuracy: 95.66%\n"
     ]
    }
   ],
   "source": [
    "avg_losses, val_accs, train_accs = train_n_epochs(model, sub_train_x, sub_train_y, categorical_cross, optimizer, val_x, val_y, hypers)"
   ]
  },
  {
   "cell_type": "markdown",
   "metadata": {},
   "source": [
    "### __Visual of Loss and Validation Accuracy Per Epoch__"
   ]
  },
  {
   "cell_type": "code",
   "execution_count": 93,
   "metadata": {},
   "outputs": [
    {
     "data": {
      "image/png": "[encoded data removed]",
      "text/plain": [
       "<Figure size 900x300 with 2 Axes>"
      ]
     },
     "metadata": {},
     "output_type": "display_data"
    }
   ],
   "source": [
    "all_epochs = np.arange(0, hypers.epochs)\n",
    "\n",
    "#1 row 2 columns, each ax object creates a plot (Axes object is not axis but a subplot)\n",
    "fig, (ax1, ax2) = plt.subplots(1, 2, figsize=(9, 3)) \n",
    "\n",
    "#Avg loss\n",
    "ax1.plot(all_epochs, avg_losses)\n",
    "ax1.set_title(\"Average Loss Per Epoch\")\n",
    "ax1.set_xlabel(\"Number of Epochs\")\n",
    "ax1.set_ylabel(\"Average Loss\")\n",
    "\n",
    "#Val/Train accuracy\n",
    "ax2.plot(all_epochs, val_accs)\n",
    "ax2.plot(all_epochs, train_accs)\n",
    "ax2.set_title(\"Validation and Training Accuracy Per Epoch\")\n",
    "ax2.set_xlabel(\"Number of Epochs\")\n",
    "ax2.set_ylabel(\"Accuracy\")\n",
    "\n",
    "plt.tight_layout() #adjusts spacing\n",
    "plt.show()"
   ]
  },
  {
   "cell_type": "markdown",
   "metadata": {},
   "source": [
    "### __Hyperparameter Tuning with Gridsearch__"
   ]
  },
  {
   "cell_type": "code",
   "execution_count": 94,
   "metadata": {},
   "outputs": [],
   "source": [
    "#For grid search (different values printed and returned)\n",
    "def train_n_epochs_grid(model, sub_train_x, sub_train_y, categorical_cross, optimizer, val_x, val_y, hypers):\n",
    "    avg_losses = []\n",
    "    val_accs = []\n",
    "    train_accs = []\n",
    "\n",
    "    for epoch in range(hypers.epochs):\n",
    "        avg_loss, train_acc, val_acc = train_one_epoch(model, sub_train_x, sub_train_y, categorical_cross, optimizer, hypers, val_x, val_y)\n",
    "        avg_losses.append(avg_loss)\n",
    "        val_accs.append(val_acc)\n",
    "        train_accs.append(train_acc)\n",
    "\n",
    "        if (epoch == 0 or epoch == hypers.epochs - 1):\n",
    "            print(f'Epoch {epoch + 1}, Loss: {avg_loss:.4f}, Train Accuracy: {train_acc*100:.2f}%, Val Accuracy: {val_acc*100:.2f}%')\n",
    "        \n",
    "    \n",
    "    #Return final validation accuracy\n",
    "    return val_acc"
   ]
  },
  {
   "cell_type": "code",
   "execution_count": 95,
   "metadata": {},
   "outputs": [],
   "source": [
    "def alter_hyper(hypers, hypercombo):\n",
    "    hypers.lr = hypercombo['lr']\n",
    "    hypers.b_size = hypercombo['b_size']\n",
    "    hypers.epochs = hypercombo['epochs']\n",
    "    hypers.hidden = hypercombo['hidden']"
   ]
  },
  {
   "cell_type": "code",
   "execution_count": 96,
   "metadata": {},
   "outputs": [],
   "source": [
    "#list of all possible dict combinations of hypers\n",
    "def create_param_grid(hyperdict):\n",
    "    '''For hyperparameter i, go through all the dictionaries currently in the parameter grid. Within each \"base\" dictionary of this parameter grid, add key value pair (hyper i: valj),\n",
    "    incremting j until you add all values to this \"base\" dictionary. Append each of these dictionaries to the parameter grid. Repeat for all hyperparameters to get all possible combinatinos.\n",
    "    dictionaries. Must create copy so we don't lose possible combinations. For example, if we had with two key value pairs in param_combo and we were iterating through the values of the second key \n",
    "    still, we would be within the param_combo loop still and end up just replacing the values in this dictionary (which is in param_grid). This new approach copying is essentially \"resetting\" \n",
    "    the dictionary to what it was before and creating len(values for hyper i) of that.'''\n",
    "\n",
    "    param_grid = [{}]\n",
    "    for hyper in hyperdict.keys():\n",
    "        #do this because we will iterate over param_grid and don't want to modify while iterating over it\n",
    "        new_param_grid = []\n",
    "\n",
    "        #For each existing combination\n",
    "        for param_combo in param_grid:\n",
    "            for val in hyperdict[hyper]:\n",
    "                #Must create copy so we don't lose possible combinations\n",
    "                new_params = param_combo.copy() \n",
    "                new_params[hyper] = val #no copy means param_combo here would replace value in param grid dict\n",
    "                new_param_grid.append(new_params)\n",
    "        param_grid = new_param_grid\n",
    "    return param_grid"
   ]
  },
  {
   "cell_type": "code",
   "execution_count": 106,
   "metadata": {},
   "outputs": [],
   "source": [
    "def grid_search(hyperdict, hypers, sub_train_x, sub_train_y, categorical_cross, optimizer, val_x, val_y):\n",
    "    best_hypers = None\n",
    "    best_val_accuracy = 0\n",
    "    orig_hypers = hypers #store original hypers to reset before end of search\n",
    "    \n",
    "    for hypercombo in create_param_grid(hyperdict): \n",
    "        #Use the new hyperparameter combo\n",
    "        alter_hyper(hypers, hypercombo)\n",
    "        print(hypercombo)\n",
    "\n",
    "        #Reinstantiate model and optimizer\n",
    "        model = MLP(input_dim, hypers.hidden, output_dim)\n",
    "        optimizer = StochasticGD(hypers.lr)\n",
    "\n",
    "        #Train the model\n",
    "        val_accuracy = train_n_epochs_grid(model, sub_train_x, sub_train_y, categorical_cross, optimizer, val_x, val_y, hypers)\n",
    "        print(f'\\n\\033[1mVal Accuracy: {val_accuracy*100:.2f}%\\033[0m\\n')\n",
    "        \n",
    "        #Update the best hyperparameters and validation accuracy\n",
    "        if (val_accuracy > best_val_accuracy):\n",
    "            best_val_accuracy = val_accuracy\n",
    "            best_hypers = hypercombo\n",
    "    \n",
    "    hypers = orig_hypers\n",
    "    return best_hypers, best_val_accuracy"
   ]
  },
  {
   "cell_type": "code",
   "execution_count": 107,
   "metadata": {},
   "outputs": [
    {
     "name": "stdout",
     "output_type": "stream",
     "text": [
      "{'lr': 0.01, 'b_size': 128, 'epochs': 100, 'hidden': 1024}\n",
      "Epoch 1, Loss: 1.79, Train Accuracy: 88.69%, Val Accuracy: 88.82%\n",
      "Epoch 100, Loss: 0.00, Train Accuracy: 99.89%, Val Accuracy: 96.38%\n",
      "\n",
      "\u001b[1mVal Accuracy: 96.38%\u001b[0m\n",
      "\n",
      "{'lr': 0.01, 'b_size': 128, 'epochs': 100, 'hidden': 2048}\n",
      "Epoch 1, Loss: 4.69, Train Accuracy: 84.97%, Val Accuracy: 85.52%\n",
      "Epoch 100, Loss: 0.03, Train Accuracy: 99.41%, Val Accuracy: 95.74%\n",
      "\n",
      "\u001b[1mVal Accuracy: 95.74%\u001b[0m\n",
      "\n",
      "{'lr': 0.01, 'b_size': 128, 'epochs': 125, 'hidden': 1024}\n",
      "Epoch 1, Loss: 1.40, Train Accuracy: 89.00%, Val Accuracy: 88.97%\n",
      "Epoch 125, Loss: 0.00, Train Accuracy: 99.94%, Val Accuracy: 96.43%\n",
      "\n",
      "\u001b[1mVal Accuracy: 96.43%\u001b[0m\n",
      "\n",
      "{'lr': 0.01, 'b_size': 128, 'epochs': 125, 'hidden': 2048}\n",
      "Epoch 1, Loss: 2.18, Train Accuracy: 91.05%, Val Accuracy: 90.40%\n",
      "Epoch 125, Loss: 0.00, Train Accuracy: 99.97%, Val Accuracy: 96.29%\n",
      "\n",
      "\u001b[1mVal Accuracy: 96.29%\u001b[0m\n",
      "\n",
      "{'lr': 0.01, 'b_size': 512, 'epochs': 100, 'hidden': 1024}\n",
      "Epoch 1, Loss: 2.91, Train Accuracy: 85.14%, Val Accuracy: 85.20%\n",
      "Epoch 100, Loss: 0.00, Train Accuracy: 99.95%, Val Accuracy: 95.34%\n",
      "\n",
      "\u001b[1mVal Accuracy: 95.34%\u001b[0m\n",
      "\n",
      "{'lr': 0.01, 'b_size': 512, 'epochs': 100, 'hidden': 2048}\n",
      "Epoch 1, Loss: 2.89, Train Accuracy: 86.27%, Val Accuracy: 86.36%\n",
      "Epoch 100, Loss: 0.00, Train Accuracy: 99.96%, Val Accuracy: 95.33%\n",
      "\n",
      "\u001b[1mVal Accuracy: 95.33%\u001b[0m\n",
      "\n",
      "{'lr': 0.01, 'b_size': 512, 'epochs': 125, 'hidden': 1024}\n",
      "Epoch 1, Loss: 3.04, Train Accuracy: 82.91%, Val Accuracy: 82.92%\n",
      "Epoch 125, Loss: 0.00, Train Accuracy: 99.91%, Val Accuracy: 95.14%\n",
      "\n",
      "\u001b[1mVal Accuracy: 95.14%\u001b[0m\n",
      "\n",
      "{'lr': 0.01, 'b_size': 512, 'epochs': 125, 'hidden': 2048}\n",
      "Epoch 1, Loss: 2.51, Train Accuracy: 86.84%, Val Accuracy: 85.91%\n",
      "Epoch 125, Loss: 0.00, Train Accuracy: 100.00%, Val Accuracy: 95.67%\n",
      "\n",
      "\u001b[1mVal Accuracy: 95.67%\u001b[0m\n",
      "\n"
     ]
    }
   ],
   "source": [
    "hyperdict = {\n",
    "    'lr': [0.01],\n",
    "    'b_size': [128, 512],\n",
    "    'epochs': [100, 125],\n",
    "    'hidden': [1024, 2048]\n",
    "}\n",
    "\n",
    "categorical_cross = AvgCategoricalCrossEntropy()\n",
    "\n",
    "best_hypers, best_val_accuracy = grid_search(hyperdict, hypers, sub_train_x, sub_train_y, categorical_cross, optimizer, val_x, val_y)"
   ]
  },
  {
   "cell_type": "code",
   "execution_count": 108,
   "metadata": {},
   "outputs": [
    {
     "name": "stdout",
     "output_type": "stream",
     "text": [
      "\n",
      "\u001b[1mBest Hyperparameters: {'lr': 0.01, 'b_size': 128, 'epochs': 125, 'hidden': 1024}\n",
      "Best Validation Accuracy: 96.43%\u001b[0m\n"
     ]
    }
   ],
   "source": [
    "print(f'\\n\\033[1mBest Hyperparameters: {best_hypers}\\nBest Validation Accuracy:{best_val_accuracy*100: .2f}%\\033[0m')"
   ]
  },
  {
   "cell_type": "markdown",
   "metadata": {},
   "source": [
    "### __Final Training with Full Train Dataset__"
   ]
  },
  {
   "cell_type": "code",
   "execution_count": 176,
   "metadata": {},
   "outputs": [],
   "source": [
    "model = MLP(input_dim, hypers.hidden, output_dim)\n",
    "optimizer = StochasticGD(hypers.lr)\n",
    "categorical_cross = AvgCategoricalCrossEntropy()"
   ]
  },
  {
   "cell_type": "code",
   "execution_count": 177,
   "metadata": {},
   "outputs": [
    {
     "name": "stdout",
     "output_type": "stream",
     "text": [
      "Epoch 1, Loss: 2.2921\n",
      "Epoch 125, Loss: 0.0020\n"
     ]
    }
   ],
   "source": [
    "for epoch in range(hypers.epochs):\n",
    "    avg_loss = train_one_epoch(model, train_x, train_y, categorical_cross, optimizer, hypers)\n",
    "    if (epoch == 0 or epoch == hypers.epochs - 1):\n",
    "            print(f'Epoch {epoch + 1}, Loss: {avg_loss:.4f}')"
   ]
  },
  {
   "cell_type": "markdown",
   "metadata": {},
   "source": [
    "## __Evaluation__"
   ]
  },
  {
   "cell_type": "code",
   "execution_count": 178,
   "metadata": {},
   "outputs": [
    {
     "name": "stdout",
     "output_type": "stream",
     "text": [
      "Train Accuracy: 99.93%\n",
      "Test Accuracy: 96.70%\n"
     ]
    }
   ],
   "source": [
    "train_acc = evaluate(model, train_x, train_y) \n",
    "test_acc = evaluate(model, test_x, test_y) \n",
    "\n",
    "\n",
    "print(f'Train Accuracy: {train_acc*100:.2f}%')\n",
    "print(f'Test Accuracy: {test_acc*100:.2f}%')"
   ]
  },
  {
   "cell_type": "markdown",
   "metadata": {},
   "source": [
    "## __Pickling the Model__"
   ]
  },
  {
   "cell_type": "code",
   "execution_count": 179,
   "metadata": {},
   "outputs": [],
   "source": [
    "f_name = f\"mlp-scratch-{test_acc*100:.2f}.pkl\""
   ]
  },
  {
   "cell_type": "code",
   "execution_count": 180,
   "metadata": {},
   "outputs": [],
   "source": [
    "#Saving the moddel\n",
    "#with open(f'../models/{f_name}', 'wb') as f:\n",
    "    #pickle.dump(model, f)"
   ]
  },
  {
   "cell_type": "code",
   "execution_count": 181,
   "metadata": {},
   "outputs": [],
   "source": [
    "# Loading the model\n",
    "with open(f'../models/{f_name}', 'rb') as f:\n",
    "    model = pickle.load(f)"
   ]
  },
  {
   "cell_type": "markdown",
   "metadata": {},
   "source": [
    "## __Inference on New Image__"
   ]
  },
  {
   "cell_type": "markdown",
   "metadata": {},
   "source": [
    "### __Preprocess and Visualizing Image__"
   ]
  },
  {
   "cell_type": "code",
   "execution_count": 182,
   "metadata": {},
   "outputs": [],
   "source": [
    "#Normalize and change to proper dimension\n",
    "def preprocess(image_path):\n",
    "    #Resize and convert to numpy\n",
    "    image = Image.open(image_path).convert('L')\n",
    "    image = np.array(image.resize((28, 28)))\n",
    "    \n",
    "    im_normalized = image / 255.0\n",
    "    \n",
    "    return im_normalized.reshape(784, 1)\n",
    "\n",
    "def preprocess_vis(image_path):\n",
    "    image = Image.open(image_path).convert('L')\n",
    "    return image.resize((28, 28))"
   ]
  },
  {
   "cell_type": "code",
   "execution_count": 223,
   "metadata": {},
   "outputs": [],
   "source": [
    "image_path = '../data/test-images/1.png'\n",
    "\n",
    "visual_im = preprocess_vis(image_path)"
   ]
  },
  {
   "cell_type": "code",
   "execution_count": 224,
   "metadata": {},
   "outputs": [
    {
     "data": {
      "image/png": "[encoded data removed]",
      "text/plain": [
       "<Figure size 600x300 with 1 Axes>"
      ]
     },
     "metadata": {},
     "output_type": "display_data"
    }
   ],
   "source": [
    "plt.figure(figsize=(6, 3))\n",
    "plt.axis(\"off\")\n",
    "\n",
    "#Capture return value\n",
    "_ = plt.imshow(visual_im, cmap=\"grey\")"
   ]
  },
  {
   "cell_type": "markdown",
   "metadata": {},
   "source": [
    "### __Feeding through MLP__"
   ]
  },
  {
   "cell_type": "code",
   "execution_count": 225,
   "metadata": {},
   "outputs": [],
   "source": [
    "def classify_image(model, image_path):\n",
    "    image = preprocess(image_path)\n",
    "\n",
    "\n",
    "    layer_computations = model(image)\n",
    "    A2 = layer_computations[3]\n",
    "\n",
    "    #Extract and sort probabilities\n",
    "    prob_classes = list(enumerate(A2[:, 0])) # [(0, .70), ...]\n",
    "    prob_classes.sort(key = itemgetter(1), reverse = True)\n",
    "\n",
    "    #Extract classification\n",
    "    y_pred = np.argmax(A2, axis = 0)[0] #Extract only element in the 1d array\n",
    "\n",
    "    return prob_classes, y_pred"
   ]
  },
  {
   "cell_type": "code",
   "execution_count": 226,
   "metadata": {},
   "outputs": [
    {
     "name": "stdout",
     "output_type": "stream",
     "text": [
      "Probability of 1: 65.587%\n",
      "Probability of 8: 29.290%\n",
      "Probability of 0: 2.889%\n",
      "Probability of 3: 1.938%\n",
      "Probability of 4: 0.209%\n",
      "Probability of 9: 0.056%\n",
      "Probability of 6: 0.018%\n",
      "Probability of 5: 0.010%\n",
      "Probability of 7: 0.002%\n",
      "Probability of 2: 0.000%\n",
      "\n",
      "Predicted number: 1\n"
     ]
    }
   ],
   "source": [
    "'''Test images are likely out of distribution.'''\n",
    "prob_classes, y_pred = classify_image(model, image_path)\n",
    "\n",
    "for num, probability in prob_classes:\n",
    "    print(f'Probability of {num}:{probability.item() * 100: .3f}%')\n",
    "\n",
    "print(f'\\nPredicted number: {y_pred}')"
   ]
  }
 ],
 "metadata": {
  "kernelspec": {
   "display_name": "myenv",
   "language": "python",
   "name": "python3"
  },
  "language_info": {
   "codemirror_mode": {
    "name": "ipython",
    "version": 3
   },
   "file_extension": ".py",
   "mimetype": "text/x-python",
   "name": "python",
   "nbconvert_exporter": "python",
   "pygments_lexer": "ipython3",
   "version": "3.10.14"
  }
 },
 "nbformat": 4,
 "nbformat_minor": 2
}
