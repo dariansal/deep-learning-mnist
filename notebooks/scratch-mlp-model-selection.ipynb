{
 "cells": [
  {
   "cell_type": "markdown",
   "metadata": {},
   "source": [
    "<center><h1><b><u> Multilayer Perceptron for MNIST Dataset From Scratch</u></b></h1></center>"
   ]
  },
  {
   "cell_type": "markdown",
   "metadata": {},
   "source": [
    "## __Importing Libraries, Classes, and Functions__"
   ]
  },
  {
   "cell_type": "code",
   "execution_count": 140,
   "metadata": {},
   "outputs": [],
   "source": [
    "import numpy as np\n",
    "from operator import itemgetter\n",
    "import random\n",
    "import json\n",
    "import math\n",
    "import pickle\n",
    "import matplotlib.pyplot as plt\n",
    "from PIL import Image"
   ]
  },
  {
   "cell_type": "markdown",
   "metadata": {},
   "source": [
    "## __Initializing the Hyperparameters__"
   ]
  },
  {
   "cell_type": "code",
   "execution_count": 145,
   "metadata": {},
   "outputs": [],
   "source": [
    "class Hypers:\n",
    "    def __init__(self, hyperpath):\n",
    "        with open(hyperpath, 'r') as file:\n",
    "            hyper_dict = json.load(file)\n",
    "            \n",
    "        self.lr = hyper_dict['learning_rate']\n",
    "        self.b_size = hyper_dict['b_size']\n",
    "        self.epochs = hyper_dict['epochs']\n",
    "        self.hidden = hyper_dict['hidden']\n",
    "\n",
    "\n",
    "#can feed this into functions that need hypers\n",
    "hypers = Hypers('../config/mlp-scratch-hyperparameters.json')"
   ]
  },
  {
   "cell_type": "markdown",
   "metadata": {},
   "source": [
    "## __Loading the Data__"
   ]
  },
  {
   "cell_type": "code",
   "execution_count": 141,
   "metadata": {},
   "outputs": [],
   "source": [
    "def extract_images(filename):\n",
    "    '''Many file formats use magic numbers so that file readers can easily identify them to verify its reading correct file type. This prevents some errors. Each\n",
    "    pixel is represented from value 0-255 (an unsigned byte/8 bit integer). Metadata is big endian (>, normal) and 4 byte/32 bit integer and stored as 1D array.\n",
    "    file.read(x) takes x bytes from the file and creates an immutable buffer (a bytes object, an array of bytes) and stores it in memory. frombuffer interprets buffer object as array\n",
    "    of bytes of certain data type. It doesn't copy the data just provides a view of the existing data and converts to numpy array.'''\n",
    "    with open(filename, 'rb') as f: #read binary\n",
    "        buffer = f.read(16) #metadata\n",
    "        magic, num_images, rows, cols = np.frombuffer(buffer, dtype='>i4') #rows and columns per image (dimensions)\n",
    "        data = np.frombuffer(f.read(), dtype=np.uint8) #read and store remaining data in 1D numpy array; #numpy spaces out elements instead of commas\n",
    "        data = data.reshape(num_images, rows, cols).astype(np.float32) #reshape flat data into 3D, num_image amt of rows x cols arrays\n",
    "    return data\n",
    "\n",
    "def extract_labels(filename):\n",
    "    with open(filename, 'rb') as f:\n",
    "        magic, num_labels = np.frombuffer(f.read(8), dtype='>i4')\n",
    "        labels = np.frombuffer(f.read(), dtype=np.uint8)\n",
    "    return labels\n",
    "\n",
    "def one_hot_encode(labels, num_classes=10):\n",
    "    return np.eye(num_classes)[labels] #certain row of the identity matrix\n",
    "\n",
    "def load_mnist():\n",
    "    data_path = '../data/MNIST/raw'\n",
    "    train_images = extract_images(f'{data_path}/train-images-idx3-ubyte')\n",
    "    train_labels = extract_labels(f'{data_path}/train-labels-idx1-ubyte')\n",
    "    test_images = extract_images(f'{data_path}/t10k-images-idx3-ubyte')\n",
    "    test_labels = extract_labels(f'{data_path}/t10k-labels-idx1-ubyte')\n",
    "\n",
    "    # Normalize the image data\n",
    "    train_images = train_images / 255.0\n",
    "    test_images = test_images / 255.0\n",
    "\n",
    "    #Make sure data is right shape for forward pass\n",
    "    train_images_flat = train_images.reshape(60000, 784).T\n",
    "    test_images_flat = test_images.reshape(10000, 784).T\n",
    "\n",
    "    train_labels_one_hot = one_hot_encode(train_labels).T\n",
    "    test_labels_one_hot = one_hot_encode(test_labels).T\n",
    "    \n",
    "    return (train_images_flat, train_labels_one_hot), (test_images_flat, test_labels_one_hot) #each dataset is tuple of numpy arrays"
   ]
  },
  {
   "cell_type": "code",
   "execution_count": 142,
   "metadata": {},
   "outputs": [
    {
     "name": "stdout",
     "output_type": "stream",
     "text": [
      "train_x shape: (784, 60000)\n",
      "train_y shape: (10, 60000)\n",
      "test_x shape: (784, 10000)\n",
      "test_y shape: (10, 10000)\n"
     ]
    }
   ],
   "source": [
    "#Comma means tuple containing 1 element otherwise would just be int; numpy arrays come with useful attributes like shape\n",
    "(train_x, train_y), (test_x, test_y) = load_mnist()\n",
    "\n",
    "print(f\"train_x shape: {train_x.shape}\")\n",
    "print(f\"train_y shape: {train_y.shape}\")\n",
    "print(f\"test_x shape: {test_x.shape}\")\n",
    "print(f\"test_y shape: {test_y.shape}\")"
   ]
  },
  {
   "cell_type": "markdown",
   "metadata": {},
   "source": [
    "### __Splitting the Data__"
   ]
  },
  {
   "cell_type": "code",
   "execution_count": 143,
   "metadata": {},
   "outputs": [
    {
     "name": "stdout",
     "output_type": "stream",
     "text": [
      "sub_train_x shape: (784, 48000)\n",
      "sub_train_y shape: (10, 48000)\n",
      "val_x shape: (784, 12000)\n",
      "val_y shape: (10, 12000)\n"
     ]
    }
   ],
   "source": [
    "len_train = train_x.shape[1]\n",
    "\n",
    "split_index = int(len_train * 0.8)  #index separating train and val\n",
    "\n",
    "# Split the array\n",
    "sub_train_x = train_x[:, :split_index]\n",
    "sub_train_y = train_y[:, :split_index]\n",
    "\n",
    "val_x = train_x[:, split_index:]\n",
    "val_y = train_y[:, split_index:]\n",
    "\n",
    "print(\"sub_train_x shape:\", sub_train_x.shape)\n",
    "print(\"sub_train_y shape:\", sub_train_y.shape)\n",
    "print(\"val_x shape:\", val_x.shape)\n",
    "print(\"val_y shape:\", val_y.shape)"
   ]
  },
  {
   "cell_type": "markdown",
   "metadata": {},
   "source": [
    "### __Viewing a Sample__"
   ]
  },
  {
   "cell_type": "code",
   "execution_count": 144,
   "metadata": {},
   "outputs": [
    {
     "data": {
      "image/png": "[encoded data removed]",
      "text/plain": [
       "<Figure size 600x300 with 1 Axes>"
      ]
     },
     "metadata": {},
     "output_type": "display_data"
    }
   ],
   "source": [
    "index = random.randrange(0, train_x.shape[1])\n",
    "\n",
    "plt.figure(figsize=(6, 3))\n",
    "plt.imshow(train_x[:, index].reshape(28,28), cmap = 'gray')\n",
    "plt.axis(\"off\")\n",
    "plt.show()"
   ]
  },
  {
   "cell_type": "markdown",
   "metadata": {},
   "source": []
  },
  {
   "cell_type": "markdown",
   "metadata": {},
   "source": [
    "## __Defining Functions__"
   ]
  },
  {
   "cell_type": "markdown",
   "metadata": {},
   "source": [
    "### __Activations__"
   ]
  },
  {
   "cell_type": "code",
   "execution_count": 147,
   "metadata": {},
   "outputs": [],
   "source": [
    "def softmax(x): #x is vector\n",
    "    # Subtract max for numerical stability, keeping dims for proper broadcasting; axis = 0 is all elements you can reach by varying first index (row), which is a column\n",
    "    x_shifted = x - np.max(x, axis=0, keepdims=True)\n",
    "    \n",
    "    #Compute exponentials\n",
    "    exp_x = np.exp(x_shifted)\n",
    "    \n",
    "    #Compute softmax\n",
    "    return exp_x / np.sum(exp_x, axis=0, keepdims=True)"
   ]
  },
  {
   "cell_type": "code",
   "execution_count": 148,
   "metadata": {},
   "outputs": [],
   "source": [
    "def relu(z):\n",
    "    return np.maximum(z, 0)"
   ]
  },
  {
   "cell_type": "code",
   "execution_count": 149,
   "metadata": {},
   "outputs": [],
   "source": [
    "def drelu_dz(z):\n",
    "    return np.where(z <= 0, 0.0, 1.0).astype(np.float32)"
   ]
  },
  {
   "cell_type": "markdown",
   "metadata": {},
   "source": [
    "### __Parameter Initialization__"
   ]
  },
  {
   "cell_type": "code",
   "execution_count": 150,
   "metadata": {},
   "outputs": [],
   "source": [
    "def he_init(shape):\n",
    "    #output, input\n",
    "    fan_out, fan_in = shape\n",
    "    \n",
    "    #scaling factor; 2 for ReLU\n",
    "    scaling = np.sqrt(2/fan_in)\n",
    "\n",
    "    #create matrix sampled from Gaussian and multiply by scaling factor\n",
    "    return np.random.randn(fan_out, fan_in) * scaling"
   ]
  },
  {
   "cell_type": "markdown",
   "metadata": {},
   "source": [
    "## __Model Structure__"
   ]
  },
  {
   "cell_type": "markdown",
   "metadata": {},
   "source": [
    "### __Average Loss Function for Categorical Cross-Entropy__"
   ]
  },
  {
   "cell_type": "code",
   "execution_count": 151,
   "metadata": {},
   "outputs": [],
   "source": [
    "class AvgCategoricalCrossEntropy:\n",
    "    #loss function\n",
    "    def __call__(self, A2, Y):\n",
    "        m = Y.shape[1]\n",
    "        \n",
    "        epsilon=1e-15\n",
    "        A2_safe = np.maximum(A2, epsilon)\n",
    "\n",
    "        #same as doing (1/m) * sum of all columns (sum of values in a column of Y * np.log(A2_safe)); (1/m) total loss across whole batch\n",
    "        return (-1/m) * np.sum(Y * np.log(A2_safe)) \n",
    "    \n",
    "\n",
    "    def backward(self, X, Y, parameters, layer_computations):\n",
    "        W1, b1, W2, b2 = parameters\n",
    "        Z1, A1, Z2, A2 = layer_computations\n",
    "\n",
    "        m = X.shape[1] #batch size\n",
    "\n",
    "        dZ2 = (A2 - Y)\n",
    "        dW2 = (1/m)*(dZ2 @ A1.T)\n",
    "        db2 = (1/m)*np.sum(dZ2, axis = 1, keepdims = True) #sums across each row for all rows (summing the columns)\n",
    "\n",
    "        dZ1 = (W2.T @ dZ2)*drelu_dz(Z1) \n",
    "        dW1 = (1/m)*(dZ1 @ X.T)\n",
    "        db1 = (1/m)*np.sum(dZ1, axis = 1, keepdims = True)\n",
    "\n",
    "\n",
    "        #{'dW1': dW1, 'db1': db1, 'dW2' : dW2, 'db2': db2}\n",
    "        return dW1, db1, dW2, db2"
   ]
  },
  {
   "cell_type": "markdown",
   "metadata": {},
   "source": [
    "### __Stochastic Gradient Descent with Mini-Batches__"
   ]
  },
  {
   "cell_type": "code",
   "execution_count": 146,
   "metadata": {},
   "outputs": [],
   "source": [
    "def create_mini_batches(X, Y, hypers): #batch -> [mini_batches]\n",
    "    mini_batches = []\n",
    "    n_samples = X.shape[1]\n",
    "    #Randomize order of samples in each epoch to prevent bias (not necesssary for full batch GD)\n",
    "    indices = np.random.permutation(n_samples)\n",
    "\n",
    "\n",
    "    num_batches = math.ceil(n_samples / hypers.b_size)  # Rounding up to account for possible last batch < m\n",
    "    \n",
    "    #For each mini batch\n",
    "    for i in range(num_batches):\n",
    "        #Calculate indices of columns to take subset (can't be greater than n_samples)\n",
    "        batch_start = i * hypers.b_size\n",
    "        batch_end = (i + 1) * hypers.b_size\n",
    "\n",
    "        safe_batch_end = min(batch_end, n_samples)  # Ensure we don't go past n_samples; accounts for last batch\n",
    "        batch_indices = indices[batch_start:safe_batch_end]\n",
    "        \n",
    "        #Take subsets to get a mini batch\n",
    "        X_mini = X[:, batch_indices]\n",
    "        Y_mini = Y[:, batch_indices]\n",
    "\n",
    "        #Append the mini batch\n",
    "        mini_batches.append((X_mini, Y_mini))\n",
    "    \n",
    "    return mini_batches"
   ]
  },
  {
   "cell_type": "code",
   "execution_count": 152,
   "metadata": {},
   "outputs": [],
   "source": [
    "class StochasticGD:\n",
    "    def __init__(self, lr = 0.01):\n",
    "        self.lr = lr\n",
    "\n",
    "    def step(self, parameters, partials):\n",
    "        #Unpack info\n",
    "        W1, b1, W2, b2 = parameters\n",
    "        dW1, db1, dW2, db2 = partials\n",
    "        \n",
    "        #Take step and update parameters in model object\n",
    "        W1 = W1 - self.lr*dW1\n",
    "        b1 = b1 - self.lr*db1\n",
    "        W2 = W2 - self.lr*dW2\n",
    "        b2 = b2 - self.lr*db2\n",
    "\n",
    "        return W1, b1, W2, b2"
   ]
  },
  {
   "cell_type": "markdown",
   "metadata": {},
   "source": [
    "### __The MLP__"
   ]
  },
  {
   "cell_type": "code",
   "execution_count": 153,
   "metadata": {},
   "outputs": [],
   "source": [
    "class MLP:\n",
    "    def __init__(self, input_dim, hidden_dim, output_dim):\n",
    "        \n",
    "        #Input to hidden\n",
    "        self.W1 = he_init((hidden_dim, input_dim)) \n",
    "        self.b1 = he_init((hidden_dim, 1))\n",
    "\n",
    "        #hidden to output\n",
    "        self.W2 = he_init((output_dim, hidden_dim))\n",
    "        self.b2 = he_init((output_dim, 1))\n",
    "        \n",
    "        self.parameters = self.W1, self.b1, self.W2, self.b2\n",
    "    \n",
    "    def update_parameters(self, updated_params):\n",
    "            self.parameters = updated_params\n",
    "            self.W1, self.b1, self.W2, self.b2 = updated_params #makes sure the parameter attributes update for their use in __call__\n",
    "        \n",
    "    #forward\n",
    "    def __call__(self, X, view_prob = False):\n",
    "        #input to hidden\n",
    "        Z1 = self.W1 @ X + self.b1 \n",
    "        A1 = relu(Z1)\n",
    "\n",
    "        #Hidden to output\n",
    "        Z2 = self.W2 @ A1 + self.b2\n",
    "\n",
    "        #Calculate loss\n",
    "        A2 = softmax(Z2)\n",
    "\n",
    "        return Z1, A1, Z2, A2"
   ]
  },
  {
   "cell_type": "markdown",
   "metadata": {},
   "source": [
    "## __Training__"
   ]
  },
  {
   "cell_type": "code",
   "execution_count": 154,
   "metadata": {},
   "outputs": [],
   "source": [
    "def evaluate(model, X, Y):    \n",
    "    layer_computations = model(X)\n",
    "    A2 = layer_computations[3]\n",
    "\n",
    "    #Find max along column for prediction\n",
    "    y_pred = np.argmax(A2, axis = 0) \n",
    "    y_truth = np.argmax(Y, axis = 0)\n",
    "    \n",
    "    acc = np.sum(y_pred == y_truth) / len(y_truth) #same as np.mean\n",
    "    return acc"
   ]
  },
  {
   "cell_type": "code",
   "execution_count": 155,
   "metadata": {},
   "outputs": [],
   "source": [
    "#One epoch of training\n",
    "def train_one_epoch(model, X, Y, criterion, optimizer, hypers, val_x = None, val_y = None):\n",
    "    mini_batches = create_mini_batches(X, Y, hypers)\n",
    "    total_loss = 0\n",
    "\n",
    "    for X_mini, Y_mini in mini_batches:\n",
    "        #Forward pass\n",
    "        layer_computations = model(X_mini) #A2 column consists of probabilities of each class\n",
    "        A2 = layer_computations[3]\n",
    "\n",
    "        #Loss calculation (not necessary for backprop/training)\n",
    "        avg_loss = criterion(A2, Y_mini) #avg loss across all samples in mini batch\n",
    "        total_loss += avg_loss\n",
    "\n",
    "        #Backprop\n",
    "        partials = criterion.backward(X_mini, Y_mini, model.parameters, layer_computations)\n",
    "\n",
    "        #Gd\n",
    "        updated_params = optimizer.step(model.parameters, partials)\n",
    "        model.update_parameters(updated_params)\n",
    "    \n",
    "    avg_mini_batch_loss = total_loss/len(mini_batches)\n",
    "     \n",
    "    if val_x is not None and val_y is not None:\n",
    "        train_acc = evaluate(model, X, Y)\n",
    "        val_acc = evaluate(model, val_x, val_y)\n",
    "        return avg_mini_batch_loss, train_acc, val_acc\n",
    "    else:\n",
    "        return avg_mini_batch_loss"
   ]
  },
  {
   "cell_type": "code",
   "execution_count": 156,
   "metadata": {},
   "outputs": [],
   "source": [
    "def train_n_epochs(model, train_x, train_y, categorical_cross, optimizer, val_x, val_y, hypers):\n",
    "    avg_losses = []\n",
    "    val_accs = []\n",
    "    train_accs = []\n",
    "\n",
    "    for epoch in range(hypers.epochs):\n",
    "        #avg_loss = avg loss across all mini batches in epoch = avg epoch loss\n",
    "        avg_loss, train_acc, val_acc = train_one_epoch(model, train_x, train_y, categorical_cross, optimizer, hypers, val_x, val_y)\n",
    "        avg_losses.append(avg_loss)\n",
    "        val_accs.append(val_acc)\n",
    "        train_accs.append(train_acc)\n",
    "\n",
    "        if ((epoch + 1) % 10 == 0 or epoch == hypers.epochs - 1):\n",
    "            print(f'Epoch {epoch + 1}, Loss: {avg_loss:.4f}, Train Accuracy: {train_acc*100:.2f}%, Val Accuracy: {val_acc*100:.2f}%')\n",
    "        \n",
    "    return avg_losses, val_accs, train_accs"
   ]
  },
  {
   "cell_type": "markdown",
   "metadata": {},
   "source": [
    "### __Training with Train/Validation Subsets__"
   ]
  },
  {
   "cell_type": "code",
   "execution_count": 157,
   "metadata": {},
   "outputs": [],
   "source": [
    "input_dim = train_x.shape[0]\n",
    "output_dim = train_y.shape[0]\n",
    "\n",
    "model = MLP(input_dim, hypers.hidden, output_dim)\n",
    "categorical_cross = AvgCategoricalCrossEntropy()\n",
    "optimizer = StochasticGD(hypers.lr)"
   ]
  },
  {
   "cell_type": "code",
   "execution_count": 158,
   "metadata": {},
   "outputs": [
    {
     "name": "stdout",
     "output_type": "stream",
     "text": [
      "Epoch 10, Loss: 0.3130, Train Accuracy: 91.12%, Val Accuracy: 91.69%\n",
      "Epoch 20, Loss: 0.2619, Train Accuracy: 92.69%, Val Accuracy: 92.76%\n",
      "Epoch 30, Loss: 0.2257, Train Accuracy: 93.77%, Val Accuracy: 93.88%\n",
      "Epoch 40, Loss: 0.1962, Train Accuracy: 94.52%, Val Accuracy: 94.46%\n",
      "Epoch 50, Loss: 0.1715, Train Accuracy: 95.37%, Val Accuracy: 95.19%\n",
      "Epoch 60, Loss: 0.1515, Train Accuracy: 95.91%, Val Accuracy: 95.53%\n",
      "Epoch 70, Loss: 0.1350, Train Accuracy: 96.36%, Val Accuracy: 95.94%\n",
      "Epoch 80, Loss: 0.1210, Train Accuracy: 96.79%, Val Accuracy: 96.24%\n",
      "Epoch 90, Loss: 0.1095, Train Accuracy: 97.13%, Val Accuracy: 96.45%\n",
      "Epoch 100, Loss: 0.0994, Train Accuracy: 97.33%, Val Accuracy: 96.62%\n",
      "Epoch 110, Loss: 0.0910, Train Accuracy: 97.68%, Val Accuracy: 96.72%\n",
      "Epoch 120, Loss: 0.0837, Train Accuracy: 97.89%, Val Accuracy: 96.87%\n",
      "Epoch 130, Loss: 0.0771, Train Accuracy: 98.06%, Val Accuracy: 96.92%\n",
      "Epoch 140, Loss: 0.0714, Train Accuracy: 98.24%, Val Accuracy: 96.98%\n",
      "Epoch 150, Loss: 0.0663, Train Accuracy: 98.38%, Val Accuracy: 97.12%\n"
     ]
    }
   ],
   "source": [
    "avg_losses, val_accs, train_accs = train_n_epochs(model, sub_train_x, sub_train_y, categorical_cross, optimizer, val_x, val_y, hypers)"
   ]
  },
  {
   "cell_type": "markdown",
   "metadata": {},
   "source": [
    "### __Visual of Loss and Validation Accuracy Per Epoch__"
   ]
  },
  {
   "cell_type": "code",
   "execution_count": 159,
   "metadata": {},
   "outputs": [
    {
     "data": {
      "image/png": "[encoded data removed]",
      "text/plain": [
       "<Figure size 900x300 with 2 Axes>"
      ]
     },
     "metadata": {},
     "output_type": "display_data"
    }
   ],
   "source": [
    "all_epochs = np.arange(0, hypers.epochs)\n",
    "\n",
    "#1 row 2 columns, each ax object creates a plot (Axes object is not axis but a subplot)\n",
    "fig, (ax1, ax2) = plt.subplots(1, 2, figsize=(9, 3)) \n",
    "\n",
    "#Avg loss\n",
    "ax1.plot(all_epochs, avg_losses)\n",
    "ax1.set_title(\"Average Loss Per Epoch\")\n",
    "ax1.set_xlabel(\"Number of Epochs\")\n",
    "ax1.set_ylabel(\"Average Loss\")\n",
    "\n",
    "#Val/Train accuracy\n",
    "ax2.plot(all_epochs, val_accs)\n",
    "ax2.plot(all_epochs, train_accs)\n",
    "ax2.set_title(\"Validation and Training Accuracy Per Epoch\")\n",
    "ax2.set_xlabel(\"Number of Epochs\")\n",
    "ax2.set_ylabel(\"Accuracy\")\n",
    "\n",
    "plt.tight_layout() #adjusts spacing\n",
    "plt.show()"
   ]
  },
  {
   "cell_type": "markdown",
   "metadata": {},
   "source": [
    "### __Hyperparameter Tuning with Gridsearch__"
   ]
  },
  {
   "cell_type": "code",
   "execution_count": 160,
   "metadata": {},
   "outputs": [],
   "source": [
    "#For grid search (different values printed and returned)\n",
    "def train_n_epochs_grid(model, sub_train_x, sub_train_y, categorical_cross, optimizer, val_x, val_y, hypers):\n",
    "    avg_losses = []\n",
    "    val_accs = []\n",
    "    train_accs = []\n",
    "\n",
    "    for epoch in range(hypers.epochs):\n",
    "        avg_loss, train_acc, val_acc = train_one_epoch(model, sub_train_x, sub_train_y, categorical_cross, optimizer, hypers, val_x, val_y)\n",
    "        avg_losses.append(avg_loss)\n",
    "        val_accs.append(val_acc)\n",
    "        train_accs.append(train_acc)\n",
    "\n",
    "        if (epoch == 0 or epoch == hypers.epochs - 1):\n",
    "            print(f'Epoch {epoch + 1}, Loss: {avg_loss:.4f}, Train Accuracy: {train_acc*100:.2f}%, Val Accuracy: {val_acc*100:.2f}%')\n",
    "        \n",
    "    \n",
    "    #Return final validation accuracy\n",
    "    return val_acc"
   ]
  },
  {
   "cell_type": "code",
   "execution_count": 161,
   "metadata": {},
   "outputs": [],
   "source": [
    "def alter_hyper(hypers, hypercombo):\n",
    "    hypers.lr = hypercombo['lr']\n",
    "    hypers.b_size = hypercombo['b_size']\n",
    "    hypers.epochs = hypercombo['epochs']\n",
    "    hypers.hidden = hypercombo['hidden']"
   ]
  },
  {
   "cell_type": "code",
   "execution_count": 162,
   "metadata": {},
   "outputs": [],
   "source": [
    "#list of all possible dict combinations of hypers\n",
    "def create_param_grid(hyperdict):\n",
    "    '''For hyperparameter i, go through all the dictionaries currently in the parameter grid. Within each dictionary, think of it as a base which you duplicate, and each time add a different possible\n",
    "    value of (hyper i: val j). Essentially, add val j to the base dictionary, then add val j+1 to another copy of the base dictionary and so on for all possible combinations. Once\n",
    "    all added to new_param_grid, update param_grid. Updating param_grid directly can cause issues, as seen if we don't copy. Updating param_combo[hyper] changes dictionaries in new_param_grid to change.\n",
    "    This is because all dictionaries in new_param_grid would be referenced by param_combo, so when updating (key,value) for one dict, you are doing it for all in new_param_grid, thus having many repeats\n",
    "    of the last value saved. Copying prevents this because it creates a new object with the same values (different reference/location in memory) so everything added to new_param_grid is independent. Thus,\n",
    "    adding (key, value) for all possible values in that base dictionary does not overwrite anything.'''\n",
    "\n",
    "    param_grid = [{}]\n",
    "\n",
    "    for hyper in hyperdict.keys():\n",
    "        #do this because we will iterate over param_grid and don't want to modify while iterating over it\n",
    "        new_param_grid = []\n",
    "\n",
    "        #For each existing combination\n",
    "        for param_combo in param_grid:\n",
    "            for val in hyperdict[hyper]:\n",
    "                #Must create copy so we don't lose possible combinations\n",
    "                new_params = param_combo.copy() \n",
    "                new_params[hyper] = val #no copy means param_combo here would replace value in param grid dict since param_combo is in param_dict\n",
    "                new_param_grid.append(new_params)\n",
    "        param_grid = new_param_grid\n",
    "    return param_grid"
   ]
  },
  {
   "cell_type": "code",
   "execution_count": 163,
   "metadata": {},
   "outputs": [],
   "source": [
    "def grid_search(hyperdict, hypers, sub_train_x, sub_train_y, categorical_cross, optimizer, val_x, val_y):\n",
    "    best_hypers = None\n",
    "    best_val_accuracy = 0\n",
    "    orig_hypers = hypers #store original hypers to reset before end of search\n",
    "    \n",
    "    for hypercombo in create_param_grid(hyperdict): \n",
    "        #Use the new hyperparameter combo\n",
    "        alter_hyper(hypers, hypercombo)\n",
    "        print(hypercombo)\n",
    "\n",
    "        #Reinstantiate model and optimizer\n",
    "        model = MLP(input_dim, hypers.hidden, output_dim)\n",
    "        optimizer = StochasticGD(hypers.lr)\n",
    "\n",
    "        #Train the model\n",
    "        val_accuracy = train_n_epochs_grid(model, sub_train_x, sub_train_y, categorical_cross, optimizer, val_x, val_y, hypers)\n",
    "        print(f'\\n\\033[1mVal Accuracy: {val_accuracy*100:.2f}%\\033[0m\\n')\n",
    "        \n",
    "        #Update the best hyperparameters and validation accuracy\n",
    "        if (val_accuracy > best_val_accuracy):\n",
    "            best_val_accuracy = val_accuracy\n",
    "            best_hypers = hypercombo\n",
    "    \n",
    "    hypers = orig_hypers\n",
    "    return best_hypers, best_val_accuracy"
   ]
  },
  {
   "cell_type": "code",
   "execution_count": null,
   "metadata": {},
   "outputs": [],
   "source": [
    "hyperdict = { \n",
    "    'lr': [0.01],\n",
    "    'b_size': [128],\n",
    "    'epochs': [150, 175],\n",
    "    'hidden': [1024]\n",
    "}\n",
    "\n",
    "#150 epochs was 97.21, same with 175\n",
    "categorical_cross = AvgCategoricalCrossEntropy()\n",
    "\n",
    "best_hypers, best_val_accuracy = grid_search(hyperdict, hypers, sub_train_x, sub_train_y, categorical_cross, optimizer, val_x, val_y)"
   ]
  },
  {
   "cell_type": "code",
   "execution_count": null,
   "metadata": {},
   "outputs": [
    {
     "name": "stdout",
     "output_type": "stream",
     "text": [
      "\n",
      "\u001b[1mBest Hyperparameters: {'lr': 0.01, 'b_size': 128, 'epochs': 175, 'hidden': 1024}\n",
      "Best Validation Accuracy: 96.22%\u001b[0m\n"
     ]
    }
   ],
   "source": [
    "print(f'\\n\\033[1mBest Hyperparameters: {best_hypers}\\nBest Validation Accuracy:{best_val_accuracy*100: .2f}%\\033[0m')"
   ]
  },
  {
   "cell_type": "markdown",
   "metadata": {},
   "source": [
    "### __Final Training with Full Train Dataset__"
   ]
  },
  {
   "cell_type": "code",
   "execution_count": 165,
   "metadata": {},
   "outputs": [],
   "source": [
    "model = MLP(input_dim, hypers.hidden, output_dim)\n",
    "optimizer = StochasticGD(hypers.lr)\n",
    "categorical_cross = AvgCategoricalCrossEntropy()"
   ]
  },
  {
   "cell_type": "code",
   "execution_count": 166,
   "metadata": {},
   "outputs": [
    {
     "name": "stdout",
     "output_type": "stream",
     "text": [
      "Epoch 1, Loss: 0.9372\n",
      "Epoch 150, Loss: 0.0579\n"
     ]
    }
   ],
   "source": [
    "for epoch in range(hypers.epochs):\n",
    "    avg_loss = train_one_epoch(model, train_x, train_y, categorical_cross, optimizer, hypers)\n",
    "    if (epoch == 0 or epoch == hypers.epochs - 1):\n",
    "            print(f'Epoch {epoch + 1}, Loss: {avg_loss:.4f}')"
   ]
  },
  {
   "cell_type": "markdown",
   "metadata": {},
   "source": [
    "## __Evaluation__"
   ]
  },
  {
   "cell_type": "code",
   "execution_count": 167,
   "metadata": {},
   "outputs": [
    {
     "name": "stdout",
     "output_type": "stream",
     "text": [
      "Train Accuracy: 98.55%\n",
      "Test Accuracy: 97.47%\n"
     ]
    }
   ],
   "source": [
    "train_acc = evaluate(model, train_x, train_y) \n",
    "test_acc = evaluate(model, test_x, test_y) \n",
    "\n",
    "\n",
    "print(f'Train Accuracy: {train_acc*100:.2f}%')\n",
    "print(f'Test Accuracy: {test_acc*100:.2f}%')"
   ]
  },
  {
   "cell_type": "markdown",
   "metadata": {},
   "source": [
    "## __Pickling the Model__"
   ]
  },
  {
   "cell_type": "code",
   "execution_count": 177,
   "metadata": {},
   "outputs": [],
   "source": [
    "f_name = f\"mlp-scratch-{test_acc*100:.2f}.pkl\""
   ]
  },
  {
   "cell_type": "code",
   "execution_count": 178,
   "metadata": {},
   "outputs": [],
   "source": [
    "#Saving the model\n",
    "#with open(f'../models/{f_name}', 'wb') as f:\n",
    "    #pickle.dump(model, f)"
   ]
  },
  {
   "cell_type": "code",
   "execution_count": 179,
   "metadata": {},
   "outputs": [],
   "source": [
    "# Loading the model\n",
    "with open(f'../models/mlp-scratch-97.47.pkl', 'rb') as f:\n",
    "    model = pickle.load(f)"
   ]
  },
  {
   "cell_type": "markdown",
   "metadata": {},
   "source": [
    "## __Inference on New Handwritten Digit__"
   ]
  },
  {
   "cell_type": "markdown",
   "metadata": {},
   "source": [
    "### __Preprocess and Visualizing Image__"
   ]
  },
  {
   "cell_type": "code",
   "execution_count": 180,
   "metadata": {},
   "outputs": [],
   "source": [
    "def preprocess(image_path):\n",
    "    #Resize and convert to numpy\n",
    "    image = Image.open(image_path).convert('L')\n",
    "    image = np.array(image.resize((28, 28)))\n",
    "    \n",
    "    im_normalized = image / 255.0\n",
    "    \n",
    "    return im_normalized.reshape(784, 1)\n",
    "\n",
    "def preprocess_vis(image_path):\n",
    "    image = Image.open(image_path).convert('L')\n",
    "    return image.resize((28, 28))"
   ]
  },
  {
   "cell_type": "code",
   "execution_count": 181,
   "metadata": {},
   "outputs": [],
   "source": [
    "image_path = '../data/test-images/8-1.png'"
   ]
  },
  {
   "cell_type": "code",
   "execution_count": 182,
   "metadata": {},
   "outputs": [
    {
     "data": {
      "image/png": "[encoded data removed]",
      "text/plain": [
       "<Figure size 600x300 with 1 Axes>"
      ]
     },
     "metadata": {},
     "output_type": "display_data"
    }
   ],
   "source": [
    "visual_im = preprocess_vis(image_path)\n",
    "\n",
    "plt.figure(figsize=(6, 3))\n",
    "plt.axis(\"off\")\n",
    "#Capture return value\n",
    "_ = plt.imshow(visual_im, cmap=\"grey\")"
   ]
  },
  {
   "cell_type": "markdown",
   "metadata": {},
   "source": [
    "### __Feeding Image Through MLP__"
   ]
  },
  {
   "cell_type": "code",
   "execution_count": 183,
   "metadata": {},
   "outputs": [],
   "source": [
    "def classify_image(model, image_path):\n",
    "    image = preprocess(image_path)\n",
    "\n",
    "\n",
    "    layer_computations = model(image)\n",
    "    A2 = layer_computations[3]\n",
    "\n",
    "    #Extract and sort probabilities\n",
    "    prob_classes = list(enumerate(A2[:, 0])) # [(0, .70), ...]\n",
    "    prob_classes.sort(key = itemgetter(1), reverse = True)\n",
    "\n",
    "    #Extract classification\n",
    "    y_pred = np.argmax(A2, axis = 0)[0] #Extract only element in the 1d array\n",
    "\n",
    "    return prob_classes, y_pred"
   ]
  },
  {
   "cell_type": "code",
   "execution_count": 184,
   "metadata": {},
   "outputs": [
    {
     "name": "stdout",
     "output_type": "stream",
     "text": [
      "Probability of 8: 79.763%\n",
      "Probability of 3: 6.419%\n",
      "Probability of 4: 6.187%\n",
      "Probability of 5: 5.402%\n",
      "Probability of 9: 1.224%\n",
      "Probability of 7: 0.602%\n",
      "Probability of 1: 0.314%\n",
      "Probability of 2: 0.086%\n",
      "Probability of 6: 0.003%\n",
      "Probability of 0: 0.000%\n",
      "\n",
      "Predicted number: 8\n"
     ]
    }
   ],
   "source": [
    "'''Test images are likely out of distribution.'''\n",
    "prob_classes, y_pred = classify_image(model, image_path)\n",
    "\n",
    "for num, probability in prob_classes:\n",
    "    print(f'Probability of {num}:{probability.item() * 100: .3f}%')\n",
    "\n",
    "print(f'\\nPredicted number: {y_pred}')"
   ]
  }
 ],
 "metadata": {
  "kernelspec": {
   "display_name": "myenv",
   "language": "python",
   "name": "python3"
  },
  "language_info": {
   "codemirror_mode": {
    "name": "ipython",
    "version": 3
   },
   "file_extension": ".py",
   "mimetype": "text/x-python",
   "name": "python",
   "nbconvert_exporter": "python",
   "pygments_lexer": "ipython3",
   "version": "3.10.14"
  }
 },
 "nbformat": 4,
 "nbformat_minor": 2
}
