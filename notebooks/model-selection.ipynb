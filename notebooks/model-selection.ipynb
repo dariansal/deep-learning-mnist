{
 "cells": [
  {
   "cell_type": "markdown",
   "metadata": {},
   "source": []
  },
  {
   "cell_type": "markdown",
   "metadata": {},
   "source": [
    "<center><h2><b><u> Multilayer Perceptron with MNIST Dataset</u></b></h2></center>"
   ]
  },
  {
   "cell_type": "markdown",
   "metadata": {},
   "source": [
    "### __Importing Libraries, Classes, and Functions__"
   ]
  },
  {
   "cell_type": "code",
   "execution_count": 40,
   "metadata": {},
   "outputs": [],
   "source": [
    "from operator import itemgetter\n",
    "import numpy as np\n",
    "import torch\n",
    "import torch.nn as nn #provides classes/modules for making neural networks\n",
    "from torch.nn import Linear\n",
    "import torch.nn.functional as F #a module with common nn functions (operations on tensors/high dim matrices; activations)\n",
    "import torch.optim as optim #contains optimization algorithms like SGD\n",
    "from torchvision import datasets, transforms #includes MNIST, transform images -> tensors\n",
    "from torch.utils.data import DataLoader, TensorDataset, Subset, ConcatDataset #allows shuffling and minbatches\n",
    "from PIL import Image\n",
    "import matplotlib.pyplot as plt\n",
    "from sklearn.model_selection import KFold, ParameterGrid\n",
    "from sklearn.metrics import confusion_matrix, ConfusionMatrixDisplay, precision_score, recall_score, f1_score, accuracy_score, classification_report\n",
    "import os\n",
    "import shutil\n",
    "import json\n",
    "#!pip install torch-xla\n",
    "#import torch_xla\n",
    "#import torch_xla.core.xla_model as xm #tpu\n",
    "#from google.colab import files"
   ]
  },
  {
   "cell_type": "markdown",
   "metadata": {},
   "source": [
    "### __Initializing the Hyperparameters__"
   ]
  },
  {
   "cell_type": "code",
   "execution_count": 4,
   "metadata": {},
   "outputs": [],
   "source": [
    "class Hypers:\n",
    "    def __init__(self, hyperpath):\n",
    "        with open(hyperpath, 'r') as file:\n",
    "            hyper_dict = json.load(file)\n",
    "        self.l_rate = hyper_dict['learning_rate']\n",
    "        self.b_size = hyper_dict['batch_size']\n",
    "        self.epochs = hyper_dict['epochs']\n",
    "        self.drop_rate = hyper_dict['dropout_rate']\n",
    "        self.hidden_one = hyper_dict['hidden_one']\n",
    "        self.hidden_two = hyper_dict['hidden_two']\n",
    "        self.n_slope = hyper_dict['n_slope']\n",
    "        self.augment = hyper_dict['augment']\n",
    "        self.prob_augment = hyper_dict['prob_augment']\n",
    "\n",
    "#can feed this into functions that need hypers\n",
    "hypers = Hypers('../config/hyperparameters.json')"
   ]
  },
  {
   "cell_type": "markdown",
   "metadata": {},
   "source": [
    "### __The Model Blueprint__"
   ]
  },
  {
   "cell_type": "code",
   "execution_count": 5,
   "metadata": {},
   "outputs": [],
   "source": [
    "class NumberNN(nn.Module): \n",
    "    def __init__(self, hidden_one, hidden_two, drop_prob, n_slope):\n",
    "        super(NumberNN, self).__init__() #explicitly call parent class constructor to initialize stuff\n",
    "                                    #parent (nn.Module) technically initialized too and tied to child but you only access child\n",
    "        self.fc1 = Linear(in_features = 28**2, out_features = hidden_one) #num features = num neurons in input layer (1 neuron per feature/vector component)\n",
    "        self.fc2 = Linear(hidden_one, hidden_two)\n",
    "        self.fc3 = Linear(hidden_two, 10)\n",
    "        self.n_slope = n_slope\n",
    "\n",
    "        self.dropout = nn.Dropout(p=drop_prob) \n",
    "    \n",
    "    def forward(self, x):\n",
    "        '''MNIST is (batch_size = ..., channels = 1, height = 28, width = 28), a 3D tensor. To plot you want 2D 28x28,\n",
    "        and for input layer you need to make the pixel reprsentation 1D (batch_size, 784). Batch size since it processes\n",
    "        a whole batch at once. -1 infers dim of the vector/features (784)\n",
    "        '''\n",
    "        x = x.view(-1, 28**2)  # Flatten the input tensor (batch_size, 1, 28, 28) to (batch_size, 784)\n",
    "\n",
    "        z1 = self.fc1(x) #Weight matrix + bias vector\n",
    "        a1 = F.leaky_relu(z1, negative_slope= self.n_slope) \n",
    "        a1 = self.dropout(a1) #Starting dropout in layer 2; don't drop inputs\n",
    "\n",
    "        z2 = self.fc2(a1)\n",
    "        a2 = F.leaky_relu(z2, negative_slope= self.n_slope) \n",
    "        a2 = self.dropout(a2)\n",
    "\n",
    "        outputs = self.fc3(a2) #logits - softmax(logit) = p_class\n",
    "        \n",
    "        return outputs"
   ]
  },
  {
   "cell_type": "markdown",
   "metadata": {},
   "source": [
    "### __Data Loading and Preparation__"
   ]
  },
  {
   "cell_type": "markdown",
   "metadata": {},
   "source": [
    "#### __Choosing the Device__"
   ]
  },
  {
   "cell_type": "code",
   "execution_count": 6,
   "metadata": {},
   "outputs": [],
   "source": [
    "#device = xm.xla_device() #Sets up commmunication between CPU and TPU\n",
    "device = torch.device(\"mps\") if torch.backends.mps.is_available() else torch.device(\"cpu\")"
   ]
  },
  {
   "cell_type": "markdown",
   "metadata": {},
   "source": [
    "#### __Defining the Transformations__"
   ]
  },
  {
   "cell_type": "code",
   "execution_count": 7,
   "metadata": {},
   "outputs": [],
   "source": [
    "'''Transformation function object applies transformations in list sequentially (e.g. images into tensors \n",
    "-> normalize). Normalizing/condensing pixels to 0-1 to make model focuses more on relationships instead\n",
    "of brightness levels.'''\n",
    "def transformations(maybe_augment):\n",
    "    transform_norm = transforms.Compose([transforms.ToTensor(), transforms.Normalize((0.5,), (0.5,))])\n",
    "\n",
    "\n",
    "    #degrees - max rotation; translation - max horizontal/vert shift, scale - scaling range, shear - up to 10 degrees for both axes\n",
    "    #all these are hypers\n",
    "    aug = transforms.RandomAffine(degrees = 15, translate = (0.03, 0.02), scale = (0.9, 1.03), shear = (-10, 10))\n",
    "\n",
    "    if (maybe_augment == True):\n",
    "        #.2 -> ranges from .8 to 1.2 of orig (1)\n",
    "        transform_aug = transforms.Compose([aug, transforms.ColorJitter(brightness=.22, contrast=0.25), \n",
    "                                        transforms.ToTensor(),\n",
    "                                        transforms.Normalize((0.5,), (0.5,))\n",
    "                                        ])\n",
    "    else:\n",
    "        transform_aug = transform_norm\n",
    "    \n",
    "    return transform_norm, transform_aug"
   ]
  },
  {
   "cell_type": "code",
   "execution_count": 8,
   "metadata": {},
   "outputs": [],
   "source": [
    "transform_norm, transform_aug = transformations(hypers.augment)"
   ]
  },
  {
   "cell_type": "markdown",
   "metadata": {},
   "source": [
    "#### __Loading the Data__"
   ]
  },
  {
   "cell_type": "code",
   "execution_count": 9,
   "metadata": {},
   "outputs": [],
   "source": [
    "'''like list of tuples of (image (tensor), label). First element of tuple is 3d array (channels, width, length) for the image. Grayscale\n",
    "dimension doesn't add new info. Second elemnt of tuple is just an integer for the label. Feature inputs (pixels) commonly denoted\n",
    "x and outputs (labels) as y.'''\n",
    "train_dataset = datasets.MNIST(root = '../data', train = True, download = False, transform = None)"
   ]
  },
  {
   "cell_type": "markdown",
   "metadata": {},
   "source": [
    "### __Data Augmentation__"
   ]
  },
  {
   "cell_type": "markdown",
   "metadata": {},
   "source": [
    "#### __Viewing the Current Distribution of Classes__"
   ]
  },
  {
   "cell_type": "code",
   "execution_count": 10,
   "metadata": {},
   "outputs": [
    {
     "name": "stdout",
     "output_type": "stream",
     "text": [
      "1: 6742\n",
      "7: 6265\n",
      "3: 6131\n",
      "2: 5958\n",
      "9: 5949\n",
      "0: 5923\n",
      "6: 5918\n",
      "8: 5851\n",
      "4: 5842\n",
      "5: 5421\n"
     ]
    }
   ],
   "source": [
    "def distribution(dataset):\n",
    "    freq = {}\n",
    "    for label in range(0, 10):\n",
    "        freq[label] = 0\n",
    "\n",
    "    for image, label in dataset:\n",
    "        freq[label] += 1\n",
    "\n",
    "    #list of tuples\n",
    "    freq_sorted = sorted(freq.items(), key = itemgetter(1), reverse = True)\n",
    "    for number, freq in freq_sorted:\n",
    "        print(f'{number}: {freq}')\n",
    "\n",
    "distribution(train_dataset)"
   ]
  },
  {
   "cell_type": "markdown",
   "metadata": {},
   "source": [
    "#### __Visualizing the Augmentation__"
   ]
  },
  {
   "cell_type": "code",
   "execution_count": 11,
   "metadata": {},
   "outputs": [],
   "source": [
    "def side_by_side_plot(image1, image2, title1, title2):\n",
    "    plt.subplot(1, 2, 1)\n",
    "    plt.imshow(image1, cmap=\"grey\")\n",
    "    plt.title(f'{title1}')\n",
    "    plt.axis(\"off\")\n",
    "\n",
    "    plt.subplot(1,2,2)\n",
    "    plt.title(f'{title2}')\n",
    "    plt.imshow(image2, cmap = \"grey\")\n",
    "    plt.axis(\"off\")\n",
    "\n",
    "    plt.show()\n",
    "\n",
    "def get_image(dataset, index):\n",
    "    image, __ = dataset[index]\n",
    "    return image.squeeze(0) #remove singleton batch_size dimension (provides no new info); now 2D (28x28) array"
   ]
  },
  {
   "cell_type": "code",
   "execution_count": 12,
   "metadata": {},
   "outputs": [],
   "source": [
    "#transformation applied on the fly when image accessed; every epoch sees dif versions of images\n",
    "norm_dataset = datasets.MNIST(root = '../data', train = True, download = False, transform = transform_norm) #true on Colab\n",
    "aug_dataset = datasets.MNIST(root = '../data', train = True, download = False, transform = transform_aug)"
   ]
  },
  {
   "cell_type": "code",
   "execution_count": 13,
   "metadata": {},
   "outputs": [
    {
     "data": {
      "image/png": "[encoded data removed]",
      "text/plain": [
       "<Figure size 640x480 with 2 Axes>"
      ]
     },
     "metadata": {},
     "output_type": "display_data"
    }
   ],
   "source": [
    "index = 4\n",
    "norm_image = get_image(norm_dataset, index)\n",
    "aug_image = get_image(aug_dataset, index)\n",
    "\n",
    "side_by_side_plot(norm_image, aug_image, \"Original\", \"Augmented\")"
   ]
  },
  {
   "cell_type": "markdown",
   "metadata": {},
   "source": [
    "#### __Getting Proper Proportions of Augmented and Original Data__"
   ]
  },
  {
   "cell_type": "code",
   "execution_count": 14,
   "metadata": {},
   "outputs": [],
   "source": [
    "'''Get data -> split into subsets -> wrap them in DataSetT class and give them transformation attribute, \n",
    "define methods necessary for DataLoader-> merge them back together'''\n",
    "class DataSetT:\n",
    "    def __init__(self, images, labels, transform):\n",
    "        self.images = images\n",
    "        self.labels = labels\n",
    "        self.transform = transform\n",
    "\n",
    "    def __len__(self): #subset has length\n",
    "        return len(self.images)\n",
    "    \n",
    "    def __getitem__(self, index): #works with DataLoader, lets me do dataset[index]; SubSet has this implemented but not with transform\n",
    "        sample = self.images[index]\n",
    "        sample_transformed = self.transform(sample) # __call__ method of Compose on Data instance: for sammple (s) in self.transforms, s = t(s)\n",
    "        label = self.labels[index] \n",
    "        return sample_transformed, label"
   ]
  },
  {
   "cell_type": "code",
   "execution_count": 15,
   "metadata": {},
   "outputs": [],
   "source": [
    "def extract(dataset):\n",
    "    images = []\n",
    "    labels = []\n",
    "    for image, label in dataset:\n",
    "        images.append(image)\n",
    "        labels.append(label)\n",
    "    return images, labels\n",
    "\n",
    "def calculate_indices(dataset, hypers):\n",
    "    len_train = len(dataset)\n",
    "\n",
    "    num_norm_indices = int(len_train * (1 - hypers.prob_augment))\n",
    "    num_aug_indices = int(len_train * hypers.prob_augment)\n",
    "\n",
    "    all_indices = np.random.permutation(len_train) #random array of numbers 0 to n-1\n",
    "\n",
    "    #part of permutation is indices for norm images, rest is augmented\n",
    "    norm_indices = all_indices[0:num_norm_indices] \n",
    "    aug_indices = all_indices[num_norm_indices:]\n",
    "\n",
    "    return norm_indices, aug_indices\n",
    "\n",
    "def create_dataset_t(dataset, indices):\n",
    "    subset = Subset(dataset, indices)\n",
    "    images, labels = extract(subset)\n",
    "    return DataSetT(images, labels, transform_norm)\n",
    "\n",
    "\n",
    "def norm_aug_trainloader(dataset, hypers):\n",
    "    norm_indices, aug_indices = calculate_indices(dataset, hypers)\n",
    "\n",
    "    #For norm and aug, create a subset of the data, create Data instance so relevant transformation is applied when DataLoader gets image\n",
    "    norm_dataset = create_dataset_t(dataset, norm_indices)\n",
    "    aug_dataset = create_dataset_t(dataset, aug_indices)\n",
    "\n",
    "   #Concat determines what dataset contains that index -> recalculates index for that dataset -> delegates __getitem__ call to that Data instance\n",
    "    norm_aug_trainset = ConcatDataset([norm_dataset, aug_dataset])\n",
    "    return DataLoader(norm_aug_trainset, hypers.b_size, shuffle = True)"
   ]
  },
  {
   "cell_type": "markdown",
   "metadata": {},
   "source": [
    "### __Model Evaluation and Selection__"
   ]
  },
  {
   "cell_type": "markdown",
   "metadata": {},
   "source": [
    "#### __Alter Hyper for Grid Search__"
   ]
  },
  {
   "cell_type": "code",
   "execution_count": 16,
   "metadata": {},
   "outputs": [],
   "source": [
    "def alter_hyper(hypers, hypercombo):\n",
    "    hypers.l_rate = hypercombo['l_rate']\n",
    "    hypers.b_size = hypercombo['b_size']\n",
    "    hypers.epochs = hypercombo['epochs']\n",
    "    hypers.drop_rate = hypercombo['drop_rate']\n",
    "    hypers.hidden_one = hypercombo['hidden_one']\n",
    "    hypers.hidden_two = hypercombo['hidden_two']\n",
    "    hypers.n_slope = hypercombo['n_slope']\n",
    "    hypers.augment = hypercombo['augment']\n",
    "    hypers.prob_augment = hypercombo['prob_augment']\n"
   ]
  },
  {
   "cell_type": "markdown",
   "metadata": {},
   "source": [
    "#### __K-folds Cross Validation - Approach 1__"
   ]
  },
  {
   "cell_type": "code",
   "execution_count": 14,
   "metadata": {},
   "outputs": [],
   "source": [
    "#already ensure validation only used once per sample\n",
    "def k_folds(folds, train_dataset, hypers, hypercombo = None, grid_search = False):\n",
    "\n",
    "    kf = KFold(n_splits = folds, shuffle = True, random_state = 20)\n",
    "    validation_accuracies = []\n",
    "\n",
    "    if grid_search:\n",
    "        alter_hyper(hypers, hypercombo)\n",
    "\n",
    "    '''by default split only works with indices arrays (use np.arange(len(data))) unless it can use length attribute of dataset, which Pytorch provides.\n",
    "    This works too: norm_dataset.__len__(), dunder methods simplify syntax'''\n",
    "    for fold, (train_indices, val_indices) in enumerate(kf.split(train_dataset)):\n",
    "        if (fold == 0):\n",
    "            print(f'Fold {fold + 1}')\n",
    "        else:\n",
    "            print(f'\\nFold {fold + 1}')\n",
    "\n",
    "        #My actual validation\n",
    "        val_transformed = create_dataset_t(train_dataset, val_indices)\n",
    "        val_loader = DataLoader(val_transformed, batch_size = 512, shuffle=False)\n",
    "\n",
    "        train_subset = Subset(train_dataset, train_indices)\n",
    "        train_loader = norm_aug_trainloader(train_subset, hypers)\n",
    "        \n",
    "        model = NumberNN(hypers.hidden_one, hypers.hidden_two, hypers.drop_rate, hypers.n_slope).to(device) #ensures parameters reset and each fold is independent\n",
    "        cross_entropy = nn.CrossEntropyLoss()\n",
    "        adam = optim.Adam(model.parameters(), lr= hypers.l_rate, betas=(0.9, 0.999), eps=1e-08) #forget info from EWMA\n",
    "\n",
    "        last_epoch_val_accuracy = train_model(model, train_loader, optimizer = adam, loss_f = cross_entropy, \n",
    "                                              num_epochs = hypers.epochs, val_loader = val_loader)\n",
    "\n",
    "        validation_accuracies.append(last_epoch_val_accuracy)\n",
    "\n",
    "    mean_val_accuracy = np.mean(validation_accuracies)\n",
    "    #Use average validation accuracy across all folds to evaluate model\n",
    "    return mean_val_accuracy\n"
   ]
  },
  {
   "cell_type": "code",
   "execution_count": 531,
   "metadata": {},
   "outputs": [
    {
     "name": "stdout",
     "output_type": "stream",
     "text": [
      "Fold 1\n",
      "Epoch 1 -- Loss: 0.3999, Training Accuracy: 91.33%, Validation Accuracy: 91.28%\n",
      "Epoch 20 -- Loss: 0.0110, Training Accuracy: 99.52%, Validation Accuracy: 97.68%\n",
      "\n",
      "Fold 2\n",
      "Epoch 1 -- Loss: 0.3700, Training Accuracy: 91.49%, Validation Accuracy: 91.15%\n",
      "Epoch 20 -- Loss: 0.0144, Training Accuracy: 99.48%, Validation Accuracy: 97.32%\n",
      "\n",
      "Fold 3\n",
      "Epoch 1 -- Loss: 0.2810, Training Accuracy: 91.77%, Validation Accuracy: 90.93%\n",
      "Epoch 20 -- Loss: 0.0050, Training Accuracy: 99.71%, Validation Accuracy: 97.87%\n",
      "\n",
      "Fold 4\n",
      "Epoch 1 -- Loss: 0.3272, Training Accuracy: 89.77%, Validation Accuracy: 89.57%\n",
      "Epoch 20 -- Loss: 0.0018, Training Accuracy: 99.72%, Validation Accuracy: 97.73%\n",
      "\n",
      "Fold 5\n",
      "Epoch 1 -- Loss: 0.2698, Training Accuracy: 91.64%, Validation Accuracy: 91.40%\n",
      "Epoch 20 -- Loss: 0.0143, Training Accuracy: 99.75%, Validation Accuracy: 97.97%\n",
      "\n",
      "Fold 6\n",
      "Epoch 1 -- Loss: 0.4055, Training Accuracy: 90.81%, Validation Accuracy: 90.53%\n",
      "Epoch 20 -- Loss: 0.0298, Training Accuracy: 99.57%, Validation Accuracy: 97.72%\n",
      "\n",
      "Fold 7\n",
      "Epoch 1 -- Loss: 0.3043, Training Accuracy: 91.08%, Validation Accuracy: 91.02%\n",
      "Epoch 20 -- Loss: 0.0055, Training Accuracy: 99.68%, Validation Accuracy: 98.07%\n",
      "\n",
      "Fold 8\n",
      "Epoch 1 -- Loss: 0.2122, Training Accuracy: 89.98%, Validation Accuracy: 89.68%\n",
      "Epoch 20 -- Loss: 0.0044, Training Accuracy: 99.84%, Validation Accuracy: 97.67%\n",
      "\n",
      "Fold 9\n",
      "Epoch 1 -- Loss: 0.2882, Training Accuracy: 91.54%, Validation Accuracy: 91.03%\n",
      "Epoch 20 -- Loss: 0.0334, Training Accuracy: 99.33%, Validation Accuracy: 97.60%\n",
      "\n",
      "Fold 10\n",
      "Epoch 1 -- Loss: 0.2558, Training Accuracy: 91.07%, Validation Accuracy: 90.53%\n",
      "Epoch 20 -- Loss: 0.0144, Training Accuracy: 99.78%, Validation Accuracy: 98.25%\n",
      "\n",
      "\u001b[1mMean Validation Accuracy Across All Folds: 97.79%\u001b[0m\n",
      "\n"
     ]
    }
   ],
   "source": [
    "mean_val_accuracy = k_folds(10, train_dataset, hypers)\n",
    "print(f'\\n\\033[1mMean Validation Accuracy Across All Folds: {mean_val_accuracy:.2f}%\\033[0m\\n')"
   ]
  },
  {
   "cell_type": "markdown",
   "metadata": {},
   "source": [
    "#### __K-Folds Cross Validation - Approach 2__"
   ]
  },
  {
   "cell_type": "code",
   "execution_count": 16,
   "metadata": {},
   "outputs": [],
   "source": [
    "full_train_dataset = ConcatDataset([norm_dataset, aug_dataset])"
   ]
  },
  {
   "cell_type": "code",
   "execution_count": 35,
   "metadata": {},
   "outputs": [],
   "source": [
    "FOLDS = 10\n",
    "\n",
    "def calc_alt_indices(norm_dataset, norm_train_indices, hypers, k_folds):\n",
    "    '''This numberr maximizes amount of data for 70 30 prop; total_dataset_length*prob_normal.7 = len_normal; solve for total example length\n",
    "    . This allows for 60_000 (70%) has normal transformation. Without +1 would be 59999'''\n",
    "    total_training_examples = int((len(norm_dataset)/ (1-hypers.prob_augment)) + 1)\n",
    "\n",
    "    #if k_folds take less data to maintain 70 30 prop\n",
    "    len_val = len(norm_dataset)/FOLDS if k_folds else 0 #amount in validation set with k folds\n",
    "    training_num = (len(norm_dataset) - len_val) if k_folds else total_training_examples\n",
    "\n",
    "    num_norm_train_indices = int(training_num * (1-hypers.prob_augment))\n",
    "    num_aug_train_indices = int(training_num * hypers.prob_augment)\n",
    "\n",
    "    mapped_indices = norm_train_indices + len(norm_dataset) #maps indices to aug\n",
    "    \n",
    "    norm_train_indices = np.random.choice(norm_train_indices, num_norm_train_indices, replace = False) \n",
    "    norm_train_indices = norm_train_indices.reshape(-1) #should be 1D already\n",
    "    aug_train_indices = np.random.choice(mapped_indices, num_aug_train_indices, replace = False)  \n",
    "\n",
    "    \n",
    "    return np.concatenate([norm_train_indices, aug_train_indices])\n",
    "\n",
    "def alt_loader(full_train_dataset, norm_dataset, norm_train_indices, hypers, k_folds = False):\n",
    "    full_train_indices = calc_alt_indices(norm_dataset, norm_train_indices, hypers, k_folds)\n",
    "    train_subset = Subset(full_train_dataset, full_train_indices)\n",
    "\n",
    "    #Shuffles batch order + samples within batches per epoch\n",
    "    return DataLoader(train_subset, batch_size = hypers.b_size, shuffle=True)\n",
    "    "
   ]
  },
  {
   "cell_type": "code",
   "execution_count": 18,
   "metadata": {},
   "outputs": [],
   "source": [
    "#random_state like seed; generates train/validation indices per fold\n",
    "def k_folds_alt(full_train_dataset, norm_dataset, hypers, hypercombo = None, grid_search = False):\n",
    "    \n",
    "    kf = KFold(n_splits = FOLDS, shuffle=True, random_state=20)\n",
    "    validation_accuracies = []\n",
    "\n",
    "    if grid_search:\n",
    "        alter_hyper(hypers, hypercombo)\n",
    "    \n",
    "    '''by default split only works with indices arrays unless it can use length attribute of dataset, which Pytorch provides.\n",
    "    This works too: norm_dataset.__len__(), dunder methods simplify syntax'''\n",
    "    all_norm_indices = np.arange(len(norm_dataset))\n",
    "\n",
    "    for fold, (norm_train_indices, val_indices) in enumerate(kf.split(all_norm_indices)):\n",
    "        if (fold == 0):\n",
    "            print(f'Fold {fold + 1}')\n",
    "        else:\n",
    "            print(f'\\nFold {fold + 1}')\n",
    "\n",
    "        #Since we put in norm don't need to transform validation\n",
    "        val_subset = Subset(norm_dataset, val_indices)\n",
    "        val_loader = DataLoader(val_subset, batch_size=512, shuffle=False)\n",
    "\n",
    "        train_loader = alt_loader(full_train_dataset, norm_dataset, norm_train_indices, hypers, k_folds = True)\n",
    "        \n",
    "        model = NumberNN(hypers.hidden_one, hypers.hidden_two, hypers.drop_rate, hypers.n_slope).to(device) #ensures parameters reset and each fold is independent\n",
    "        cross_entropy = nn.CrossEntropyLoss()\n",
    "        adam = optim.Adam(model.parameters(), lr = hypers.l_rate, betas=(0.9, 0.999), eps=1e-08) #forget info from EWMA\n",
    "\n",
    "        last_epoch_val_accuracy = train_model(model, train_loader, optimizer = adam, loss_f = cross_entropy, num_epochs = hypers.epochs, val_loader = val_loader)\n",
    "\n",
    "        validation_accuracies.append(last_epoch_val_accuracy)\n",
    "\n",
    "    mean_val_accuracy = np.mean(validation_accuracies)\n",
    "    #Use average validation accuracy across all folds to evaluate model\n",
    "\n",
    "    return mean_val_accuracy\n"
   ]
  },
  {
   "cell_type": "code",
   "execution_count": null,
   "metadata": {},
   "outputs": [],
   "source": [
    "#this works better\n",
    "mean_val_accuracy = k_folds_alt(10, full_train_dataset, norm_dataset, hypers)\n",
    "print(f'\\n\\033[1mMean Validation Accuracy Across All Folds: {mean_val_accuracy:.2f}%\\033[0m\\n')\n",
    "#.3 prob degrees = 15, translate = (0.03, 0.02), scale = (0.9, 1.03), shear = (-10, 10)) brightness=.22, contrast=0.25): 98.14% mean val"
   ]
  },
  {
   "cell_type": "markdown",
   "metadata": {},
   "source": [
    "#### __Hyperparameter Tuning with Gridsearch__"
   ]
  },
  {
   "cell_type": "code",
   "execution_count": 20,
   "metadata": {},
   "outputs": [
    {
     "name": "stdout",
     "output_type": "stream",
     "text": [
      "{'augment': True, 'b_size': 512, 'drop_rate': 0, 'epochs': 20, 'hidden_one': 1024, 'hidden_two': 128, 'l_rate': 0.001, 'n_slope': 0.01, 'prob_augment': 0.3}\n",
      "{'augment': True, 'b_size': 512, 'drop_rate': 0, 'epochs': 20, 'hidden_one': 1024, 'hidden_two': 256, 'l_rate': 0.001, 'n_slope': 0.01, 'prob_augment': 0.3}\n",
      "{'augment': True, 'b_size': 512, 'drop_rate': 0, 'epochs': 20, 'hidden_one': 1024, 'hidden_two': 128, 'l_rate': 0.001, 'n_slope': 0.01, 'prob_augment': 0.3}\n",
      "{'augment': True, 'b_size': 512, 'drop_rate': 0, 'epochs': 20, 'hidden_one': 1024, 'hidden_two': 256, 'l_rate': 0.001, 'n_slope': 0.01, 'prob_augment': 0.3}\n"
     ]
    }
   ],
   "source": [
    "#All other hyperparameters previously tested\n",
    "#Dictionary for gridsearch\n",
    "hyperdict = {\n",
    "    'l_rate': [hypers.l_rate],\n",
    "    'b_size': [hypers.b_size],\n",
    "    'epochs': [hypers.epochs],\n",
    "    'drop_rate': [hypers.drop_rate],\n",
    "    'hidden_one': [hypers.hidden_one, 1024],\n",
    "    'hidden_two': [hypers.hidden_two, 256],\n",
    "    'n_slope': [hypers.n_slope],\n",
    "    'augment': [hypers.augment],\n",
    "    'prob_augment': [hypers.prob_augment]\n",
    "}\n",
    "\n",
    "for dict in ParameterGrid(hyperdict):\n",
    "    print(dict)\n"
   ]
  },
  {
   "cell_type": "code",
   "execution_count": 21,
   "metadata": {},
   "outputs": [],
   "source": [
    "def GridSearch(full_train_dataset, norm_dataset, hypers, hyperdict):\n",
    "    best_hypers = None\n",
    "    best_mean_val_accuracy = 0\n",
    "    orig_hypers = hypers\n",
    "\n",
    "    #iterable - generates on the fly to save memory; generates all possible dictionary combos\n",
    "    for hypercombo in ParameterGrid(hyperdict): \n",
    "        #sometimes you save model also\n",
    "        hypers = orig_hypers #reset hypers\n",
    "        print(hypercombo)\n",
    "\n",
    "        mean_val_accuracy = k_folds_alt(full_train_dataset, norm_dataset, hypers, hypercombo, grid_search=True)\n",
    "        print(f'\\n\\033[1mMean Validation Accuracy Across All Folds: {mean_val_accuracy:.2f}%\\033[0m\\n')\n",
    "        \n",
    "        if (mean_val_accuracy > best_mean_val_accuracy):\n",
    "            best_mean_val_accuracy = mean_val_accuracy\n",
    "            best_hypers = hypercombo\n",
    "    \n",
    "    hypers = orig_hypers\n",
    "    return best_hypers, best_mean_val_accuracy"
   ]
  },
  {
   "cell_type": "code",
   "execution_count": 28,
   "metadata": {},
   "outputs": [
    {
     "name": "stdout",
     "output_type": "stream",
     "text": [
      "{'augment': True, 'b_size': 512, 'drop_rate': 0, 'epochs': 20, 'hidden_one': 512, 'hidden_two': 128, 'l_rate': 0.001, 'n_slope': 0.01, 'prob_augment': 0.3}\n",
      "Fold 1\n",
      "Epoch 1 -- Loss: 0.4078, Training Accuracy: 89.07%, Validation Accuracy: 91.60%\n",
      "Epoch 20 -- Loss: 0.0176, Training Accuracy: 98.84%, Validation Accuracy: 98.10%\n",
      "\n",
      "Fold 2\n",
      "Epoch 1 -- Loss: 0.4338, Training Accuracy: 88.36%, Validation Accuracy: 90.33%\n",
      "Epoch 20 -- Loss: 0.0454, Training Accuracy: 98.96%, Validation Accuracy: 98.28%\n",
      "\n",
      "Fold 3\n",
      "Epoch 1 -- Loss: 0.4705, Training Accuracy: 88.95%, Validation Accuracy: 90.58%\n",
      "Epoch 20 -- Loss: 0.0804, Training Accuracy: 98.78%, Validation Accuracy: 98.25%\n",
      "\n",
      "Fold 4\n",
      "Epoch 1 -- Loss: 0.2894, Training Accuracy: 89.24%, Validation Accuracy: 91.42%\n",
      "Epoch 20 -- Loss: 0.0361, Training Accuracy: 98.86%, Validation Accuracy: 98.22%\n",
      "\n",
      "Fold 5\n",
      "Epoch 1 -- Loss: 0.3952, Training Accuracy: 89.32%, Validation Accuracy: 91.50%\n",
      "Epoch 20 -- Loss: 0.0261, Training Accuracy: 98.92%, Validation Accuracy: 98.33%\n",
      "\n",
      "Fold 6\n",
      "Epoch 1 -- Loss: 0.4005, Training Accuracy: 88.24%, Validation Accuracy: 90.20%\n",
      "Epoch 20 -- Loss: 0.0457, Training Accuracy: 98.52%, Validation Accuracy: 97.88%\n",
      "\n",
      "Fold 7\n",
      "Epoch 1 -- Loss: 0.3123, Training Accuracy: 89.10%, Validation Accuracy: 91.00%\n",
      "Epoch 20 -- Loss: 0.0314, Training Accuracy: 98.88%, Validation Accuracy: 98.12%\n",
      "\n",
      "Fold 8\n",
      "Epoch 1 -- Loss: 0.3630, Training Accuracy: 88.06%, Validation Accuracy: 89.77%\n",
      "Epoch 20 -- Loss: 0.0496, Training Accuracy: 98.81%, Validation Accuracy: 97.77%\n",
      "\n",
      "Fold 9\n",
      "Epoch 1 -- Loss: 0.5072, Training Accuracy: 88.86%, Validation Accuracy: 90.68%\n",
      "Epoch 20 -- Loss: 0.0531, Training Accuracy: 98.67%, Validation Accuracy: 98.17%\n",
      "\n",
      "Fold 10\n",
      "Epoch 1 -- Loss: 0.4863, Training Accuracy: 88.94%, Validation Accuracy: 90.63%\n",
      "Epoch 20 -- Loss: 0.0105, Training Accuracy: 98.71%, Validation Accuracy: 98.13%\n",
      "\n",
      "\u001b[1mMean Validation Accuracy Across All Folds: 98.12%\u001b[0m\n",
      "\n",
      "{'augment': True, 'b_size': 512, 'drop_rate': 0, 'epochs': 20, 'hidden_one': 512, 'hidden_two': 256, 'l_rate': 0.001, 'n_slope': 0.01, 'prob_augment': 0.3}\n",
      "Fold 1\n",
      "Epoch 1 -- Loss: 0.4625, Training Accuracy: 90.26%, Validation Accuracy: 92.22%\n",
      "Epoch 20 -- Loss: 0.0456, Training Accuracy: 98.93%, Validation Accuracy: 98.18%\n",
      "\n",
      "Fold 2\n",
      "Epoch 1 -- Loss: 0.4133, Training Accuracy: 89.93%, Validation Accuracy: 91.68%\n",
      "Epoch 20 -- Loss: 0.0293, Training Accuracy: 98.91%, Validation Accuracy: 98.07%\n",
      "\n",
      "Fold 3\n",
      "Epoch 1 -- Loss: 0.2760, Training Accuracy: 89.44%, Validation Accuracy: 90.82%\n",
      "Epoch 20 -- Loss: 0.0488, Training Accuracy: 98.47%, Validation Accuracy: 97.97%\n",
      "\n",
      "Fold 4\n",
      "Epoch 1 -- Loss: 0.3065, Training Accuracy: 89.05%, Validation Accuracy: 91.70%\n",
      "Epoch 20 -- Loss: 0.0193, Training Accuracy: 98.79%, Validation Accuracy: 98.10%\n",
      "\n",
      "Fold 5\n",
      "Epoch 1 -- Loss: 0.3865, Training Accuracy: 89.26%, Validation Accuracy: 91.35%\n",
      "Epoch 20 -- Loss: 0.0506, Training Accuracy: 99.09%, Validation Accuracy: 98.28%\n",
      "\n",
      "Fold 6\n",
      "Epoch 1 -- Loss: 0.3446, Training Accuracy: 89.81%, Validation Accuracy: 91.27%\n",
      "Epoch 20 -- Loss: 0.0173, Training Accuracy: 98.81%, Validation Accuracy: 98.12%\n",
      "\n",
      "Fold 7\n",
      "Epoch 1 -- Loss: 0.2857, Training Accuracy: 89.79%, Validation Accuracy: 91.62%\n",
      "Epoch 20 -- Loss: 0.0566, Training Accuracy: 98.75%, Validation Accuracy: 98.08%\n",
      "\n",
      "Fold 8\n",
      "Epoch 1 -- Loss: 0.3773, Training Accuracy: 89.77%, Validation Accuracy: 91.28%\n",
      "Epoch 20 -- Loss: 0.0181, Training Accuracy: 98.97%, Validation Accuracy: 98.08%\n",
      "\n",
      "Fold 9\n",
      "Epoch 1 -- Loss: 0.3378, Training Accuracy: 88.24%, Validation Accuracy: 90.23%\n",
      "Epoch 20 -- Loss: 0.0523, Training Accuracy: 99.01%, Validation Accuracy: 98.20%\n",
      "\n",
      "Fold 10\n",
      "Epoch 1 -- Loss: 0.3242, Training Accuracy: 89.85%, Validation Accuracy: 91.62%\n",
      "Epoch 20 -- Loss: 0.0502, Training Accuracy: 98.39%, Validation Accuracy: 98.02%\n",
      "\n",
      "\u001b[1mMean Validation Accuracy Across All Folds: 98.11%\u001b[0m\n",
      "\n",
      "{'augment': True, 'b_size': 512, 'drop_rate': 0, 'epochs': 20, 'hidden_one': 1024, 'hidden_two': 128, 'l_rate': 0.001, 'n_slope': 0.01, 'prob_augment': 0.3}\n",
      "Fold 1\n",
      "Epoch 1 -- Loss: 0.3030, Training Accuracy: 89.19%, Validation Accuracy: 91.07%\n",
      "Epoch 20 -- Loss: 0.0251, Training Accuracy: 98.87%, Validation Accuracy: 98.07%\n",
      "\n",
      "Fold 2\n",
      "Epoch 1 -- Loss: 0.3309, Training Accuracy: 89.75%, Validation Accuracy: 91.88%\n",
      "Epoch 20 -- Loss: 0.0282, Training Accuracy: 99.07%, Validation Accuracy: 98.13%\n",
      "\n",
      "Fold 3\n",
      "Epoch 1 -- Loss: 0.3570, Training Accuracy: 90.18%, Validation Accuracy: 91.25%\n",
      "Epoch 20 -- Loss: 0.0221, Training Accuracy: 98.80%, Validation Accuracy: 98.17%\n",
      "\n",
      "Fold 4\n",
      "Epoch 1 -- Loss: 0.3232, Training Accuracy: 88.95%, Validation Accuracy: 91.08%\n",
      "Epoch 20 -- Loss: 0.0307, Training Accuracy: 98.88%, Validation Accuracy: 98.37%\n",
      "\n",
      "Fold 5\n",
      "Epoch 1 -- Loss: 0.3680, Training Accuracy: 90.14%, Validation Accuracy: 92.20%\n",
      "Epoch 20 -- Loss: 0.0333, Training Accuracy: 98.78%, Validation Accuracy: 98.32%\n",
      "\n",
      "Fold 6\n",
      "Epoch 1 -- Loss: 0.2966, Training Accuracy: 89.07%, Validation Accuracy: 91.63%\n",
      "Epoch 20 -- Loss: 0.0299, Training Accuracy: 99.06%, Validation Accuracy: 98.22%\n",
      "\n",
      "Fold 7\n",
      "Epoch 1 -- Loss: 0.4037, Training Accuracy: 90.30%, Validation Accuracy: 91.88%\n",
      "Epoch 20 -- Loss: 0.0490, Training Accuracy: 99.02%, Validation Accuracy: 98.43%\n",
      "\n",
      "Fold 8\n",
      "Epoch 1 -- Loss: 0.3564, Training Accuracy: 90.40%, Validation Accuracy: 91.78%\n",
      "Epoch 20 -- Loss: 0.0110, Training Accuracy: 98.99%, Validation Accuracy: 98.02%\n",
      "\n",
      "Fold 9\n",
      "Epoch 1 -- Loss: 0.2793, Training Accuracy: 89.05%, Validation Accuracy: 90.80%\n",
      "Epoch 20 -- Loss: 0.0224, Training Accuracy: 98.55%, Validation Accuracy: 97.97%\n",
      "\n",
      "Fold 10\n",
      "Epoch 1 -- Loss: 0.3223, Training Accuracy: 89.67%, Validation Accuracy: 91.10%\n",
      "Epoch 20 -- Loss: 0.0483, Training Accuracy: 98.95%, Validation Accuracy: 98.37%\n",
      "\n",
      "\u001b[1mMean Validation Accuracy Across All Folds: 98.21%\u001b[0m\n",
      "\n",
      "{'augment': True, 'b_size': 512, 'drop_rate': 0, 'epochs': 20, 'hidden_one': 1024, 'hidden_two': 256, 'l_rate': 0.001, 'n_slope': 0.01, 'prob_augment': 0.3}\n",
      "Fold 1\n",
      "Epoch 1 -- Loss: 0.2445, Training Accuracy: 90.92%, Validation Accuracy: 92.67%\n",
      "Epoch 20 -- Loss: 0.0464, Training Accuracy: 98.36%, Validation Accuracy: 97.70%\n",
      "\n",
      "Fold 2\n",
      "Epoch 1 -- Loss: 0.2139, Training Accuracy: 91.37%, Validation Accuracy: 92.75%\n",
      "Epoch 20 -- Loss: 0.0180, Training Accuracy: 98.92%, Validation Accuracy: 98.08%\n",
      "\n",
      "Fold 3\n",
      "Epoch 1 -- Loss: 0.2073, Training Accuracy: 90.84%, Validation Accuracy: 91.65%\n",
      "Epoch 20 -- Loss: 0.0338, Training Accuracy: 98.89%, Validation Accuracy: 98.13%\n",
      "\n",
      "Fold 4\n",
      "Epoch 1 -- Loss: 0.2908, Training Accuracy: 90.53%, Validation Accuracy: 92.60%\n",
      "Epoch 20 -- Loss: 0.0249, Training Accuracy: 99.08%, Validation Accuracy: 98.38%\n",
      "\n",
      "Fold 5\n",
      "Epoch 1 -- Loss: 0.2780, Training Accuracy: 91.13%, Validation Accuracy: 92.98%\n",
      "Epoch 20 -- Loss: 0.0426, Training Accuracy: 98.94%, Validation Accuracy: 98.55%\n",
      "\n",
      "Fold 6\n",
      "Epoch 1 -- Loss: 0.3438, Training Accuracy: 91.24%, Validation Accuracy: 92.92%\n",
      "Epoch 20 -- Loss: 0.0319, Training Accuracy: 99.13%, Validation Accuracy: 98.32%\n",
      "\n",
      "Fold 7\n",
      "Epoch 1 -- Loss: 0.4355, Training Accuracy: 91.41%, Validation Accuracy: 93.37%\n",
      "Epoch 20 -- Loss: 0.0206, Training Accuracy: 99.01%, Validation Accuracy: 98.22%\n",
      "\n",
      "Fold 8\n",
      "Epoch 1 -- Loss: 0.3605, Training Accuracy: 91.17%, Validation Accuracy: 92.62%\n",
      "Epoch 20 -- Loss: 0.0204, Training Accuracy: 98.95%, Validation Accuracy: 97.80%\n",
      "\n",
      "Fold 9\n",
      "Epoch 1 -- Loss: 0.3363, Training Accuracy: 90.87%, Validation Accuracy: 92.48%\n",
      "Epoch 20 -- Loss: 0.0571, Training Accuracy: 98.94%, Validation Accuracy: 98.05%\n",
      "\n",
      "Fold 10\n",
      "Epoch 1 -- Loss: 0.2443, Training Accuracy: 90.65%, Validation Accuracy: 92.30%\n",
      "Epoch 20 -- Loss: 0.0196, Training Accuracy: 98.74%, Validation Accuracy: 98.38%\n",
      "\n",
      "\u001b[1mMean Validation Accuracy Across All Folds: 98.16%\u001b[0m\n",
      "\n",
      "\n",
      "\u001b[1mBest Hyperparameters: {'augment': True, 'b_size': 512, 'drop_rate': 0, 'epochs': 20, 'hidden_one': 1024, 'hidden_two': 128, 'l_rate': 0.001, 'n_slope': 0.01, 'prob_augment': 0.3}, Best Mean Validation Accuracy: 98.21%\u001b[0m\n"
     ]
    }
   ],
   "source": [
    "#Always tune; batch size and learning rate relationship not always linear\n",
    "best_hypers, best_mean_val_accuracy = GridSearch(full_train_dataset, norm_dataset, hypers, hyperdict)\n",
    "print(f'\\n\\033[1mBest Hyperparameters: {best_hypers}, Best Mean Validation Accuracy:{best_mean_val_accuracy: .2f}%\\033[0m')\n",
    "\n",
    "# Best Hyperparameters: {'l_rate': 0.001}, Mean Validation Accuracy: 97.59% - no augmentation\n",
    "#Same hypers with augmentation - Mean Val: 98%"
   ]
  },
  {
   "cell_type": "markdown",
   "metadata": {},
   "source": [
    "### __Training the Model__ "
   ]
  },
  {
   "cell_type": "code",
   "execution_count": 19,
   "metadata": {},
   "outputs": [],
   "source": [
    "def train_model(model, train_loader, optimizer, loss_f, num_epochs, val_loader = None):\n",
    "    model.train() #prevents weird stuff (e.g. optimizer being weird)\n",
    "    \n",
    "    for epoch in range(num_epochs):\n",
    "\n",
    "        #each iteration is one minibatch of images/labels\n",
    "        for images, labels in train_loader: \n",
    "            images, labels = images.to(device), labels.to(device) #moves the tensor from virtual machine memory (mapped to RAM of server) to TPU memory\n",
    "\n",
    "            '''Each parameter has its own special tensor (created per layer) \n",
    "            with a number for its partial derivative in .grad attribute of tensor; step() accesses these. Zeroing\n",
    "            out graident ignores .grad and recalculates partials in backprop.'''\n",
    "            optimizer.zero_grad()\n",
    "\n",
    "            outputs = model(images) #passes this to forward\n",
    "\n",
    "            target = F.one_hot(labels, num_classes=10).float() #numclasses is numcomponents; ex. 4 = [0,0,0,1,0,0,...]\n",
    "\n",
    "            loss = loss_f(outputs, target) #tensor with scalar and computation graph\n",
    "            loss.backward() #backward propogation to compute gradient\n",
    "\n",
    "            optimizer.step() #updates model parameters (takes \"step\")\n",
    "\n",
    "            #Colab\n",
    "            #xm.optimizer_step(optimizer) #ensures gradient calculated first\n",
    "            #xm.mark_step()\n",
    "\n",
    "\n",
    "        #Print out stats for first and last epoch for k-folds cross validation\n",
    "        if val_loader and (epoch == 0 or epoch == num_epochs - 1):\n",
    "            train_accuracy, __ = evaluate(model, train_loader)\n",
    "            val_accuracy, __ = evaluate(model, val_loader)\n",
    "\n",
    "            print(f'Epoch {epoch + 1} -- Loss:{loss.item(): .4f}, Training Accuracy:{train_accuracy : .2f}%, Validation Accuracy:{val_accuracy : .2f}%')\n",
    "        \n",
    "            #return final validation accuracy to be averaged in k-folds\n",
    "            if (epoch == num_epochs - 1):\n",
    "                return val_accuracy\n",
    "        elif not val_loader and (epoch == 0 or epoch == num_epochs - 1):\n",
    "            print(f'Epoch {epoch + 1} -- Loss:{loss.item(): .4f}')\n"
   ]
  },
  {
   "cell_type": "code",
   "execution_count": 297,
   "metadata": {},
   "outputs": [],
   "source": [
    "#Old approach\n",
    "norm_aug_loader = norm_aug_trainloader(train_dataset, hypers)"
   ]
  },
  {
   "cell_type": "code",
   "execution_count": 36,
   "metadata": {},
   "outputs": [
    {
     "name": "stdout",
     "output_type": "stream",
     "text": [
      "1: 9604\n",
      "7: 8993\n",
      "3: 8795\n",
      "2: 8525\n",
      "9: 8499\n",
      "0: 8462\n",
      "6: 8398\n",
      "8: 8363\n",
      "4: 8344\n",
      "5: 7731\n"
     ]
    }
   ],
   "source": [
    "norm_train_indices = np.arange(len(norm_dataset))\n",
    "norm_aug_loader = alt_loader(full_train_dataset, norm_dataset, norm_train_indices, hypers)"
   ]
  },
  {
   "cell_type": "markdown",
   "metadata": {},
   "source": [
    "#### __Training__"
   ]
  },
  {
   "cell_type": "code",
   "execution_count": 50,
   "metadata": {},
   "outputs": [
    {
     "name": "stdout",
     "output_type": "stream",
     "text": [
      "Epoch 1 -- Loss: 0.2209\n",
      "Epoch 20 -- Loss: 0.0524\n"
     ]
    }
   ],
   "source": [
    "model = NumberNN(hypers.hidden_one, hypers.hidden_two, hypers.drop_rate, hypers.n_slope).to(device)\n",
    "cross_entropy = nn.CrossEntropyLoss()\n",
    "adam = optim.Adam(model.parameters(), hypers.l_rate, betas=(0.9, 0.999), eps=1e-08) \n",
    "\n",
    "train_model(model = model, train_loader = norm_aug_loader, optimizer = adam, loss_f = cross_entropy, num_epochs = hypers.epochs)"
   ]
  },
  {
   "cell_type": "markdown",
   "metadata": {},
   "source": [
    "### __Saving the Model__"
   ]
  },
  {
   "cell_type": "code",
   "execution_count": 61,
   "metadata": {},
   "outputs": [
    {
     "name": "stdout",
     "output_type": "stream",
     "text": [
      "mlp-h11024-lr0.001-b512-ep20-0.3-98.67\n"
     ]
    }
   ],
   "source": [
    "trained_model = f'mlp-h1{hypers.hidden_one}-lr{hypers.l_rate}-b{hypers.b_size}-ep{hypers.epochs}-{hypers.prob_augment}-{test_accuracy}'\n",
    "print(trained_model)"
   ]
  },
  {
   "cell_type": "code",
   "execution_count": 62,
   "metadata": {},
   "outputs": [],
   "source": [
    "#Save these parameters in Colab or locally\n",
    "'''Model has state dictionary, a Python dictionary that maps to the weights and \n",
    "biases. Extracts this and stores it in a file with .pth convention by convention to store PyTorch parameters \n",
    "or entire models.'''\n",
    "torch.save(model.state_dict(), f'../models/{trained_model}.pth')"
   ]
  },
  {
   "cell_type": "code",
   "execution_count": null,
   "metadata": {},
   "outputs": [],
   "source": [
    "#If using Colab, download locally\n",
    "files.download('colabmodel.pth')"
   ]
  },
  {
   "cell_type": "code",
   "execution_count": null,
   "metadata": {},
   "outputs": [],
   "source": [
    "#Then if using Colab, move to correct folder\n",
    "model_downloads_path = os.path.join(os.path.expanduser(\"~\"), \"Downloads\", \"colabmodel.pth\")\n",
    "\n",
    "model_destination_path = \"/Users/darian/Documents/Coding/deep-learning-mnist/models/colabmodel.pth\"\n",
    "\n",
    "shutil.move(model_downloads_path, model_destination_path)"
   ]
  },
  {
   "cell_type": "markdown",
   "metadata": {},
   "source": [
    "### __Loading the Saved Model__"
   ]
  },
  {
   "cell_type": "code",
   "execution_count": 21,
   "metadata": {},
   "outputs": [],
   "source": [
    "def load_model():\n",
    "    # Instantiate the model\n",
    "    model = NumberNN(hypers.hidden_one, hypers.hidden_two, hypers.drop_rate, hypers.n_slope).to(device)\n",
    "    #Update model's parameters to what it was after training\n",
    "    #model.load_state_dict(torch.load(f'../models/{trained_model}.pth'))\n",
    "    model.load_state_dict(torch.load(f'../models/mlp-h11024-lr0.001-b512-ep20-0.3-98.67.pth', map_location = device))\n",
    "    \n",
    "    '''Sometimes in training some neurons turned off (called dropout) to prevent overfitting, but when testing \n",
    "you want all neurons in model to be used, so eval fixes this as well as other settings for testing so model\n",
    "acts \"normally\"'''\n",
    "    model.eval()\n",
    "\n",
    "    return model\n",
    "\n",
    "model = load_model()"
   ]
  },
  {
   "cell_type": "markdown",
   "metadata": {},
   "source": [
    "### __Evalulating/Testing the Model__"
   ]
  },
  {
   "cell_type": "markdown",
   "metadata": {},
   "source": [
    "#### __Testing Accuracy for all Testing Data__"
   ]
  },
  {
   "cell_type": "code",
   "execution_count": 22,
   "metadata": {},
   "outputs": [],
   "source": [
    "def evaluate(model, loader):\n",
    "    model.eval()\n",
    "\n",
    "    #Counters\n",
    "    correct = 0\n",
    "    total = 0\n",
    "\n",
    "    #empty tensor of datatype long\n",
    "    all_predicted = torch.tensor([], dtype=torch.long).to(device)\n",
    "\n",
    "\n",
    "    '''with - gradient descent will be tracked outside of with block. Not tracking ->\n",
    "    doesn't store unnecessary numbers (eg. intermediate activations) for calculating gradient; \n",
    "    Saves memory and its faster\n",
    "    '''\n",
    "    with torch.no_grad():\n",
    "        for images, labels in loader:\n",
    "            images, labels = images.to(device), labels.to(device) \n",
    "\n",
    "            outputs = model(images) #self.forward(images), uses __call__\n",
    "            '''Return two tensors in tuple for max values (brightest neurons) and their indices per training \n",
    "            example in mini batch. Convention to store unimportant stuff in _. 1 as parameter input means \n",
    "            find max along dimension 1. Outputs = (batch_size, num_classes). Max outputs the max output neuron\n",
    "            and index (number) per batch.\n",
    "            '''\n",
    "            _, predicted = torch.max(outputs, 1) #tensor\n",
    "\n",
    "            #add this tensor for predicted numbers to the list; cat concatenates two tensors\n",
    "            all_predicted = torch.cat((all_predicted, predicted), dim = 0) \n",
    "\n",
    "            #Update Counters\n",
    "            total += labels.size(0) #size of first dimension (each minibatch)\n",
    "\n",
    "            #Compare each tensor, which returns new tensor with each component being True or False\n",
    "            #Sum counts the amount of True in the tensor\n",
    "            correct += (predicted == labels).sum().item()\n",
    "            accuracy = (correct/total) * 100\n",
    "        return accuracy, all_predicted"
   ]
  },
  {
   "cell_type": "code",
   "execution_count": 37,
   "metadata": {},
   "outputs": [],
   "source": [
    "test_dataset = datasets.MNIST(root = '../data', train = False, download = False, transform = transform_norm) #True on Colab\n",
    "test_loader = DataLoader(test_dataset, batch_size = 512, shuffle = False)"
   ]
  },
  {
   "cell_type": "code",
   "execution_count": 24,
   "metadata": {},
   "outputs": [
    {
     "name": "stdout",
     "output_type": "stream",
     "text": [
      "Train Accuracy: 98.95%\n",
      "Test Accuracy: 98.67%\n"
     ]
    }
   ],
   "source": [
    "train_accuracy, __ = evaluate(model, loader = norm_aug_loader)\n",
    "print(f'Train Accuracy:{train_accuracy : .2f}%')\n",
    "\n",
    "test_accuracy, predicted = evaluate(model, loader = test_loader)\n",
    "print(f'Test Accuracy:{test_accuracy : .2f}%')"
   ]
  },
  {
   "cell_type": "markdown",
   "metadata": {},
   "source": [
    "#### __Recall Per Digit__"
   ]
  },
  {
   "cell_type": "code",
   "execution_count": 23,
   "metadata": {},
   "outputs": [],
   "source": [
    "def digit_indices(dataset, digit):\n",
    "    indices = []\n",
    "    for index, (image, label) in enumerate(dataset):\n",
    "        if label == digit:\n",
    "            indices.append(index)\n",
    "    return indices"
   ]
  },
  {
   "cell_type": "code",
   "execution_count": 45,
   "metadata": {},
   "outputs": [
    {
     "name": "stdout",
     "output_type": "stream",
     "text": [
      "Recall for 1: 99.91%\n",
      "Recall for 6: 99.48%\n",
      "Recall for 0: 99.18%\n",
      "Recall for 5: 98.77%\n",
      "Recall for 2: 98.74%\n",
      "Recall for 4: 98.47%\n",
      "Recall for 8: 98.25%\n",
      "Recall for 3: 98.02%\n",
      "Recall for 7: 97.96%\n",
      "Recall for 9: 97.82%\n"
     ]
    }
   ],
   "source": [
    "recalls = {}\n",
    "\n",
    "for i in range(0,10):\n",
    "    one_digit_indices = digit_indices(dataset = test_dataset, digit = i)\n",
    "    one_digit_test_set = Subset(test_dataset, one_digit_indices)\n",
    "    one_digit_loader = DataLoader(one_digit_test_set, batch_size = 512, shuffle = False)\n",
    "\n",
    "    recall, __ = evaluate(model, loader = one_digit_loader)\n",
    "    recalls[i] = recall\n",
    "\n",
    "sorted_recalls = sorted(recalls.items(), key = itemgetter(1), reverse = True)\n",
    "\n",
    "for digit, recall in sorted_recalls:\n",
    "    print(f'Recall for {digit}:{recall: .2f}%')"
   ]
  },
  {
   "cell_type": "markdown",
   "metadata": {},
   "source": [
    "#### __Confusion Matrix and More Summary Statistics__"
   ]
  },
  {
   "cell_type": "code",
   "execution_count": 28,
   "metadata": {},
   "outputs": [],
   "source": [
    "'''Can't append lists otherwise you get nested list structure. Can either append each element to the list in loop or use extend().\n",
    "Numpy array eventually required for creating the confusion matrix. Python lists memory works like ArrayLists while numpy arrays work\n",
    "like normal arrays. Homogenous, contiguous np array means easier to calculate memory address of element so CPU can access stuff much faster \n",
    "for numpy. Unlike numpy, Python doesn't store objects themselves in list (fast) but instead a pointer to support heterogenous list. \n",
    "np array must be on CPU.'''\n",
    "\n",
    "labels = []\n",
    "for image, label in test_dataset:\n",
    "    labels.append(label)\n",
    "\n",
    "np_labels = np.array(labels)\n",
    "np_predicted = predicted.to(\"cpu\").numpy() #np arrays "
   ]
  },
  {
   "cell_type": "code",
   "execution_count": 47,
   "metadata": {},
   "outputs": [
    {
     "data": {
      "image/png": "[encoded data removed]",
      "text/plain": [
       "<Figure size 640x480 with 2 Axes>"
      ]
     },
     "metadata": {},
     "output_type": "display_data"
    }
   ],
   "source": [
    "cm = confusion_matrix(np_labels, np_predicted)\n",
    "\n",
    "#matplotlib object\n",
    "disp = ConfusionMatrixDisplay(confusion_matrix=cm, display_labels=[i for i in range(0,10)])\n",
    "\n",
    "disp.plot(cmap='Blues')\n",
    "plt.title('Confusion Matrix')\n",
    "plt.show()"
   ]
  },
  {
   "cell_type": "code",
   "execution_count": 44,
   "metadata": {},
   "outputs": [
    {
     "name": "stdout",
     "output_type": "stream",
     "text": [
      "              precision    recall  f1-score   support\n",
      "\n",
      "           0       0.99      0.99      0.99       980\n",
      "           1       0.99      1.00      0.99      1135\n",
      "           2       0.99      0.99      0.99      1032\n",
      "           3       0.99      0.98      0.98      1010\n",
      "           4       0.98      0.98      0.98       982\n",
      "           5       0.97      0.99      0.98       892\n",
      "           6       0.99      0.99      0.99       958\n",
      "           7       0.99      0.98      0.98      1028\n",
      "           8       0.99      0.98      0.99       974\n",
      "           9       0.99      0.98      0.98      1009\n",
      "\n",
      "    accuracy                           0.99     10000\n",
      "   macro avg       0.99      0.99      0.99     10000\n",
      "weighted avg       0.99      0.99      0.99     10000\n",
      "\n"
     ]
    }
   ],
   "source": [
    "'''Numbers often misclassified as 5 probably because there are less 5s in the dataset.'''\n",
    "class_precisions = precision_score(np_labels, np_predicted, average='weighted')\n",
    "class_recalls = recall_score(np_labels, np_predicted, average='weighted')\n",
    "class_f1_scores = f1_score(np_labels, np_predicted, average='weighted')\n",
    "\n",
    "report = classification_report(np_labels, np_predicted)\n",
    "\n",
    "print(report)"
   ]
  },
  {
   "cell_type": "markdown",
   "metadata": {},
   "source": [
    "### __Inputting a New Image__"
   ]
  },
  {
   "cell_type": "markdown",
   "metadata": {},
   "source": [
    "#### __Pixelation__"
   ]
  },
  {
   "cell_type": "code",
   "execution_count": 31,
   "metadata": {},
   "outputs": [],
   "source": [
    "def pixelate_image(image, pixelation_level):\n",
    "    \n",
    "    '''/ is floor division. Tuples have indices. Resize is changing # of pixels after knowing new \n",
    "    size of image, what makes it appear pixelated is then enlarging image so the few pixels are larger.\n",
    "    Bilinear interpoloation is to get value of each pixel, look at weighted (based on distance) average of \n",
    "    4 nearest pixels of where it would go to determine new value. Then split those big pixels up again \n",
    "    so the size is same as original but looks more pixelated.'''\n",
    "\n",
    "    #open and greyscale image (compress to 1 channel)\n",
    "\n",
    "    new_size = (image.size[0] // pixelation_level, image.size[1] // pixelation_level)\n",
    "    pixelated = image.resize(new_size,resample=Image.BILINEAR)\n",
    "\n",
    "    pixelated = pixelated.resize((28, 28))\n",
    "    \n",
    "    return pixelated\n",
    "\n",
    "#Preprocess using functions of the Image class\n",
    "def preprocess_image(image, pixelation_level):\n",
    "    image = pixelate_image(image, pixelation_level)\n",
    "    image = transform_norm(image)  #images -> pixel values-> normalize\n",
    "    image = image.unsqueeze(0)  #Add singleton dimension (batch_size) to image; not used, but specific shape necessary for model\n",
    "    return image\n",
    "\n",
    "def preprocess_no_pixelation(image):\n",
    "    image = image.resize((28, 28))\n",
    "    image = transform_norm(image) \n",
    "    image = image.unsqueeze(0)\n",
    "    return image"
   ]
  },
  {
   "cell_type": "code",
   "execution_count": 32,
   "metadata": {},
   "outputs": [
    {
     "name": "stdout",
     "output_type": "stream",
     "text": [
      "Probability of 9: 99.293%\n",
      "Probability of 8: 0.432%\n",
      "Probability of 7: 0.153%\n",
      "Probability of 3: 0.080%\n",
      "Probability of 2: 0.024%\n",
      "Probability of 1: 0.017%\n",
      "Probability of 0: 0.001%\n",
      "Probability of 4: 0.000%\n",
      "Probability of 5: 0.000%\n",
      "Probability of 6: 0.000%\n",
      "\n",
      "Predicted Number: 9\n"
     ]
    }
   ],
   "source": [
    "original = Image.open('../data/test-images/9-1.png').convert('L')\n",
    "\n",
    "#pixelation slightly worse outcome because its different noise than model experienced in training\n",
    "pixelation_level = 1\n",
    "pixelated_image = pixelate_image(original, pixelation_level)\n",
    "\n",
    "image_transformed = preprocess_image(original, pixelation_level).to(device)\n",
    "#image_transformed = preprocess_no_pixelation(image).to(device)\n",
    "with torch.no_grad():\n",
    "    outputs = model(image_transformed)\n",
    "    _, predicted = torch.max(outputs, dim = 1)\n",
    "\n",
    "    #softmax takes care of negative outputs\n",
    "    probabilities = F.softmax(outputs, dim = 1) #probabilities[i] that contains softmax for outputs of i+1 image \n",
    "\n",
    "#[(number, probability tensor)...]; enumerate packs into tuple with counter\n",
    "prob_tuples = list(enumerate(probabilities[0])) \n",
    "\n",
    "#to sort by max, extract probability with itemgetter\n",
    "prob_tuples.sort(key = itemgetter(1), reverse = True)\n",
    "\n",
    "for number, probability in prob_tuples:\n",
    "    print(f'Probability of {number}:{probability.item() * 100: .3f}%')\n",
    "\n",
    "print(f'\\nPredicted Number: {predicted.item()}')"
   ]
  },
  {
   "cell_type": "markdown",
   "metadata": {},
   "source": [
    "#### __Visualizing the Pixelated Image__"
   ]
  },
  {
   "cell_type": "code",
   "execution_count": 33,
   "metadata": {},
   "outputs": [
    {
     "data": {
      "image/png": "[encoded data removed]",
      "text/plain": [
       "<Figure size 640x480 with 2 Axes>"
      ]
     },
     "metadata": {},
     "output_type": "display_data"
    }
   ],
   "source": [
    "side_by_side_plot(original, pixelated_image, \"Original\", \"Pixelated\")"
   ]
  }
 ],
 "metadata": {
  "kernelspec": {
   "display_name": "Python 3",
   "language": "python",
   "name": "python3"
  },
  "language_info": {
   "codemirror_mode": {
    "name": "ipython",
    "version": 3
   },
   "file_extension": ".py",
   "mimetype": "text/x-python",
   "name": "python",
   "nbconvert_exporter": "python",
   "pygments_lexer": "ipython3",
   "version": "3.10.14"
  }
 },
 "nbformat": 4,
 "nbformat_minor": 2
}
