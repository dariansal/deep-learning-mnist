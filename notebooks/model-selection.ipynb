{
 "cells": [
  {
   "cell_type": "markdown",
   "metadata": {},
   "source": []
  },
  {
   "cell_type": "markdown",
   "metadata": {},
   "source": [
    "<center><h2><b><u> Multilayer Perceptron with MNIST Dataset</u></b></h2></center>"
   ]
  },
  {
   "cell_type": "markdown",
   "metadata": {},
   "source": [
    "### __Importing Libraries, Classes, and Functions__"
   ]
  },
  {
   "cell_type": "code",
   "execution_count": 581,
   "metadata": {},
   "outputs": [],
   "source": [
    "from operator import itemgetter\n",
    "import numpy as np\n",
    "import torch\n",
    "import torch.nn as nn #provides classes/modules for making neural networks\n",
    "from torch.nn import Linear\n",
    "import torch.nn.functional as F #a module with common nn functions (operations on tensors/high dim matrices; activations)\n",
    "import torch.optim as optim #contains optimization algorithms like SGD\n",
    "from torchvision import datasets, transforms #includes MNIST, transform images -> tensors\n",
    "from torch.utils.data import DataLoader, TensorDataset, Subset, ConcatDataset #allows shuffling and minbatches\n",
    "from PIL import Image\n",
    "import matplotlib.pyplot as plt\n",
    "from sklearn.model_selection import KFold, ParameterGrid\n",
    "from sklearn.metrics import confusion_matrix, ConfusionMatrixDisplay, precision_score, recall_score, f1_score, accuracy_score, classification_report\n",
    "import os\n",
    "import shutil\n",
    "import json\n",
    "#!pip install torch-xla\n",
    "#import torch_xla\n",
    "#import torch_xla.core.xla_model as xm #tpu\n",
    "#from google.colab import files"
   ]
  },
  {
   "cell_type": "markdown",
   "metadata": {},
   "source": [
    "### __Initializing the Hyperparameters__"
   ]
  },
  {
   "cell_type": "code",
   "execution_count": 582,
   "metadata": {},
   "outputs": [],
   "source": [
    "class Hypers:\n",
    "    def __init__(self, hyperpath):\n",
    "        with open(hyperpath, 'r') as file:\n",
    "            hyper_dict = json.load(file)\n",
    "        self.l_rate = hyper_dict['learning_rate']\n",
    "        self.b_size = hyper_dict['batch_size']\n",
    "        self.epochs = hyper_dict['epochs']\n",
    "        self.drop_rate = hyper_dict['dropout_rate']\n",
    "        self.hidden_one = hyper_dict['hidden_one']\n",
    "        self.hidden_two = hyper_dict['hidden_two']\n",
    "        self.n_slope = hyper_dict['n_slope']\n",
    "        self.augment = hyper_dict['augment']\n",
    "        self.prob_augment = hyper_dict['prob_augment']\n",
    "        self.beta_one = hyper_dict['beta_one']\n",
    "        self.beta_two = hyper_dict['beta_two']\n",
    "\n",
    "\n",
    "#can feed this into functions that need hypers\n",
    "hypers = Hypers('../config/hyperparameters.json')"
   ]
  },
  {
   "cell_type": "markdown",
   "metadata": {},
   "source": [
    "### __The Model Blueprint__"
   ]
  },
  {
   "cell_type": "code",
   "execution_count": 583,
   "metadata": {},
   "outputs": [],
   "source": [
    "class NumberNN(nn.Module): \n",
    "    def __init__(self, hidden_one, hidden_two, drop_prob, n_slope):\n",
    "        super(NumberNN, self).__init__() #explicitly call parent class constructor to initialize stuff\n",
    "                                    #parent (nn.Module) technically initialized too and tied to child but you only access child\n",
    "        self.fc1 = Linear(in_features = 28**2, out_features = hidden_one) #num features = num neurons in input layer (1 neuron per feature/vector component)\n",
    "        self.fc2 = Linear(hidden_one, hidden_two)\n",
    "        self.fc3 = Linear(hidden_two, 10)\n",
    "        self.n_slope = n_slope\n",
    "\n",
    "        self.dropout = nn.Dropout(p=drop_prob) \n",
    "    \n",
    "    def forward(self, x):\n",
    "        '''MNIST is (batch_size = ..., channels = 1, height = 28, width = 28), a 3D tensor. To plot you want 2D 28x28,\n",
    "        and for input layer you need to make the pixel reprsentation 1D (batch_size, 784). Batch size since it processes\n",
    "        a whole batch at once. -1 infers dim of the vector/features (784)\n",
    "        '''\n",
    "        x = x.view(-1, 28**2)  # Flatten the input tensor (batch_size, 1, 28, 28) to (batch_size, 784)\n",
    "\n",
    "        z1 = self.fc1(x) #Weight matrix + bias vector\n",
    "        a1 = F.leaky_relu(z1, negative_slope= self.n_slope) \n",
    "        a1 = self.dropout(a1) #Starting dropout in layer 2; don't drop inputs\n",
    "\n",
    "        z2 = self.fc2(a1)\n",
    "        a2 = F.leaky_relu(z2, negative_slope= self.n_slope) \n",
    "        a2 = self.dropout(a2)\n",
    "\n",
    "        outputs = self.fc3(a2) #logits - softmax(logit) = p_class\n",
    "        \n",
    "        return outputs"
   ]
  },
  {
   "cell_type": "markdown",
   "metadata": {},
   "source": [
    "### __Data Loading and Preparation__"
   ]
  },
  {
   "cell_type": "markdown",
   "metadata": {},
   "source": [
    "#### __Choosing the Device__"
   ]
  },
  {
   "cell_type": "code",
   "execution_count": 584,
   "metadata": {},
   "outputs": [],
   "source": [
    "#device = xm.xla_device() #Sets up commmunication between CPU and TPU\n",
    "device = torch.device(\"mps\") if torch.backends.mps.is_available() else torch.device(\"cpu\")"
   ]
  },
  {
   "cell_type": "markdown",
   "metadata": {},
   "source": [
    "#### __Setting the Seed__"
   ]
  },
  {
   "cell_type": "code",
   "execution_count": 585,
   "metadata": {},
   "outputs": [],
   "source": [
    "np.random.seed(20)"
   ]
  },
  {
   "cell_type": "markdown",
   "metadata": {},
   "source": [
    "#### __Defining the Transformations__"
   ]
  },
  {
   "cell_type": "code",
   "execution_count": 704,
   "metadata": {},
   "outputs": [],
   "source": [
    "'''Transformation function object applies transformations in list sequentially (e.g. images into tensors \n",
    "-> normalize). Normalizing/condensing pixels to 0-1 to make model focuses more on relationships instead\n",
    "of brightness levels.'''\n",
    "def transformations(hypers):\n",
    "    transform_norm = transforms.Compose([transforms.ToTensor(), transforms.Normalize((0.5,), (0.5,))])\n",
    "\n",
    "\n",
    "    #degrees - max rotation; translation - max horizontal/vert shift, scale - scaling range, shear - up to 10 degrees for both axes\n",
    "    #all these are hypers\n",
    "    aug = transforms.RandomAffine(degrees = 10, translate = (0.03, 0.02), scale = (0.9, 1.01), shear = (-10, 10))\n",
    "\n",
    "    if (hypers.augment == True):\n",
    "        #.2 -> ranges from .8 to 1.2 of orig (1)\n",
    "        transform_aug = transforms.Compose([aug, transforms.ColorJitter(brightness=.22, contrast=0.25), \n",
    "                                        transforms.ToTensor(),\n",
    "                                        transforms.Normalize((0.5,), (0.5,))\n",
    "                                        ])\n",
    "        \n",
    "    else:\n",
    "        transform_aug = transform_norm\n",
    "    \n",
    "    return transform_norm, transform_aug"
   ]
  },
  {
   "cell_type": "code",
   "execution_count": 705,
   "metadata": {},
   "outputs": [],
   "source": [
    "transform_norm, transform_aug = transformations(hypers)"
   ]
  },
  {
   "cell_type": "markdown",
   "metadata": {},
   "source": [
    "#### __Loading the Data__"
   ]
  },
  {
   "cell_type": "code",
   "execution_count": 588,
   "metadata": {},
   "outputs": [],
   "source": [
    "'''like list of tuples of (image (tensor), label). First element of tuple is 3d array (channels, width, length) for the image. Grayscale\n",
    "dimension doesn't add new info. Second elemnt of tuple is just an integer for the label. Feature inputs (pixels) commonly denoted\n",
    "x and outputs (labels) as y.'''\n",
    "#Used for approach 1 for augmenting and for creating aug_dataset in approach 2\n",
    "train_dataset = datasets.MNIST(root = '../data', train = True, download = False, transform = None)\n",
    "norm_dataset = datasets.MNIST(root = '../data', train = True, download = False, transform = transform_norm) #used in approach 2\n",
    "\n",
    "test_dataset = datasets.MNIST(root = '../data', train = False, download = False, transform = transform_norm) #Download = true on Colab\n",
    "test_loader = DataLoader(test_dataset, batch_size = 512, shuffle = False)"
   ]
  },
  {
   "cell_type": "markdown",
   "metadata": {},
   "source": [
    "### __Data Augmentation__"
   ]
  },
  {
   "cell_type": "markdown",
   "metadata": {},
   "source": [
    "#### __Viewing the Current Distribution of Classes__"
   ]
  },
  {
   "cell_type": "code",
   "execution_count": 589,
   "metadata": {},
   "outputs": [],
   "source": [
    "def distribution(dataset):\n",
    "    freq = {}\n",
    "    for label in range(0, 10):\n",
    "        freq[label] = 0\n",
    "\n",
    "    for image, label in dataset:\n",
    "        freq[label] += 1\n",
    "\n",
    "    #list of tuples\n",
    "    freq_sorted = sorted(freq.items(), key = itemgetter(1), reverse = True)\n",
    "    for number, freq in freq_sorted:\n",
    "        print(f'{number}: {freq}')\n"
   ]
  },
  {
   "cell_type": "code",
   "execution_count": 590,
   "metadata": {},
   "outputs": [
    {
     "name": "stdout",
     "output_type": "stream",
     "text": [
      "1: 6742\n",
      "7: 6265\n",
      "3: 6131\n",
      "2: 5958\n",
      "9: 5949\n",
      "0: 5923\n",
      "6: 5918\n",
      "8: 5851\n",
      "4: 5842\n",
      "5: 5421\n"
     ]
    }
   ],
   "source": [
    "distribution(norm_dataset)"
   ]
  },
  {
   "cell_type": "markdown",
   "metadata": {},
   "source": [
    "#### __Getting Proper Proportions of Augmented and Original Data__"
   ]
  },
  {
   "cell_type": "code",
   "execution_count": 591,
   "metadata": {},
   "outputs": [],
   "source": [
    "'''Get data -> split into subsets -> wrap them in DataSetT class and give them transformation attribute, \n",
    "define methods necessary for DataLoader-> merge them back together'''\n",
    "class DataSetT:\n",
    "    def __init__(self, images, labels, transform):\n",
    "        self.images = images\n",
    "        self.labels = labels\n",
    "        self.transform = transform\n",
    "\n",
    "    def __len__(self): #subset has length\n",
    "        return len(self.images)\n",
    "    \n",
    "    def __getitem__(self, index): #works with DataLoader, lets me do dataset[index]; SubSet has this implemented but not with transform\n",
    "        sample = self.images[index]\n",
    "        sample_transformed = self.transform(sample) # __call__ method of Compose on Data instance: for sammple (s) in self.transforms, s = t(s)\n",
    "        label = self.labels[index] \n",
    "        return sample_transformed, label"
   ]
  },
  {
   "cell_type": "code",
   "execution_count": 592,
   "metadata": {},
   "outputs": [],
   "source": [
    "def extract(dataset):\n",
    "    images = []\n",
    "    labels = []\n",
    "    for image, label in dataset:\n",
    "        images.append(image)\n",
    "        labels.append(label)\n",
    "    return images, labels\n",
    "\n",
    "def calculate_indices(dataset, hypers):\n",
    "    len_train = len(dataset)\n",
    "\n",
    "    num_norm_indices = int(len_train * (1 - hypers.prob_augment))\n",
    "    num_aug_indices = int(len_train * hypers.prob_augment)\n",
    "\n",
    "    all_indices = np.random.permutation(len_train) #random array of numbers 0 to n-1\n",
    "\n",
    "    #part of permutation is indices for norm images, rest is augmented\n",
    "    norm_indices = all_indices[0:num_norm_indices] \n",
    "    aug_indices = all_indices[num_norm_indices:]\n",
    "\n",
    "    return norm_indices, aug_indices\n",
    "\n",
    "def create_dataset_t(dataset, indices, transformation):\n",
    "    subset = Subset(dataset, indices)\n",
    "    images, labels = extract(subset) #MNIST has .data and .labels apparently so extract not necessary\n",
    "    return DataSetT(images, labels, transformation)\n",
    "\n",
    "\n",
    "def norm_aug_loader_one(dataset, hypers):\n",
    "    norm_indices, aug_indices = calculate_indices(dataset, hypers)\n",
    "\n",
    "    #For norm and aug, create a subset of the data, create Data instance so relevant transformation is applied when DataLoader gets image\n",
    "    norm_dataset = create_dataset_t(dataset, norm_indices)\n",
    "    aug_dataset = create_dataset_t(dataset, aug_indices)\n",
    "\n",
    "   #Concat determines what dataset contains that index -> recalculates index for that dataset -> delegates __getitem__ call to that Data instance\n",
    "    norm_aug_trainset = ConcatDataset([norm_dataset, aug_dataset])\n",
    "    return DataLoader(norm_aug_trainset, hypers.b_size, shuffle = True)"
   ]
  },
  {
   "cell_type": "markdown",
   "metadata": {},
   "source": [
    "#### __Creating Augmented Data and Altering Class Distribution Based on Confusion Matrix Analysis__"
   ]
  },
  {
   "cell_type": "code",
   "execution_count": 593,
   "metadata": {},
   "outputs": [
    {
     "name": "stdout",
     "output_type": "stream",
     "text": [
      "1: 6742\n",
      "7: 6265\n",
      "3: 6131\n",
      "2: 5958\n",
      "9: 5949\n",
      "0: 5923\n",
      "6: 5918\n",
      "8: 5851\n",
      "4: 5842\n",
      "5: 5421\n"
     ]
    }
   ],
   "source": [
    "distribution(train_dataset)"
   ]
  },
  {
   "cell_type": "code",
   "execution_count": 594,
   "metadata": {},
   "outputs": [],
   "source": [
    "'''Replace NUM_FIVES ones with fives in augmented data. Since transformation is on the fly just make a set of training data with more 5's and wrap it after''' \n",
    "def digit_indices(dataset, digit):\n",
    "    indices = []\n",
    "    for index, (image, label) in enumerate(dataset):\n",
    "        if label == digit:\n",
    "            indices.append(index)\n",
    "    return indices\n",
    "\n",
    "def replace_victim_with_incoming_aug(replacements, transformation = transform_aug):\n",
    "    images, labels = extract(train_dataset)\n",
    "\n",
    "    for (victim, incoming, num_replacements) in replacements:\n",
    "        incoming_indices = digit_indices(dataset = train_dataset, digit = incoming)\n",
    "        incoming_data = Subset(train_dataset, incoming_indices) #set of image, label of the incoming number\n",
    "\n",
    "        victim_indices = digit_indices(dataset = train_dataset, digit = victim)\n",
    "        victim_indices = np.random.choice(victim_indices, num_replacements, replace = False) \n",
    "\n",
    "        place = 0\n",
    "        for index in victim_indices:\n",
    "            images[index], labels[index] = incoming_data[place]\n",
    "            place += 1\n",
    "    \n",
    "    return DataSetT(images, labels, transform=transformation)"
   ]
  },
  {
   "cell_type": "code",
   "execution_count": 595,
   "metadata": {},
   "outputs": [
    {
     "name": "stdout",
     "output_type": "stream",
     "text": [
      "9: 6249\n",
      "5: 6221\n",
      "3: 6131\n",
      "7: 6065\n",
      "4: 6042\n",
      "1: 5942\n",
      "6: 5918\n",
      "2: 5858\n",
      "8: 5851\n",
      "0: 5723\n"
     ]
    }
   ],
   "source": [
    "aug_dataset = replace_victim_with_incoming_aug([(1, 5, 800), \n",
    "                                                (0, 9, 200), \n",
    "                                                (2, 9, 100), \n",
    "                                                (7, 4, 200)]\n",
    "                                                )\n",
    "\n",
    "distribution(aug_dataset)"
   ]
  },
  {
   "cell_type": "markdown",
   "metadata": {},
   "source": [
    "#### __Visualizing the Augmentation__"
   ]
  },
  {
   "cell_type": "code",
   "execution_count": 596,
   "metadata": {},
   "outputs": [],
   "source": [
    "def side_by_side_plot(image1, image2, title1, title2):\n",
    "    plt.subplot(1, 2, 1)\n",
    "    plt.imshow(image1, cmap=\"grey\")\n",
    "    plt.title(f'{title1}')\n",
    "    plt.axis(\"off\")\n",
    "\n",
    "    plt.subplot(1,2,2)\n",
    "    plt.title(f'{title2}')\n",
    "    plt.imshow(image2, cmap = \"grey\")\n",
    "    plt.axis(\"off\")\n",
    "\n",
    "    plt.show()\n",
    "\n",
    "def get_image(dataset, index):\n",
    "    image, __ = dataset[index]\n",
    "    return image.squeeze(0) #remove singleton batch_size dimension (provides no new info); now 2D (28x28) array"
   ]
  },
  {
   "cell_type": "code",
   "execution_count": 686,
   "metadata": {},
   "outputs": [
    {
     "data": {
      "image/png": "[encoded data removed]",
      "text/plain": [
       "<Figure size 640x480 with 2 Axes>"
      ]
     },
     "metadata": {},
     "output_type": "display_data"
    }
   ],
   "source": [
    "index = 4\n",
    "norm_image = get_image(norm_dataset, index)\n",
    "aug_image = get_image(aug_dataset, index)\n",
    "\n",
    "side_by_side_plot(norm_image, aug_image, \"Original\", \"Augmented\")"
   ]
  },
  {
   "cell_type": "markdown",
   "metadata": {},
   "source": [
    "### __Model Evaluation and Selection__"
   ]
  },
  {
   "cell_type": "markdown",
   "metadata": {},
   "source": [
    "#### __Training and Evaluation Methods__"
   ]
  },
  {
   "cell_type": "code",
   "execution_count": 598,
   "metadata": {},
   "outputs": [],
   "source": [
    "def evaluate(model, loader):\n",
    "    model.eval()\n",
    "\n",
    "    #Counters\n",
    "    correct = 0\n",
    "    total = 0\n",
    "\n",
    "    #empty tensor of datatype long\n",
    "    all_predicted = torch.tensor([], dtype=torch.long).to(device)\n",
    "\n",
    "\n",
    "    '''with - gradient descent will be tracked outside of with block. Not tracking ->\n",
    "    doesn't store unnecessary numbers (eg. intermediate activations) for calculating gradient; \n",
    "    Saves memory and its faster'''\n",
    "    with torch.no_grad():\n",
    "        for images, labels in loader:\n",
    "            images, labels = images.to(device), labels.to(device) \n",
    "\n",
    "            outputs = model(images) #self.forward(images), uses __call__\n",
    "            '''Return two tensors in tuple for max values (brightest neurons) and their indices per training \n",
    "            example in mini batch. Convention to store unimportant stuff in _. 1 as parameter input means \n",
    "            find max along dimension 1. Outputs = (batch_size, num_classes). Max outputs the max output neuron\n",
    "            and index (number) per batch.\n",
    "            '''\n",
    "            _, predicted = torch.max(outputs, 1) #tensor\n",
    "\n",
    "            #add this tensor for predicted numbers to the list; cat concatenates two tensors\n",
    "            all_predicted = torch.cat((all_predicted, predicted), dim = 0) \n",
    "\n",
    "            #Update Counters\n",
    "            total += labels.size(0) #size of first dimension (each minibatch)\n",
    "\n",
    "            #Compare each tensor, which returns new tensor with each component being True or False\n",
    "            #Sum counts the amount of True in the tensor\n",
    "            correct += (predicted == labels).sum().item()\n",
    "            accuracy = (correct/total) * 100\n",
    "        return accuracy, all_predicted"
   ]
  },
  {
   "cell_type": "code",
   "execution_count": 599,
   "metadata": {},
   "outputs": [],
   "source": [
    "def train_model(model, train_loader, optimizer, loss_f, num_epochs, val_loader = None):\n",
    "    model.train() #prevents weird stuff (e.g. optimizer being weird)\n",
    "    \n",
    "    for epoch in range(num_epochs):\n",
    "\n",
    "        #each iteration is one minibatch of images/labels\n",
    "        for images, labels in train_loader: \n",
    "            images, labels = images.to(device), labels.to(device) #moves the tensor from virtual machine memory (mapped to RAM of server) to TPU memory\n",
    "\n",
    "            '''Each parameter has its own special tensor (created per layer) \n",
    "            with a number for its partial derivative in .grad attribute of tensor; step() accesses these. Zeroing\n",
    "            out graident ignores .grad and recalculates partials in backprop.'''\n",
    "            optimizer.zero_grad()\n",
    "\n",
    "            outputs = model(images) #passes this to forward\n",
    "\n",
    "            target = F.one_hot(labels, num_classes=10).float() #numclasses is numcomponents; ex. 4 = [0,0,0,1,0,0,...]\n",
    "\n",
    "            loss = loss_f(outputs, target) #tensor with scalar and computation graph\n",
    "            loss.backward() #backward propogation to compute gradient\n",
    "\n",
    "            optimizer.step() #updates model parameters (takes \"step\")\n",
    "\n",
    "            #Colab\n",
    "            #xm.optimizer_step(optimizer) #ensures gradient calculated first\n",
    "            #xm.mark_step()\n",
    "\n",
    "\n",
    "        #Print out stats for first and last epoch for k-folds cross validation\n",
    "        if val_loader and (epoch == 0 or epoch == num_epochs - 1):\n",
    "            train_accuracy, __ = evaluate(model, train_loader)\n",
    "            val_accuracy, __ = evaluate(model, val_loader)\n",
    "\n",
    "            print(f'Epoch {epoch + 1} -- Loss:{loss.item(): .4f}, Training Accuracy:{train_accuracy : .2f}%, Validation Accuracy:{val_accuracy : .2f}%')\n",
    "        \n",
    "            #return final validation accuracy to be averaged in k-folds\n",
    "            if (epoch == num_epochs - 1):\n",
    "                return val_accuracy\n",
    "        elif not val_loader and (epoch == 0):\n",
    "            print(f'Epoch {epoch + 1} -- Loss:{loss.item(): .4f}')\n",
    "        elif not val_loader and (epoch == num_epochs - 1):\n",
    "            print(f'Epoch {epoch + 1} -- Loss:{loss.item(): .4f}\\n')"
   ]
  },
  {
   "cell_type": "markdown",
   "metadata": {},
   "source": [
    "#### __Alter Hyper for Grid Search__"
   ]
  },
  {
   "cell_type": "code",
   "execution_count": 600,
   "metadata": {},
   "outputs": [],
   "source": [
    "def alter_hyper(hypers, hypercombo):\n",
    "    hypers.l_rate = hypercombo['l_rate']\n",
    "    hypers.b_size = hypercombo['b_size']\n",
    "    hypers.epochs = hypercombo['epochs']\n",
    "    hypers.drop_rate = hypercombo['drop_rate']\n",
    "    hypers.hidden_one = hypercombo['hidden_one']\n",
    "    hypers.hidden_two = hypercombo['hidden_two']\n",
    "    hypers.n_slope = hypercombo['n_slope']\n",
    "    hypers.augment = hypercombo['augment']\n",
    "    hypers.prob_augment = hypercombo['prob_augment']\n",
    "    hypers.beta_one = hypercombo['beta_one']\n",
    "    hypers.beta_two = hypercombo['beta_two']"
   ]
  },
  {
   "cell_type": "markdown",
   "metadata": {},
   "source": [
    "#### __K-folds Cross Validation - Approach 1 (Splitting Training)__"
   ]
  },
  {
   "cell_type": "code",
   "execution_count": 273,
   "metadata": {},
   "outputs": [],
   "source": [
    "#already ensure validation only used once per sample\n",
    "def k_folds(folds, train_dataset, hypers, hypercombo = None, grid_search = False):\n",
    "\n",
    "    kf = KFold(n_splits = folds, shuffle = True, random_state = 20)\n",
    "    validation_accuracies = []\n",
    "\n",
    "    if grid_search:\n",
    "        alter_hyper(hypers, hypercombo)\n",
    "\n",
    "    cross_entropy = nn.CrossEntropyLoss()\n",
    "\n",
    "    for fold, (train_indices, val_indices) in enumerate(kf.split(train_dataset)):\n",
    "        if (fold == 0):\n",
    "            print(f'Fold {fold + 1}')\n",
    "        else:\n",
    "            print(f'\\nFold {fold + 1}')\n",
    "\n",
    "        #My actual validation\n",
    "        val_transformed = create_dataset_t(train_dataset, val_indices, transform_norm)\n",
    "        val_loader = DataLoader(val_transformed, batch_size = 512, shuffle=False)\n",
    "\n",
    "        train_subset = Subset(train_dataset, train_indices)\n",
    "        train_loader = norm_aug_loader_one(train_subset, hypers)\n",
    "        \n",
    "        model = NumberNN(hypers.hidden_one, hypers.hidden_two, hypers.drop_rate, hypers.n_slope).to(device) #ensures parameters reset and each fold is independent\n",
    "        adam = optim.Adam(model.parameters(), lr= hypers.l_rate, betas=(0.9, 0.999), eps=1e-08) #forget info from EWMA\n",
    "\n",
    "        last_epoch_val_accuracy = train_model(model, train_loader, optimizer = adam, loss_f = cross_entropy, \n",
    "                                              num_epochs = hypers.epochs, val_loader = val_loader)\n",
    "\n",
    "        validation_accuracies.append(last_epoch_val_accuracy)\n",
    "\n",
    "    mean_val_accuracy = np.mean(validation_accuracies)\n",
    "    #Use average validation accuracy across all folds to evaluate model\n",
    "    return mean_val_accuracy\n"
   ]
  },
  {
   "cell_type": "code",
   "execution_count": null,
   "metadata": {},
   "outputs": [],
   "source": [
    "mean_val_accuracy = k_folds(10, train_dataset, hypers)\n",
    "print(f'\\n\\033[1mMean Validation Accuracy Across All Folds: {mean_val_accuracy:.2f}%\\033[0m\\n')"
   ]
  },
  {
   "cell_type": "markdown",
   "metadata": {},
   "source": [
    "#### __K-Folds Cross Validation - Approach 2 (Mapping Indices)__"
   ]
  },
  {
   "cell_type": "code",
   "execution_count": 601,
   "metadata": {},
   "outputs": [],
   "source": [
    "full_train_dataset = ConcatDataset([norm_dataset, aug_dataset])"
   ]
  },
  {
   "cell_type": "code",
   "execution_count": 602,
   "metadata": {},
   "outputs": [],
   "source": [
    "FOLDS = 10\n",
    "\n",
    "def calc_alt_indices(norm_dataset, norm_train_indices, hypers, k_folds):\n",
    "    '''This numberr maximizes amount of data for 70 30 prop; total_dataset_length*prob_normal.7 = len_normal; solve for total example length\n",
    "    . This allows for 60_000 (70%) has normal transformation. Without +1 would be 59999'''\n",
    "    total_training_examples = int((len(norm_dataset)/ (1-hypers.prob_augment)) + 1)\n",
    "\n",
    "    #if k_folds take less data to maintain 70 30 prop\n",
    "    len_val = len(norm_dataset)/FOLDS if k_folds else 0 #amount in validation set with k folds\n",
    "    training_num = (len(norm_dataset) - len_val) if k_folds else total_training_examples\n",
    "\n",
    "    num_norm_train_indices = int(training_num * (1-hypers.prob_augment))\n",
    "    num_aug_train_indices = int(training_num * hypers.prob_augment)\n",
    "\n",
    "    mapped_indices = norm_train_indices + len(norm_dataset) #maps indices to aug\n",
    "    \n",
    "    norm_train_indices = np.random.choice(norm_train_indices, num_norm_train_indices, replace = False) \n",
    "    norm_train_indices = norm_train_indices.reshape(-1) #should be 1D already\n",
    "    aug_train_indices = np.random.choice(mapped_indices, num_aug_train_indices, replace = False)  \n",
    "\n",
    "    \n",
    "    return np.concatenate([norm_train_indices, aug_train_indices])\n",
    "\n",
    "def norm_aug_loader_two(full_train_dataset, norm_dataset, norm_train_indices, hypers, k_folds = False):\n",
    "    full_train_indices = calc_alt_indices(norm_dataset, norm_train_indices, hypers, k_folds)\n",
    "    train_subset = Subset(full_train_dataset, full_train_indices)\n",
    "\n",
    "    #Shuffles batch order + samples within batches per epoch\n",
    "    return DataLoader(train_subset, batch_size = hypers.b_size, shuffle=True)\n",
    "    "
   ]
  },
  {
   "cell_type": "code",
   "execution_count": 603,
   "metadata": {},
   "outputs": [],
   "source": [
    "#random_state like seed; generates train/validation indices per fold\n",
    "def k_folds_two(full_train_dataset, norm_dataset, hypers, hypercombo = None, grid_search = False):\n",
    "    \n",
    "    kf = KFold(n_splits = FOLDS, shuffle=True, random_state=20)\n",
    "    validation_accuracies = []\n",
    "\n",
    "    if grid_search:\n",
    "        alter_hyper(hypers, hypercombo)\n",
    "    \n",
    "    '''by default split only works with indices arrays unless it can use length attribute of dataset, which Pytorch provides.\n",
    "    This works too: norm_dataset.__len__(), dunder methods simplify syntax'''\n",
    "    all_norm_indices = np.arange(len(norm_dataset))\n",
    "\n",
    "    cross_entropy = nn.CrossEntropyLoss()\n",
    "\n",
    "    for fold, (norm_train_indices, val_indices) in enumerate(kf.split(all_norm_indices)):\n",
    "        if (fold == 0):\n",
    "            print(f'Fold {fold + 1}')\n",
    "        else:\n",
    "            print(f'\\nFold {fold + 1}')\n",
    "\n",
    "        #Since we put in norm don't need to transform validation\n",
    "        val_subset = Subset(norm_dataset, val_indices)\n",
    "        val_loader = DataLoader(val_subset, batch_size=512, shuffle=False)\n",
    "\n",
    "        train_loader = norm_aug_loader_two(full_train_dataset, norm_dataset, norm_train_indices, hypers, k_folds = True)\n",
    "        \n",
    "        model = NumberNN(hypers.hidden_one, hypers.hidden_two, hypers.drop_rate, hypers.n_slope).to(device) #ensures parameters reset and each fold is independent\n",
    "        adam = optim.Adam(model.parameters(), lr = hypers.l_rate, betas=(hypers.beta_one, hypers.beta_two), eps=1e-08) #forget info from EWMA\n",
    "\n",
    "        last_epoch_val_accuracy = train_model(model, train_loader, optimizer = adam, loss_f = cross_entropy, num_epochs = hypers.epochs, val_loader = val_loader)\n",
    "        validation_accuracies.append(last_epoch_val_accuracy)\n",
    "\n",
    "    mean_val_accuracy = np.mean(validation_accuracies)\n",
    "    #Use average validation accuracy across all folds to evaluate model\n",
    "\n",
    "    return mean_val_accuracy\n"
   ]
  },
  {
   "cell_type": "code",
   "execution_count": 539,
   "metadata": {},
   "outputs": [
    {
     "name": "stdout",
     "output_type": "stream",
     "text": [
      "Fold 1\n",
      "Epoch 1 -- Loss: 0.4110, Training Accuracy: 90.00%, Validation Accuracy: 92.08%\n",
      "Epoch 20 -- Loss: 0.0118, Training Accuracy: 98.95%, Validation Accuracy: 98.30%\n",
      "\n",
      "Fold 2\n",
      "Epoch 1 -- Loss: 0.4296, Training Accuracy: 88.26%, Validation Accuracy: 90.60%\n",
      "Epoch 20 -- Loss: 0.0146, Training Accuracy: 99.01%, Validation Accuracy: 98.15%\n",
      "\n",
      "Fold 3\n",
      "Epoch 1 -- Loss: 0.3482, Training Accuracy: 88.91%, Validation Accuracy: 90.35%\n",
      "Epoch 20 -- Loss: 0.0356, Training Accuracy: 99.09%, Validation Accuracy: 98.43%\n",
      "\n",
      "Fold 4\n",
      "Epoch 1 -- Loss: 0.3249, Training Accuracy: 90.08%, Validation Accuracy: 92.15%\n",
      "Epoch 20 -- Loss: 0.0539, Training Accuracy: 98.65%, Validation Accuracy: 98.00%\n",
      "\n",
      "Fold 5\n",
      "Epoch 1 -- Loss: 0.2743, Training Accuracy: 89.42%, Validation Accuracy: 91.37%\n",
      "Epoch 20 -- Loss: 0.0423, Training Accuracy: 99.07%, Validation Accuracy: 98.55%\n",
      "\n",
      "Fold 6\n",
      "Epoch 1 -- Loss: 0.3182, Training Accuracy: 90.21%, Validation Accuracy: 92.23%\n",
      "Epoch 20 -- Loss: 0.0207, Training Accuracy: 98.93%, Validation Accuracy: 98.17%\n",
      "\n",
      "Fold 7\n",
      "Epoch 1 -- Loss: 0.2851, Training Accuracy: 89.93%, Validation Accuracy: 92.08%\n",
      "Epoch 20 -- Loss: 0.0374, Training Accuracy: 98.92%, Validation Accuracy: 98.52%\n",
      "\n",
      "Fold 8\n",
      "Epoch 1 -- Loss: 0.2964, Training Accuracy: 89.12%, Validation Accuracy: 91.18%\n",
      "Epoch 20 -- Loss: 0.0228, Training Accuracy: 98.82%, Validation Accuracy: 98.00%\n",
      "\n",
      "Fold 9\n",
      "Epoch 1 -- Loss: 0.3616, Training Accuracy: 88.84%, Validation Accuracy: 91.00%\n",
      "Epoch 20 -- Loss: 0.0391, Training Accuracy: 99.09%, Validation Accuracy: 98.43%\n",
      "\n",
      "Fold 10\n",
      "Epoch 1 -- Loss: 0.3004, Training Accuracy: 90.53%, Validation Accuracy: 92.57%\n",
      "Epoch 20 -- Loss: 0.1014, Training Accuracy: 99.02%, Validation Accuracy: 98.47%\n",
      "\n",
      "\u001b[1mMean Validation Accuracy Across All Folds: 98.30%\u001b[0m\n",
      "\n"
     ]
    }
   ],
   "source": [
    "#this works better\n",
    "mean_val_accuracy = k_folds_two(full_train_dataset, norm_dataset, hypers)\n",
    "print(f'\\n\\033[1mMean Validation Accuracy Across All Folds: {mean_val_accuracy:.2f}%\\033[0m\\n')\n",
    "#.3 prob degrees = 15, translate = (0.03, 0.02), scale = (0.9, 1.03), shear = (-10, 10)) brightness=.22, contrast=0.25): 98.14% mean val\n",
    "#98.30 with rearranging aug class distribution"
   ]
  },
  {
   "cell_type": "markdown",
   "metadata": {},
   "source": [
    "#### __Hyperparameter Tuning with Gridsearch__"
   ]
  },
  {
   "cell_type": "code",
   "execution_count": 604,
   "metadata": {},
   "outputs": [
    {
     "name": "stdout",
     "output_type": "stream",
     "text": [
      "{'augment': True, 'b_size': 512, 'beta_one': 0.85, 'beta_two': 0.95, 'drop_rate': 0, 'epochs': 20, 'hidden_one': 1024, 'hidden_two': 128, 'l_rate': 0.001, 'n_slope': 0.01, 'prob_augment': 0.3}\n",
      "{'augment': True, 'b_size': 512, 'beta_one': 0.85, 'beta_two': 0.999, 'drop_rate': 0, 'epochs': 20, 'hidden_one': 1024, 'hidden_two': 128, 'l_rate': 0.001, 'n_slope': 0.01, 'prob_augment': 0.3}\n",
      "{'augment': True, 'b_size': 512, 'beta_one': 0.95, 'beta_two': 0.95, 'drop_rate': 0, 'epochs': 20, 'hidden_one': 1024, 'hidden_two': 128, 'l_rate': 0.001, 'n_slope': 0.01, 'prob_augment': 0.3}\n",
      "{'augment': True, 'b_size': 512, 'beta_one': 0.95, 'beta_two': 0.999, 'drop_rate': 0, 'epochs': 20, 'hidden_one': 1024, 'hidden_two': 128, 'l_rate': 0.001, 'n_slope': 0.01, 'prob_augment': 0.3}\n",
      "{'augment': True, 'b_size': 512, 'beta_one': 0.9, 'beta_two': 0.95, 'drop_rate': 0, 'epochs': 20, 'hidden_one': 1024, 'hidden_two': 128, 'l_rate': 0.001, 'n_slope': 0.01, 'prob_augment': 0.3}\n",
      "{'augment': True, 'b_size': 512, 'beta_one': 0.9, 'beta_two': 0.999, 'drop_rate': 0, 'epochs': 20, 'hidden_one': 1024, 'hidden_two': 128, 'l_rate': 0.001, 'n_slope': 0.01, 'prob_augment': 0.3}\n"
     ]
    }
   ],
   "source": [
    "#All other hyperparameters previously tested\n",
    "#Dictionary for gridsearch\n",
    "hyperdict = {\n",
    "    'l_rate': [hypers.l_rate],\n",
    "    'b_size': [hypers.b_size],\n",
    "    'epochs': [hypers.epochs],\n",
    "    'drop_rate': [hypers.drop_rate],\n",
    "    'hidden_one': [hypers.hidden_one],\n",
    "    'hidden_two': [hypers.hidden_two],\n",
    "    'n_slope': [hypers.n_slope],\n",
    "    'augment': [hypers.augment],\n",
    "    'prob_augment': [hypers.prob_augment],\n",
    "    'beta_one': [0.85, 0.95, hypers.beta_one],\n",
    "    'beta_two': [0.95, hypers.beta_two]\n",
    "}\n",
    "\n",
    "for dict in ParameterGrid(hyperdict):\n",
    "    print(dict)"
   ]
  },
  {
   "cell_type": "code",
   "execution_count": 605,
   "metadata": {},
   "outputs": [],
   "source": [
    "def GridSearch(full_train_dataset, norm_dataset, hypers, hyperdict):\n",
    "    best_hypers = None\n",
    "    best_mean_val_accuracy = 0\n",
    "    orig_hypers = hypers\n",
    "\n",
    "    #iterable - generates on the fly to save memory; generates all possible dictionary combos\n",
    "    for hypercombo in ParameterGrid(hyperdict): \n",
    "        #sometimes you save model also\n",
    "        hypers = orig_hypers #reset hypers\n",
    "        print(hypercombo)\n",
    "\n",
    "        mean_val_accuracy = k_folds_two(full_train_dataset, norm_dataset, hypers, hypercombo, grid_search=True)\n",
    "        print(f'\\n\\033[1mMean Validation Accuracy Across All Folds: {mean_val_accuracy:.2f}%\\033[0m\\n')\n",
    "        \n",
    "        if (mean_val_accuracy > best_mean_val_accuracy):\n",
    "            best_mean_val_accuracy = mean_val_accuracy\n",
    "            best_hypers = hypercombo\n",
    "    \n",
    "    hypers = orig_hypers\n",
    "    return best_hypers, best_mean_val_accuracy"
   ]
  },
  {
   "cell_type": "code",
   "execution_count": null,
   "metadata": {},
   "outputs": [],
   "source": [
    "#Always tune; batch size and learning rate relationship not always linear\n",
    "best_hypers, best_mean_val_accuracy = GridSearch(full_train_dataset, norm_dataset, hypers, hyperdict)\n",
    "print(f'\\n\\033[1mBest Hyperparameters: {best_hypers}\\nBest Mean Validation Accuracy:{best_mean_val_accuracy: .2f}%\\033[0m')\n",
    "\n",
    "# Best Hyperparameters: {'l_rate': 0.001}, Mean Validation Accuracy: 97.59% - no augmentation\n",
    "#Same hypers with augmentation - Mean Val: 98%"
   ]
  },
  {
   "cell_type": "markdown",
   "metadata": {},
   "source": [
    "### __Training the Model__ "
   ]
  },
  {
   "cell_type": "markdown",
   "metadata": {},
   "source": [
    "#### __Creating the Normal/Augmented Training Dataset__"
   ]
  },
  {
   "cell_type": "code",
   "execution_count": 297,
   "metadata": {},
   "outputs": [],
   "source": [
    "#Approach 1\n",
    "norm_aug_loader = norm_aug_loader_one(train_dataset, hypers)"
   ]
  },
  {
   "cell_type": "code",
   "execution_count": 687,
   "metadata": {},
   "outputs": [],
   "source": [
    "#Approach 2\n",
    "norm_train_indices = np.arange(len(norm_dataset))\n",
    "norm_aug_loader = norm_aug_loader_two(full_train_dataset, norm_dataset, norm_train_indices, hypers)"
   ]
  },
  {
   "cell_type": "markdown",
   "metadata": {},
   "source": [
    "#### __Finding the Best Model Given the Hypers__"
   ]
  },
  {
   "cell_type": "code",
   "execution_count": 688,
   "metadata": {},
   "outputs": [],
   "source": [
    "def train_keep_best_model(hypers, train_loader, test_loader, num_trials):\n",
    "    best_model = None\n",
    "    best_accuracy = 0\n",
    "    cross_entropy = nn.CrossEntropyLoss()\n",
    "\n",
    "    for i in range(0, num_trials):\n",
    "        model = NumberNN(hypers.hidden_one, hypers.hidden_two, hypers.drop_rate, hypers.n_slope).to(device)\n",
    "        adam = optim.Adam(model.parameters(), hypers.l_rate, betas=(hypers.beta_one, hypers.beta_two), eps=1e-08) \n",
    "\n",
    "        train_model(model = model, train_loader = train_loader, optimizer = adam, loss_f = cross_entropy, num_epochs = hypers.epochs)\n",
    "        accuracy, __ = evaluate(model, test_loader)\n",
    "\n",
    "        if accuracy > best_accuracy:\n",
    "            best_accuracy = accuracy\n",
    "            best_model = model\n",
    "        \n",
    "    return best_model, best_accuracy"
   ]
  },
  {
   "cell_type": "code",
   "execution_count": 690,
   "metadata": {},
   "outputs": [
    {
     "name": "stdout",
     "output_type": "stream",
     "text": [
      "Epoch 1 -- Loss: 0.2893\n",
      "Epoch 20 -- Loss: 0.0956\n",
      "\n",
      "Epoch 1 -- Loss: 0.3114\n",
      "Epoch 20 -- Loss: 0.0215\n",
      "\n",
      "Epoch 1 -- Loss: 0.2856\n",
      "Epoch 20 -- Loss: 0.0270\n",
      "\n",
      "Epoch 1 -- Loss: 0.2166\n",
      "Epoch 20 -- Loss: 0.0522\n",
      "\n",
      "Epoch 1 -- Loss: 0.2456\n",
      "Epoch 20 -- Loss: 0.0265\n",
      "\n",
      "Epoch 1 -- Loss: 0.2595\n",
      "Epoch 20 -- Loss: 0.0310\n",
      "\n",
      "Epoch 1 -- Loss: 0.1659\n",
      "Epoch 20 -- Loss: 0.0410\n",
      "\n",
      "Epoch 1 -- Loss: 0.1980\n",
      "Epoch 20 -- Loss: 0.0652\n",
      "\n",
      "Epoch 1 -- Loss: 0.2124\n",
      "Epoch 20 -- Loss: 0.0422\n",
      "\n",
      "Epoch 1 -- Loss: 0.4010\n",
      "Epoch 20 -- Loss: 0.0054\n",
      "\n",
      "Epoch 1 -- Loss: 0.2308\n",
      "Epoch 20 -- Loss: 0.0323\n",
      "\n",
      "Epoch 1 -- Loss: 0.2088\n",
      "Epoch 20 -- Loss: 0.0280\n",
      "\n",
      "Epoch 1 -- Loss: 0.2491\n",
      "Epoch 20 -- Loss: 0.0084\n",
      "\n",
      "Epoch 1 -- Loss: 0.2196\n",
      "Epoch 20 -- Loss: 0.0285\n",
      "\n",
      "Epoch 1 -- Loss: 0.2281\n",
      "Epoch 20 -- Loss: 0.0362\n",
      "\n",
      "Epoch 1 -- Loss: 0.2751\n",
      "Epoch 20 -- Loss: 0.0386\n",
      "\n",
      "Epoch 1 -- Loss: 0.2467\n",
      "Epoch 20 -- Loss: 0.0294\n",
      "\n",
      "Epoch 1 -- Loss: 0.3318\n",
      "Epoch 20 -- Loss: 0.0131\n",
      "\n",
      "Epoch 1 -- Loss: 0.2655\n",
      "Epoch 20 -- Loss: 0.0275\n",
      "\n",
      "Epoch 1 -- Loss: 0.3325\n",
      "Epoch 20 -- Loss: 0.0376\n",
      "\n",
      "\n",
      "98.76\n"
     ]
    }
   ],
   "source": [
    "model, test_accuracy = train_keep_best_model(hypers, norm_aug_loader, test_loader, 20)\n",
    "print(f'\\n{test_accuracy}')"
   ]
  },
  {
   "cell_type": "markdown",
   "metadata": {},
   "source": [
    "### __Saving the Model__"
   ]
  },
  {
   "cell_type": "code",
   "execution_count": 691,
   "metadata": {},
   "outputs": [
    {
     "name": "stdout",
     "output_type": "stream",
     "text": [
      "mlp-h11024-0.3aug2-altdistrib-98.76.pth\n"
     ]
    }
   ],
   "source": [
    "#most data - approach 1 for splitting aug/normal; least is approach 2 because its among 60000\n",
    "model_name = f'mlp-h1{hypers.hidden_one}-{hypers.prob_augment}aug2-altdistrib-{test_accuracy}.pth'\n",
    "print(model_name)"
   ]
  },
  {
   "cell_type": "markdown",
   "metadata": {},
   "source": [
    "#### __Local__"
   ]
  },
  {
   "cell_type": "code",
   "execution_count": 692,
   "metadata": {},
   "outputs": [],
   "source": [
    "torch.save(model.state_dict(), f'../models/{model_name}')"
   ]
  },
  {
   "cell_type": "markdown",
   "metadata": {},
   "source": [
    "#### __Colab__"
   ]
  },
  {
   "cell_type": "code",
   "execution_count": null,
   "metadata": {},
   "outputs": [],
   "source": [
    "#files.download(f'{model_name}.pth')\n",
    "\n",
    "model_downloads_path = os.path.join(os.path.expanduser(\"~\"), \"Downloads\", f'{model_name}.pth')\n",
    "\n",
    "model_destination_path = f'~/Documents/deep-learning-mnist/models/{model_name}.pth'\n",
    "\n",
    "shutil.move(model_downloads_path, model_destination_path)"
   ]
  },
  {
   "cell_type": "markdown",
   "metadata": {},
   "source": [
    "### __Loading the Saved Model__"
   ]
  },
  {
   "cell_type": "code",
   "execution_count": 613,
   "metadata": {},
   "outputs": [],
   "source": [
    "def load_model(path_to_dict, hypers):\n",
    "    # Instantiate the model\n",
    "    model = NumberNN(hypers.hidden_one, hypers.hidden_two, hypers.drop_rate, hypers.n_slope).to(device)\n",
    "    #Update model's parameters to what it was after training\n",
    "    #model.load_state_dict(torch.load(f'../models/{trained_model}.pth'))\n",
    "    model.load_state_dict(torch.load(path_to_dict, map_location = device))\n",
    "    \n",
    "    '''Sometimes in training some neurons turned off (called dropout) to prevent overfitting, but when testing you want all neurons in model to be used, \n",
    "    so eval fixes this as well as other settings for testing so model acts \"normally\"'''\n",
    "    model.eval()\n",
    "\n",
    "    return model"
   ]
  },
  {
   "cell_type": "code",
   "execution_count": 615,
   "metadata": {},
   "outputs": [],
   "source": [
    "model = load_model('../models/mlp-h11024-0.3aug2-altdistrib-98.76.pth', hypers)"
   ]
  },
  {
   "cell_type": "markdown",
   "metadata": {},
   "source": [
    "### __Evalulating/Testing the Model__"
   ]
  },
  {
   "cell_type": "markdown",
   "metadata": {},
   "source": [
    "#### __Testing Accuracy for all Testing Data__"
   ]
  },
  {
   "cell_type": "code",
   "execution_count": 694,
   "metadata": {},
   "outputs": [
    {
     "name": "stdout",
     "output_type": "stream",
     "text": [
      "Train Accuracy: 99.19%\n",
      "Test Accuracy: 98.76%\n"
     ]
    }
   ],
   "source": [
    "train_accuracy, __ = evaluate(model, loader = norm_aug_loader)\n",
    "print(f'Train Accuracy:{train_accuracy : .2f}%')\n",
    "\n",
    "test_accuracy, predicted = evaluate(model, loader = test_loader)\n",
    "print(f'Test Accuracy:{test_accuracy : .2f}%')"
   ]
  },
  {
   "cell_type": "markdown",
   "metadata": {},
   "source": [
    "#### __Recall Per Digit__"
   ]
  },
  {
   "cell_type": "code",
   "execution_count": 695,
   "metadata": {},
   "outputs": [
    {
     "name": "stdout",
     "output_type": "stream",
     "text": [
      "Recall for 0: 99.59%\n",
      "Recall for 1: 99.12%\n",
      "Recall for 4: 99.08%\n",
      "Recall for 2: 98.93%\n",
      "Recall for 9: 98.81%\n",
      "Recall for 5: 98.77%\n",
      "Recall for 3: 98.61%\n",
      "Recall for 8: 98.56%\n",
      "Recall for 6: 98.54%\n",
      "Recall for 7: 97.57%\n"
     ]
    }
   ],
   "source": [
    "recalls = {}\n",
    "\n",
    "for i in range(0,10):\n",
    "    one_digit_indices = digit_indices(dataset = test_dataset, digit = i)\n",
    "    one_digit_test_set = Subset(test_dataset, one_digit_indices)\n",
    "    one_digit_loader = DataLoader(one_digit_test_set, batch_size = 512, shuffle = False)\n",
    "\n",
    "    recall, __ = evaluate(model, loader = one_digit_loader)\n",
    "    recalls[i] = recall\n",
    "\n",
    "sorted_recalls = sorted(recalls.items(), key = itemgetter(1), reverse = True)\n",
    "\n",
    "for digit, recall in sorted_recalls:\n",
    "    print(f'Recall for {digit}:{recall: .2f}%')"
   ]
  },
  {
   "cell_type": "markdown",
   "metadata": {},
   "source": [
    "#### __Confusion Matrix and More Summary Statistics__"
   ]
  },
  {
   "cell_type": "code",
   "execution_count": 696,
   "metadata": {},
   "outputs": [],
   "source": [
    "'''Can't append lists otherwise you get nested list structure. Can either append each element to the list in loop or use extend().\n",
    "Numpy array eventually required for creating the confusion matrix. Python lists memory works like ArrayLists while numpy arrays work\n",
    "like normal arrays. Homogenous, contiguous np array means easier to calculate memory address of element so CPU can access stuff much faster \n",
    "for numpy. Unlike numpy, Python doesn't store objects themselves in list (fast) but instead a pointer to support heterogenous list. \n",
    "np array must be on CPU.'''\n",
    "\n",
    "labels = []\n",
    "for image, label in test_dataset:\n",
    "    labels.append(label)\n",
    "\n",
    "np_labels = np.array(labels)\n",
    "np_predicted = predicted.to(\"cpu\").numpy() #np arrays "
   ]
  },
  {
   "cell_type": "code",
   "execution_count": 697,
   "metadata": {},
   "outputs": [
    {
     "data": {
      "image/png": "[encoded data removed]",
      "text/plain": [
       "<Figure size 640x480 with 2 Axes>"
      ]
     },
     "metadata": {},
     "output_type": "display_data"
    }
   ],
   "source": [
    "cm = confusion_matrix(np_labels, np_predicted)\n",
    "\n",
    "#matplotlib object\n",
    "disp = ConfusionMatrixDisplay(confusion_matrix=cm, display_labels=[i for i in range(0,10)])\n",
    "\n",
    "disp.plot(cmap='Blues')\n",
    "plt.title('Confusion Matrix')\n",
    "plt.show()"
   ]
  },
  {
   "cell_type": "code",
   "execution_count": 698,
   "metadata": {},
   "outputs": [
    {
     "name": "stdout",
     "output_type": "stream",
     "text": [
      "              precision    recall  f1-score   support\n",
      "\n",
      "           0       0.99      1.00      0.99       980\n",
      "           1       1.00      0.99      0.99      1135\n",
      "           2       0.98      0.99      0.99      1032\n",
      "           3       0.99      0.99      0.99      1010\n",
      "           4       0.98      0.99      0.99       982\n",
      "           5       0.99      0.99      0.99       892\n",
      "           6       0.99      0.99      0.99       958\n",
      "           7       0.99      0.98      0.98      1028\n",
      "           8       0.99      0.99      0.99       974\n",
      "           9       0.98      0.99      0.98      1009\n",
      "\n",
      "    accuracy                           0.99     10000\n",
      "   macro avg       0.99      0.99      0.99     10000\n",
      "weighted avg       0.99      0.99      0.99     10000\n",
      "\n"
     ]
    }
   ],
   "source": [
    "'''Numbers often misclassified as 5 probably because there are less 5s in the dataset.'''\n",
    "class_precisions = precision_score(np_labels, np_predicted, average='weighted')\n",
    "class_recalls = recall_score(np_labels, np_predicted, average='weighted')\n",
    "class_f1_scores = f1_score(np_labels, np_predicted, average='weighted')\n",
    "\n",
    "report = classification_report(np_labels, np_predicted)\n",
    "\n",
    "print(report)"
   ]
  },
  {
   "cell_type": "markdown",
   "metadata": {},
   "source": [
    "### __Inputting a New Image__"
   ]
  },
  {
   "cell_type": "markdown",
   "metadata": {},
   "source": [
    "#### __Pixelation__"
   ]
  },
  {
   "cell_type": "code",
   "execution_count": 699,
   "metadata": {},
   "outputs": [],
   "source": [
    "def pixelate_image(image, pixelation_level):\n",
    "    \n",
    "    '''/ is floor division. Tuples have indices. Resize is changing # of pixels after knowing new \n",
    "    size of image, what makes it appear pixelated is then enlarging image so the few pixels are larger.\n",
    "    Bilinear interpoloation is to get value of each pixel, look at weighted (based on distance) average of \n",
    "    4 nearest pixels of where it would go to determine new value. Then split those big pixels up again \n",
    "    so the size is same as original but looks more pixelated.'''\n",
    "\n",
    "    #open and greyscale image (compress to 1 channel)\n",
    "\n",
    "    new_size = (image.size[0] // pixelation_level, image.size[1] // pixelation_level)\n",
    "    pixelated = image.resize(new_size,resample=Image.BILINEAR)\n",
    "\n",
    "    pixelated = pixelated.resize((28, 28))\n",
    "    \n",
    "    return pixelated\n",
    "\n",
    "#Preprocess using functions of the Image class\n",
    "def preprocess_image(image, pixelation_level):\n",
    "    image = pixelate_image(image, pixelation_level)\n",
    "    image = transform_norm(image)  #images -> pixel values-> normalize\n",
    "    image = image.unsqueeze(0)  #Add singleton dimension (batch_size) to image; not used, but specific shape necessary for model\n",
    "    return image\n",
    "\n",
    "def preprocess_no_pixelation(image):\n",
    "    image = image.resize((28, 28))\n",
    "    image = transform_norm(image) \n",
    "    image = image.unsqueeze(0)\n",
    "    return image"
   ]
  },
  {
   "cell_type": "code",
   "execution_count": 700,
   "metadata": {},
   "outputs": [
    {
     "name": "stdout",
     "output_type": "stream",
     "text": [
      "Probability of 9: 98.448%\n",
      "Probability of 8: 1.227%\n",
      "Probability of 2: 0.276%\n",
      "Probability of 7: 0.032%\n",
      "Probability of 1: 0.008%\n",
      "Probability of 3: 0.007%\n",
      "Probability of 4: 0.002%\n",
      "Probability of 0: 0.000%\n",
      "Probability of 5: 0.000%\n",
      "Probability of 6: 0.000%\n",
      "\n",
      "Predicted Number: 9\n"
     ]
    }
   ],
   "source": [
    "orig = Image.open('../data/test-images/9-1.png').convert('L')\n",
    "\n",
    "#pixelation slightly worse outcome\n",
    "pixelation_level = 1 #1 has effect of no pixelation\n",
    "pixelated_image = pixelate_image(orig, pixelation_level)\n",
    "\n",
    "image_transformed = preprocess_image(orig, pixelation_level).to(device)\n",
    "#image_transformed = preprocess_no_pixelation(orig).to(device)\n",
    "with torch.no_grad():\n",
    "    outputs = model(image_transformed)\n",
    "    _, predicted = torch.max(outputs, dim = 1)\n",
    "\n",
    "    #softmax takes care of negative outputs\n",
    "    probabilities = F.softmax(outputs, dim = 1) #probabilities[i] that contains softmax for outputs of i+1 image \n",
    "\n",
    "#[(number, probability tensor)...]; enumerate packs into tuple with counter\n",
    "prob_tuples = list(enumerate(probabilities[0])) \n",
    "\n",
    "#to sort by max, extract probability with itemgetter\n",
    "prob_tuples.sort(key = itemgetter(1), reverse = True)\n",
    "\n",
    "for number, probability in prob_tuples:\n",
    "    print(f'Probability of {number}:{probability.item() * 100: .3f}%')\n",
    "\n",
    "print(f'\\nPredicted Number: {predicted.item()}')"
   ]
  },
  {
   "cell_type": "markdown",
   "metadata": {},
   "source": [
    "#### __Visualizing the Pixelated Image__"
   ]
  },
  {
   "cell_type": "code",
   "execution_count": 701,
   "metadata": {},
   "outputs": [
    {
     "data": {
      "image/png": "[encoded data removed]",
      "text/plain": [
       "<Figure size 640x480 with 2 Axes>"
      ]
     },
     "metadata": {},
     "output_type": "display_data"
    }
   ],
   "source": [
    "side_by_side_plot(orig, pixelated_image, \"Original\", \"Pixelated\")"
   ]
  }
 ],
 "metadata": {
  "kernelspec": {
   "display_name": "Python 3",
   "language": "python",
   "name": "python3"
  },
  "language_info": {
   "codemirror_mode": {
    "name": "ipython",
    "version": 3
   },
   "file_extension": ".py",
   "mimetype": "text/x-python",
   "name": "python",
   "nbconvert_exporter": "python",
   "pygments_lexer": "ipython3",
   "version": "3.10.14"
  }
 },
 "nbformat": 4,
 "nbformat_minor": 2
}
