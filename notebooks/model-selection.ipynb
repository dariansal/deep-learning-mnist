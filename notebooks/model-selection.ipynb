{
 "cells": [
  {
   "cell_type": "markdown",
   "metadata": {},
   "source": []
  },
  {
   "cell_type": "markdown",
   "metadata": {},
   "source": [
    "<center><h2><b><u> Multilayer Perceptron with MNIST Dataset</u></b></h2></center>"
   ]
  },
  {
   "cell_type": "markdown",
   "metadata": {},
   "source": [
    "### __Importing Libraries, Classes, and Functions__"
   ]
  },
  {
   "cell_type": "code",
   "execution_count": 1,
   "metadata": {},
   "outputs": [],
   "source": [
    "from operator import itemgetter\n",
    "import torch\n",
    "import torch.nn as nn #provides classes/modules for making neural networks\n",
    "import numpy as np\n",
    "from torch.nn import Linear\n",
    "import torch.nn.functional as F #a module with common nn functions (operations on tensors/high dim matrices; activations)\n",
    "import torch.optim as optim #contains optimization algorithms like SGD\n",
    "from torchvision import datasets, transforms #includes MNIST, transform images -> tensors\n",
    "from torch.utils.data import DataLoader, TensorDataset, Subset, ConcatDataset #allows shuffling and minbatches\n",
    "from PIL import Image\n",
    "import matplotlib.pyplot as plt\n",
    "from sklearn.model_selection import KFold, ParameterGrid\n",
    "import os\n",
    "import shutil\n",
    "import random\n",
    "import json\n",
    "#!pip install torch-xla\n",
    "#import torch_xla\n",
    "#import torch_xla.core.xla_model as xm #tpu\n",
    "#from google.colab import files"
   ]
  },
  {
   "cell_type": "markdown",
   "metadata": {},
   "source": [
    "### __Initializing the Hyperparameters__"
   ]
  },
  {
   "cell_type": "code",
   "execution_count": 2,
   "metadata": {},
   "outputs": [],
   "source": [
    "class Hypers:\n",
    "    def __init__(self, hyperpath):\n",
    "        with open(hyperpath, 'r') as file:\n",
    "            hyper_dict = json.load(file)\n",
    "        self.l_rate = hyper_dict['learning_rate']\n",
    "        self.b_size = hyper_dict['batch_size']\n",
    "        self.epochs = hyper_dict['epochs']\n",
    "        self.drop_rate = hyper_dict['dropout_rate']\n",
    "        self.hidden_one = hyper_dict['hidden_one']\n",
    "        self.hidden_two = hyper_dict['hidden_two']\n",
    "        self.n_slope = hyper_dict['n_slope']\n",
    "        self.augment = hyper_dict['augment']\n",
    "        self.prob_augment = hyper_dict['prob_augment']\n",
    "\n",
    "#can feed this into functions that need hypers\n",
    "hypers = Hypers('../config/hyperparameters.json')"
   ]
  },
  {
   "cell_type": "markdown",
   "metadata": {},
   "source": [
    "### __The Model Blueprint__"
   ]
  },
  {
   "cell_type": "code",
   "execution_count": 3,
   "metadata": {},
   "outputs": [],
   "source": [
    "class NumberNN(nn.Module): \n",
    "    def __init__(self, hidden_one, hidden_two, drop_prob, n_slope):\n",
    "        super(NumberNN, self).__init__() #explicitly call parent class constructor to initialize stuff\n",
    "                                    #parent (nn.Module) technically initialized too and tied to child but you only access child\n",
    "        self.fc1 = Linear(in_features = 28**2, out_features = hidden_one) #num features = num neurons in input layer (1 neuron per feature/vector component)\n",
    "        self.fc2 = Linear(hidden_one, hidden_two)\n",
    "        self.fc3 = Linear(hidden_two, 10)\n",
    "        self.n_slope = n_slope\n",
    "\n",
    "        self.dropout = nn.Dropout(p=drop_prob) \n",
    "    \n",
    "    def forward(self, x):\n",
    "        '''MNIST is (batch_size = ..., channels = 1, height = 28, width = 28), a 3D tensor. To plot you want 2D 28x28,\n",
    "        and for input layer you need to make the pixel reprsentation 1D (batch_size, 784). Batch size since it processes\n",
    "        a whole batch at once. -1 infers dim of the vector/features (784)\n",
    "        '''\n",
    "        x = x.view(-1, 28**2)  # Flatten the input tensor (batch_size, 1, 28, 28) to (batch_size, 784)\n",
    "\n",
    "        z1 = self.fc1(x) #Weight matrix + bias vector\n",
    "        a1 = F.leaky_relu(z1, negative_slope= self.n_slope) \n",
    "        a1 = self.dropout(a1) #Starting dropout in layer 2; don't drop inputs\n",
    "\n",
    "        z2 = self.fc2(a1)\n",
    "        a2 = F.leaky_relu(z2, negative_slope= self.n_slope) \n",
    "        a2 = self.dropout(a2)\n",
    "\n",
    "        outputs = self.fc3(a2) #logits - softmax(logit) = p_class\n",
    "        \n",
    "        return outputs"
   ]
  },
  {
   "cell_type": "markdown",
   "metadata": {},
   "source": [
    "### __Data Loading and Preparation__"
   ]
  },
  {
   "cell_type": "markdown",
   "metadata": {},
   "source": [
    "#### __Choosing the Device__"
   ]
  },
  {
   "cell_type": "code",
   "execution_count": 4,
   "metadata": {},
   "outputs": [],
   "source": [
    "#device = xm.xla_device() #Sets up commmunication between CPU and TPU\n",
    "device = torch.device(\"mps\")\n",
    "#device = torch.device(\"cpu\")"
   ]
  },
  {
   "cell_type": "markdown",
   "metadata": {},
   "source": [
    "#### __Defining the Transformations__"
   ]
  },
  {
   "cell_type": "code",
   "execution_count": 5,
   "metadata": {},
   "outputs": [],
   "source": [
    "'''Transformation function object applies transformations in list sequentially (e.g. images into tensors \n",
    "-> normalize). Normalizing/condensing pixels to 0-1 to make model focuses more on relationships instead\n",
    "of brightness levels.'''\n",
    "def transformations(maybe_augment):\n",
    "    transform_norm = transforms.Compose([transforms.ToTensor(), transforms.Normalize((0.5,), (0.5,))])\n",
    "\n",
    "\n",
    "    #degrees - max rotation; translation - max horizontal/vert shift, scale - scaling range, shear - up to 10 degrees for both axes\n",
    "    #all these are hypers\n",
    "    aug = transforms.RandomAffine(degrees = 15, translate = (0.03, 0.02), scale = (0.9, 1.03), shear = (-10, 10))\n",
    "\n",
    "    if (maybe_augment == True):\n",
    "        #.2 -> ranges from .8 to 1.2 of orig (1)\n",
    "        transform_aug = transforms.Compose([aug, transforms.ColorJitter(brightness=.22, contrast=0.25), \n",
    "                                        transforms.ToTensor(),\n",
    "                                        transforms.Normalize((0.5,), (0.5,))\n",
    "                                        ])\n",
    "    else:\n",
    "        transform_aug = transform_norm\n",
    "    \n",
    "    return transform_norm, transform_aug"
   ]
  },
  {
   "cell_type": "code",
   "execution_count": 6,
   "metadata": {},
   "outputs": [],
   "source": [
    "transform_norm, transform_aug = transformations(hypers.augment)"
   ]
  },
  {
   "cell_type": "markdown",
   "metadata": {},
   "source": [
    "#### __Loading the Data__"
   ]
  },
  {
   "cell_type": "code",
   "execution_count": 7,
   "metadata": {},
   "outputs": [],
   "source": [
    "#like list of tuples of (image (tensor), label)...\n",
    "train_dataset = datasets.MNIST(root = '../data', train = True, download = False, transform = None)"
   ]
  },
  {
   "cell_type": "markdown",
   "metadata": {},
   "source": [
    "### __Data Augmentation__"
   ]
  },
  {
   "cell_type": "markdown",
   "metadata": {},
   "source": [
    "#### __Viewing the Current Distribution of Classes__"
   ]
  },
  {
   "cell_type": "code",
   "execution_count": 8,
   "metadata": {},
   "outputs": [
    {
     "name": "stdout",
     "output_type": "stream",
     "text": [
      "1: 6742\n",
      "7: 6265\n",
      "3: 6131\n",
      "2: 5958\n",
      "9: 5949\n",
      "0: 5923\n",
      "6: 5918\n",
      "8: 5851\n",
      "4: 5842\n",
      "5: 5421\n"
     ]
    },
    {
     "data": {
      "text/plain": [
       "' With Augmentation\\nTest Accuracy for 0: 99.49%\\nTest Accuracy for 1: 99.12%\\nTest Accuracy for 8: 98.87%\\nTest Accuracy for 7: 98.83%\\nTest Accuracy for 4: 98.57%\\nTest Accuracy for 3: 98.12%\\nTest Accuracy for 5: 98.09%\\nTest Accuracy for 6: 97.91%\\nTest Accuracy for 2: 97.87%\\nTest Accuracy for 9: 96.53%\\n    '"
      ]
     },
     "execution_count": 8,
     "metadata": {},
     "output_type": "execute_result"
    }
   ],
   "source": [
    "def distribution(dataset):\n",
    "    freq = {}\n",
    "    for label in range(0, 10):\n",
    "        freq[label] = 0\n",
    "\n",
    "    for image, label in dataset:\n",
    "        freq[label] += 1\n",
    "\n",
    "    #list of tuples\n",
    "    freq_sorted = sorted(freq.items(), key = itemgetter(1), reverse = True)\n",
    "    for number, freq in freq_sorted:\n",
    "        print(f'{number}: {freq}')\n",
    "\n",
    "distribution(train_dataset)\n",
    "\n",
    "'''\n",
    "Test Accuracy for 1: 99.82%\n",
    "Test Accuracy for 6: 98.96%\n",
    "Test Accuracy for 0: 98.88%\n",
    "Test Accuracy for 9: 98.02%\n",
    "Test Accuracy for 8: 97.84%\n",
    "Test Accuracy for 3: 97.82%\n",
    "Test Accuracy for 4: 97.76%\n",
    "Test Accuracy for 7: 97.67%\n",
    "Test Accuracy for 2: 97.09%\n",
    "Test Accuracy for 5: 97.09%\n",
    "'''\n",
    "''' With Augmentation\n",
    "Test Accuracy for 0: 99.49%\n",
    "Test Accuracy for 1: 99.12%\n",
    "Test Accuracy for 8: 98.87%\n",
    "Test Accuracy for 7: 98.83%\n",
    "Test Accuracy for 4: 98.57%\n",
    "Test Accuracy for 3: 98.12%\n",
    "Test Accuracy for 5: 98.09%\n",
    "Test Accuracy for 6: 97.91%\n",
    "Test Accuracy for 2: 97.87%\n",
    "Test Accuracy for 9: 96.53%\n",
    "    '''\n",
    "#5 is fewest, can apply tilting/brightness"
   ]
  },
  {
   "cell_type": "markdown",
   "metadata": {},
   "source": [
    "#### __Visualizing the Augmentation__"
   ]
  },
  {
   "cell_type": "code",
   "execution_count": 9,
   "metadata": {},
   "outputs": [],
   "source": [
    "def side_by_side_plot(image1, image2, title1, title2):\n",
    "    plt.subplot(1, 2, 1)\n",
    "    plt.imshow(image1, cmap=\"grey\")\n",
    "    plt.title(f'{title1}')\n",
    "    plt.axis(\"off\")\n",
    "\n",
    "    plt.subplot(1,2,2)\n",
    "    plt.title(f'{title2}')\n",
    "    plt.imshow(image2, cmap = \"grey\")\n",
    "    plt.axis(\"off\")\n",
    "\n",
    "    plt.show()\n",
    "\n",
    "def get_image(dataset, index):\n",
    "    image, __ = dataset[index]\n",
    "    return image.squeeze(0) #remove singleton batch_size dimension (provides no new info); now 2D (28x28) array"
   ]
  },
  {
   "cell_type": "code",
   "execution_count": 10,
   "metadata": {},
   "outputs": [
    {
     "data": {
      "image/png": "[encoded data removed]",
      "text/plain": [
       "<Figure size 640x480 with 2 Axes>"
      ]
     },
     "metadata": {},
     "output_type": "display_data"
    }
   ],
   "source": [
    "#transformation applied on the fly when image accessed; every epoch sees dif versions of images\n",
    "norm_dataset = datasets.MNIST(root = '../data', train = True, download = False, transform = transform_norm) #true on Colab\n",
    "aug_dataset = datasets.MNIST(root = '../data', train = True, download = False, transform = transform_aug)\n",
    "\n",
    "index = 4\n",
    "norm_image = get_image(norm_dataset, index)\n",
    "aug_image = get_image(aug_dataset, index)\n",
    "\n",
    "side_by_side_plot(norm_image, aug_image, \"Original\", \"Augmented\")"
   ]
  },
  {
   "cell_type": "markdown",
   "metadata": {},
   "source": [
    "#### __Getting Proper Proportions of Augmented and Original Data__"
   ]
  },
  {
   "cell_type": "code",
   "execution_count": 11,
   "metadata": {},
   "outputs": [],
   "source": [
    "'''Get data -> split into subsets -> wrap them in DataSetT class and give them transformation attribute, \n",
    "define methods necessary for DataLoader-> merge them back together'''\n",
    "class DataSetT:\n",
    "    def __init__(self, images, labels, transform):\n",
    "        self.images = images\n",
    "        self.labels = labels\n",
    "        self.transform = transform\n",
    "\n",
    "    def __len__(self): #subset has length\n",
    "        return len(self.images)\n",
    "    \n",
    "    def __getitem__(self, index): #works with DataLoader, lets me do dataset[index]; SubSet has this implemented but not with transform\n",
    "        sample = self.images[index]\n",
    "        sample_transformed = self.transform(sample) # __call__ method of Compose on Data instance: for sammple (s) in self.transforms, s = t(s)\n",
    "        label = self.labels[index] \n",
    "        return sample_transformed, label"
   ]
  },
  {
   "cell_type": "code",
   "execution_count": 12,
   "metadata": {},
   "outputs": [],
   "source": [
    "def extract(dataset):\n",
    "    images = []\n",
    "    labels = []\n",
    "    for image, label in dataset:\n",
    "        images.append(image)\n",
    "        labels.append(label)\n",
    "    return images, labels\n",
    "\n",
    "def calculate_indices(dataset, hypers):\n",
    "    len_train = len(dataset)\n",
    "\n",
    "    num_norm_indices = int(len_train * (1 - hypers.prob_augment))\n",
    "    num_aug_indices = int(len_train * hypers.prob_augment)\n",
    "\n",
    "    all_indices = np.random.permutation(len_train) #random array of numbers 0 to n-1\n",
    "\n",
    "    #part of permutation is indices for norm images, rest is augmented\n",
    "    norm_indices = all_indices[0:num_norm_indices] \n",
    "    aug_indices = all_indices[num_norm_indices:]\n",
    "\n",
    "    return norm_indices, aug_indices\n",
    "\n",
    "def create_dataset_t(dataset, indices):\n",
    "    subset = Subset(dataset, indices)\n",
    "    images, labels = extract(subset)\n",
    "    return DataSetT(images, labels, transform_norm)\n",
    "\n",
    "\n",
    "def norm_aug_trainloader(dataset, hypers):\n",
    "    norm_indices, aug_indices = calculate_indices(dataset, hypers)\n",
    "\n",
    "    #For norm and aug, create a subset of the data, create Data instance so relevant transformation is applied when DataLoader gets image\n",
    "    norm_dataset = create_dataset_t(dataset, norm_indices)\n",
    "    aug_dataset = create_dataset_t(dataset, aug_indices)\n",
    "\n",
    "   #Concat determines what dataset contains that index -> recalculates index for that dataset -> delegates __getitem__ call to that Data instance\n",
    "    norm_aug_trainset = ConcatDataset([norm_dataset, aug_dataset])\n",
    "    return DataLoader(norm_aug_trainset, hypers.b_size, shuffle = True)"
   ]
  },
  {
   "cell_type": "markdown",
   "metadata": {},
   "source": [
    "### __Model Evaluation and Selection__"
   ]
  },
  {
   "cell_type": "markdown",
   "metadata": {},
   "source": [
    "#### __Alter Hyper for Grid Search__"
   ]
  },
  {
   "cell_type": "code",
   "execution_count": 13,
   "metadata": {},
   "outputs": [],
   "source": [
    "def alter_hyper(hypers, hypercombo):\n",
    "    hypers.l_rate = hypercombo['l_rate']\n",
    "    hypers.b_size = hypercombo['b_size']\n",
    "    hypers.epochs = hypercombo['epochs']\n",
    "    hypers.drop_rate = hypercombo['drop_rate']\n",
    "    hypers.hidden_one = hypercombo['hidden_one']\n",
    "    hypers.hidden_two = hypercombo['hidden_two']\n",
    "    hypers.n_slope = hypercombo['n_slope']\n",
    "    hypers.augment = hypercombo['augment']\n",
    "    hypers.prob_augment = hypercombo['prob_augment']\n"
   ]
  },
  {
   "cell_type": "markdown",
   "metadata": {},
   "source": [
    "#### __K-folds Cross Validation - Approach 1__"
   ]
  },
  {
   "cell_type": "code",
   "execution_count": 14,
   "metadata": {},
   "outputs": [],
   "source": [
    "#already ensure validation only used once per sample\n",
    "def k_folds(folds, train_dataset, hypers, hypercombo = None, grid_search = False):\n",
    "\n",
    "    kf = KFold(n_splits = folds, shuffle = True, random_state = 20)\n",
    "    validation_accuracies = []\n",
    "\n",
    "    if grid_search:\n",
    "        alter_hyper(hypers, hypercombo)\n",
    "\n",
    "    '''by default split only works with indices arrays (use np.arange(len(data))) unless it can use length attribute of dataset, which Pytorch provides.\n",
    "    This works too: norm_dataset.__len__(), dunder methods simplify syntax'''\n",
    "    for fold, (train_indices, val_indices) in enumerate(kf.split(train_dataset)):\n",
    "        if (fold == 0):\n",
    "            print(f'Fold {fold + 1}')\n",
    "        else:\n",
    "            print(f'\\nFold {fold + 1}')\n",
    "\n",
    "        #My actual validation\n",
    "        val_transformed = create_dataset_t(train_dataset, val_indices)\n",
    "        val_loader = DataLoader(val_transformed, batch_size = 512, shuffle=False)\n",
    "\n",
    "        train_subset = Subset(train_dataset, train_indices)\n",
    "        train_loader = norm_aug_trainloader(train_subset, hypers)\n",
    "        \n",
    "        model = NumberNN(hypers.hidden_one, hypers.hidden_two, hypers.drop_rate, hypers.n_slope).to(device) #ensures parameters reset and each fold is independent\n",
    "        cross_entropy = nn.CrossEntropyLoss()\n",
    "        adam = optim.Adam(model.parameters(), lr= hypers.l_rate, betas=(0.9, 0.999), eps=1e-08) #forget info from EWMA\n",
    "\n",
    "        last_epoch_val_accuracy = train_model(model, train_loader, optimizer = adam, loss_f = cross_entropy, \n",
    "                                              num_epochs = hypers.epochs, val_loader = val_loader)\n",
    "\n",
    "        validation_accuracies.append(last_epoch_val_accuracy)\n",
    "\n",
    "    mean_val_accuracy = np.mean(validation_accuracies)\n",
    "    #Use average validation accuracy across all folds to evaluate model\n",
    "    return mean_val_accuracy\n"
   ]
  },
  {
   "cell_type": "code",
   "execution_count": 531,
   "metadata": {},
   "outputs": [
    {
     "name": "stdout",
     "output_type": "stream",
     "text": [
      "Fold 1\n",
      "Epoch 1 -- Loss: 0.3999, Training Accuracy: 91.33%, Validation Accuracy: 91.28%\n",
      "Epoch 20 -- Loss: 0.0110, Training Accuracy: 99.52%, Validation Accuracy: 97.68%\n",
      "\n",
      "Fold 2\n",
      "Epoch 1 -- Loss: 0.3700, Training Accuracy: 91.49%, Validation Accuracy: 91.15%\n",
      "Epoch 20 -- Loss: 0.0144, Training Accuracy: 99.48%, Validation Accuracy: 97.32%\n",
      "\n",
      "Fold 3\n",
      "Epoch 1 -- Loss: 0.2810, Training Accuracy: 91.77%, Validation Accuracy: 90.93%\n",
      "Epoch 20 -- Loss: 0.0050, Training Accuracy: 99.71%, Validation Accuracy: 97.87%\n",
      "\n",
      "Fold 4\n",
      "Epoch 1 -- Loss: 0.3272, Training Accuracy: 89.77%, Validation Accuracy: 89.57%\n",
      "Epoch 20 -- Loss: 0.0018, Training Accuracy: 99.72%, Validation Accuracy: 97.73%\n",
      "\n",
      "Fold 5\n",
      "Epoch 1 -- Loss: 0.2698, Training Accuracy: 91.64%, Validation Accuracy: 91.40%\n",
      "Epoch 20 -- Loss: 0.0143, Training Accuracy: 99.75%, Validation Accuracy: 97.97%\n",
      "\n",
      "Fold 6\n",
      "Epoch 1 -- Loss: 0.4055, Training Accuracy: 90.81%, Validation Accuracy: 90.53%\n",
      "Epoch 20 -- Loss: 0.0298, Training Accuracy: 99.57%, Validation Accuracy: 97.72%\n",
      "\n",
      "Fold 7\n",
      "Epoch 1 -- Loss: 0.3043, Training Accuracy: 91.08%, Validation Accuracy: 91.02%\n",
      "Epoch 20 -- Loss: 0.0055, Training Accuracy: 99.68%, Validation Accuracy: 98.07%\n",
      "\n",
      "Fold 8\n",
      "Epoch 1 -- Loss: 0.2122, Training Accuracy: 89.98%, Validation Accuracy: 89.68%\n",
      "Epoch 20 -- Loss: 0.0044, Training Accuracy: 99.84%, Validation Accuracy: 97.67%\n",
      "\n",
      "Fold 9\n",
      "Epoch 1 -- Loss: 0.2882, Training Accuracy: 91.54%, Validation Accuracy: 91.03%\n",
      "Epoch 20 -- Loss: 0.0334, Training Accuracy: 99.33%, Validation Accuracy: 97.60%\n",
      "\n",
      "Fold 10\n",
      "Epoch 1 -- Loss: 0.2558, Training Accuracy: 91.07%, Validation Accuracy: 90.53%\n",
      "Epoch 20 -- Loss: 0.0144, Training Accuracy: 99.78%, Validation Accuracy: 98.25%\n",
      "\n",
      "\u001b[1mMean Validation Accuracy Across All Folds: 97.79%\u001b[0m\n",
      "\n"
     ]
    }
   ],
   "source": [
    "mean_val_accuracy = k_folds(10, train_dataset, hypers)\n",
    "print(f'\\n\\033[1mMean Validation Accuracy Across All Folds: {mean_val_accuracy:.2f}%\\033[0m\\n')"
   ]
  },
  {
   "cell_type": "markdown",
   "metadata": {},
   "source": [
    "#### __K-Folds Cross Validation - Approach 2__"
   ]
  },
  {
   "cell_type": "code",
   "execution_count": 19,
   "metadata": {},
   "outputs": [],
   "source": [
    "FOLDS = 10\n",
    "\n",
    "def calc_alt_indices(norm_dataset, norm_train_indices, hypers, k_folds):\n",
    "    TOTAL_TRAINING = int((len(norm_dataset)/ (1-hypers.prob_augment)) + 1)\n",
    "\n",
    "    len_val = len(norm_dataset)/FOLDS if k_folds else 0\n",
    "    training_num = (len(norm_dataset) - len_val) if k_folds else TOTAL_TRAINING\n",
    "\n",
    "    num_norm_train_indices = int(training_num * (1-hypers.prob_augment))\n",
    "    num_aug_train_indices = int(training_num * hypers.prob_augment)\n",
    "\n",
    "    mapped_indices = norm_train_indices + len(norm_dataset) #maps indices to aug\n",
    "    \n",
    "    norm_train_indices = np.random.choice(norm_train_indices, num_norm_train_indices, replace = False) \n",
    "    norm_train_indices = norm_train_indices.reshape(-1)\n",
    "    aug_train_indices = np.random.choice(mapped_indices, num_aug_train_indices, replace = False)  \n",
    "\n",
    "    \n",
    "    return np.concatenate([norm_train_indices, aug_train_indices])\n",
    "\n",
    "def alt_loader(full_train_dataset, norm_dataset, norm_train_indices, hypers, k_folds = False):\n",
    "    full_train_indices = calc_alt_indices(norm_dataset, norm_train_indices, hypers, k_folds)\n",
    "    train_subset = Subset(full_train_dataset, full_train_indices)\n",
    "\n",
    "    #Shuffles batch order + samples within batches per epoch\n",
    "    return DataLoader(train_subset, batch_size = hypers.b_size, shuffle=True)\n",
    "    "
   ]
  },
  {
   "cell_type": "code",
   "execution_count": 15,
   "metadata": {},
   "outputs": [],
   "source": [
    "#already ensure validation only used once per sample; random_state like seed; generates train/validation indices per fold\n",
    "def k_folds_alt(full_train_dataset, norm_dataset, hypers, hypercombo = None, grid_search = False):\n",
    "    \n",
    "    kf = KFold(n_splits = FOLDS, shuffle=True, random_state=20)\n",
    "    validation_accuracies = []\n",
    "\n",
    "    if grid_search:\n",
    "        alter_hyper(hypers, hypercombo)\n",
    "    \n",
    "    '''by default split only works with indices arrays unless it can use length attribute of dataset, which Pytorch provides.\n",
    "    This works too: norm_dataset.__len__(), dunder methods simplify syntax'''\n",
    "    norm_indices = np.arange(len(norm_dataset))\n",
    "\n",
    "    for fold, (norm_train_indices, val_indices) in enumerate(kf.split(norm_indices)):\n",
    "        if (fold == 0):\n",
    "            print(f'Fold {fold + 1}')\n",
    "        else:\n",
    "            print(f'\\nFold {fold + 1}')\n",
    "\n",
    "        #My actual validation\n",
    "        val_subset = Subset(norm_dataset, val_indices)\n",
    "        val_loader = DataLoader(val_subset, batch_size=512, shuffle=False)\n",
    "\n",
    "        train_loader = alt_loader(full_train_dataset, norm_dataset, norm_train_indices, hypers, k_folds = True)\n",
    "        \n",
    "        model = NumberNN(hypers.hidden_one, hypers.hidden_two, hypers.drop_rate, hypers.n_slope).to(device) #ensures parameters reset and each fold is independent\n",
    "        cross_entropy = nn.CrossEntropyLoss()\n",
    "        adam = optim.Adam(model.parameters(), lr = hypers.l_rate, betas=(0.9, 0.999), eps=1e-08) #forget info from EWMA\n",
    "\n",
    "        last_epoch_val_accuracy = train_model(model, train_loader, optimizer = adam, loss_f = cross_entropy, num_epochs = hypers.epochs, val_loader = val_loader)\n",
    "\n",
    "        validation_accuracies.append(last_epoch_val_accuracy)\n",
    "\n",
    "    mean_val_accuracy = np.mean(validation_accuracies)\n",
    "    #Use average validation accuracy across all folds to evaluate model\n",
    "\n",
    "    return mean_val_accuracy\n"
   ]
  },
  {
   "cell_type": "code",
   "execution_count": 16,
   "metadata": {},
   "outputs": [],
   "source": [
    "full_train_dataset = ConcatDataset([norm_dataset, aug_dataset])"
   ]
  },
  {
   "cell_type": "code",
   "execution_count": null,
   "metadata": {},
   "outputs": [],
   "source": [
    "#this works better\n",
    "mean_val_accuracy = k_folds_alt(10, full_train_dataset, norm_dataset, hypers)\n",
    "print(f'\\n\\033[1mMean Validation Accuracy Across All Folds: {mean_val_accuracy:.2f}%\\033[0m\\n')\n",
    "#.3 prob degrees = 15, translate = (0.03, 0.02), scale = (0.9, 1.03), shear = (-10, 10)) brightness=.22, contrast=0.25): 98.14% mean val"
   ]
  },
  {
   "cell_type": "markdown",
   "metadata": {},
   "source": [
    "#### __Hyperparameter Tuning with Gridsearch__"
   ]
  },
  {
   "cell_type": "code",
   "execution_count": 17,
   "metadata": {},
   "outputs": [],
   "source": [
    "#All other hyperparameters previously tested\n",
    "hyperdict = {\n",
    "    'l_rate': [hypers.l_rate],\n",
    "    'b_size': [hypers.b_size],\n",
    "    'epochs': [hypers.epochs],\n",
    "    'drop_rate': [hypers.drop_rate],\n",
    "    'hidden_one': [hypers.hidden_one],\n",
    "    'hidden_two': [hypers.hidden_two],\n",
    "    'n_slope': [hypers.n_slope],\n",
    "    'augment': [hypers.augment],\n",
    "    'prob_augment': [0.25, hypers.prob_augment, 0.35]\n",
    "}"
   ]
  },
  {
   "cell_type": "code",
   "execution_count": 18,
   "metadata": {},
   "outputs": [],
   "source": [
    "def GridSearch(hyperdict, train_dataset, hypers):\n",
    "    best_hypers = None\n",
    "    best_mean_val_accuracy = 0\n",
    "    orig_hypers = hypers\n",
    "\n",
    "    #iterable - generates on the fly to save memory; generates all possible dictionary combos\n",
    "    for hypercombo in ParameterGrid(hyperdict): \n",
    "        #sometimes you save model also\n",
    "        hypers = orig_hypers #reset hypers\n",
    "        print(hypercombo)\n",
    "\n",
    "        mean_val_accuracy = k_folds_alt(10, full_train_dataset, norm_dataset, hypers, hypercombo, grid_search=True)\n",
    "        print(f'\\n\\033[1mMean Validation Accuracy Across All Folds: {mean_val_accuracy:.2f}%\\033[0m\\n')\n",
    "        \n",
    "        if (mean_val_accuracy > best_mean_val_accuracy):\n",
    "            best_mean_val_accuracy = mean_val_accuracy\n",
    "            best_hypers = hypercombo\n",
    "    \n",
    "    hypers = orig_hypers\n",
    "    return best_hypers, best_mean_val_accuracy"
   ]
  },
  {
   "cell_type": "code",
   "execution_count": null,
   "metadata": {},
   "outputs": [],
   "source": [
    "#Always tune; batch size and learning rate relationship not always linear\n",
    "best_hypers, best_mean_val_accuracy = GridSearch(hyperdict, train_dataset, hypers)\n",
    "print(f'\\n\\033[1mBest Hyperparameters: {best_hypers}, Best Mean Validation Accuracy:{best_mean_val_accuracy: .2f}%\\033[0m')\n",
    "\n",
    "# Best Hyperparameters: {'l_rate': 0.001}, Mean Validation Accuracy: 97.59% - no augmentation\n",
    "#Same hypers with augmentation - Mean Val: 98%"
   ]
  },
  {
   "cell_type": "markdown",
   "metadata": {},
   "source": [
    "### __Training the Model__ "
   ]
  },
  {
   "cell_type": "code",
   "execution_count": 17,
   "metadata": {},
   "outputs": [],
   "source": [
    "def train_model(model, train_loader, optimizer, loss_f, num_epochs, val_loader = None):\n",
    "    model.train() #prevents weird stuff (e.g. optimizer being weird)\n",
    "    \n",
    "    for epoch in range(num_epochs):\n",
    "\n",
    "        #each iteration is one minibatch of images/labels\n",
    "        for images, labels in train_loader: \n",
    "            images, labels = images.to(device), labels.to(device) #moves the tensor from virtual machine memory (mapped to RAM of server) to TPU memory\n",
    "\n",
    "            '''Each parameter has its own special tensor (created per layer) \n",
    "            with a number for its partial derivative in .grad attribute of tensor; step() accesses these. Zeroing\n",
    "            out graident ignores .grad and recalculates partials in backprop.'''\n",
    "            optimizer.zero_grad()\n",
    "\n",
    "            outputs = model(images) #passes this to forward\n",
    "\n",
    "            target = F.one_hot(labels, num_classes=10).float() #numclasses is numcomponents; ex. 4 = [0,0,0,1,0,0,...]\n",
    "\n",
    "            loss = loss_f(outputs, target) #tensor with scalar and computation graph\n",
    "            loss.backward() #backward propogation to compute gradient\n",
    "\n",
    "            optimizer.step() #updates model parameters (takes \"step\")\n",
    "\n",
    "            #Colab\n",
    "            #xm.optimizer_step(optimizer) #ensures gradient calculated first\n",
    "            #xm.mark_step()\n",
    "\n",
    "\n",
    "        #Print out stats for first and last epoch for k-folds cross validation\n",
    "        if val_loader and (epoch == 0 or epoch == num_epochs - 1):\n",
    "            train_accuracy = evaluate(model, train_loader)\n",
    "            val_accuracy = evaluate(model, val_loader)\n",
    "\n",
    "            print(f'Epoch {epoch + 1} -- Loss:{loss.item(): .4f}, Training Accuracy:{train_accuracy : .2f}%, Validation Accuracy:{val_accuracy : .2f}%')\n",
    "        \n",
    "            #return final validation accuracy to be averaged in k-folds\n",
    "            if (epoch == num_epochs - 1):\n",
    "                return val_accuracy\n",
    "        elif not val_loader and (epoch == 0 or epoch == num_epochs - 1):\n",
    "            print(f'Epoch {epoch + 1} -- Loss:{loss.item(): .4f}')\n"
   ]
  },
  {
   "cell_type": "code",
   "execution_count": 297,
   "metadata": {},
   "outputs": [],
   "source": [
    "#Old approach\n",
    "norm_aug_loader = norm_aug_trainloader(train_dataset, hypers)"
   ]
  },
  {
   "cell_type": "code",
   "execution_count": 20,
   "metadata": {},
   "outputs": [],
   "source": [
    "norm_train_indices = np.arange(len(norm_dataset))\n",
    "norm_aug_loader = alt_loader(full_train_dataset, norm_dataset, norm_train_indices, hypers)"
   ]
  },
  {
   "cell_type": "markdown",
   "metadata": {},
   "source": [
    "#### __Training__"
   ]
  },
  {
   "cell_type": "code",
   "execution_count": 21,
   "metadata": {},
   "outputs": [
    {
     "name": "stdout",
     "output_type": "stream",
     "text": [
      "Epoch 1 -- Loss: 0.2848\n",
      "Epoch 20 -- Loss: 0.0479\n"
     ]
    }
   ],
   "source": [
    "model = NumberNN(hypers.hidden_one, hypers.hidden_two, hypers.drop_rate, hypers.n_slope).to(device)\n",
    "cross_entropy = nn.CrossEntropyLoss()\n",
    "adam = optim.Adam(model.parameters(), hypers.l_rate, betas=(0.9, 0.999), eps=1e-08) \n",
    "\n",
    "train_model(model = model, train_loader = norm_aug_loader, optimizer = adam, loss_f = cross_entropy, num_epochs = hypers.epochs)"
   ]
  },
  {
   "cell_type": "markdown",
   "metadata": {},
   "source": [
    "### __Saving the Model__"
   ]
  },
  {
   "cell_type": "code",
   "execution_count": 34,
   "metadata": {},
   "outputs": [
    {
     "name": "stdout",
     "output_type": "stream",
     "text": [
      "mlp-lr0.001-b512-ep20-0.3-\n"
     ]
    }
   ],
   "source": [
    "trained_model = f'mlp-lr{hypers.l_rate}-b{hypers.b_size}-ep{hypers.epochs}-{hypers.prob_augment}-'\n",
    "print(trained_model)"
   ]
  },
  {
   "cell_type": "code",
   "execution_count": 26,
   "metadata": {},
   "outputs": [],
   "source": [
    "#Save these parameters in Colab or locally\n",
    "'''Model has state dictionary, a Python dictionary that maps to the weights and \n",
    "biases. Extracts this and stores it in a file with .pth convention by convention to store PyTorch parameters \n",
    "or entire models.'''\n",
    "torch.save(model.state_dict(), f'../models/{trained_model}.pth')"
   ]
  },
  {
   "cell_type": "code",
   "execution_count": null,
   "metadata": {},
   "outputs": [],
   "source": [
    "#If using Colab, download locally\n",
    "files.download('colabmodel.pth')"
   ]
  },
  {
   "cell_type": "code",
   "execution_count": null,
   "metadata": {},
   "outputs": [],
   "source": [
    "#Then if using Colab, move to correct folder\n",
    "model_downloads_path = os.path.join(os.path.expanduser(\"~\"), \"Downloads\", \"colabmodel.pth\")\n",
    "\n",
    "model_destination_path = \"/Users/darian/Documents/Coding/deep-learning-mnist/models/colabmodel.pth\"\n",
    "\n",
    "shutil.move(model_downloads_path, model_destination_path)"
   ]
  },
  {
   "cell_type": "markdown",
   "metadata": {},
   "source": [
    "### __Loading the Saved Model__"
   ]
  },
  {
   "cell_type": "code",
   "execution_count": 50,
   "metadata": {},
   "outputs": [],
   "source": [
    "def load_model():\n",
    "    # Instantiate the model\n",
    "    model = NumberNN(hypers.hidden_one, hypers.hidden_two, hypers.drop_rate, hypers.n_slope).to(device)\n",
    "    #Update model's parameters to what it was after training\n",
    "    #model.load_state_dict(torch.load(f'../models/{trained_model}.pth'))\n",
    "    model.load_state_dict(torch.load(f'../models/mlp-lr0.001-b512-ep20-0.2p-lesstdata-98.35pth'))\n",
    "    \n",
    "    '''Sometimes in training some neurons turned off (called dropout) to prevent overfitting, but when testing \n",
    "you want all neurons in model to be used, so eval fixes this as well as other settings for testing so model\n",
    "acts \"normally\"'''\n",
    "    model.eval()\n",
    "\n",
    "    return model\n",
    "\n",
    "model = load_model()"
   ]
  },
  {
   "cell_type": "markdown",
   "metadata": {},
   "source": [
    "### __Evalulating/Testing the Model__"
   ]
  },
  {
   "cell_type": "markdown",
   "metadata": {},
   "source": [
    "#### __Testing Accuracy for all Testing Data__"
   ]
  },
  {
   "cell_type": "code",
   "execution_count": 23,
   "metadata": {},
   "outputs": [],
   "source": [
    "def evaluate(model, loader):\n",
    "    model.eval()\n",
    "\n",
    "    #Counters\n",
    "    correct = 0\n",
    "    total = 0\n",
    "\n",
    "    '''with - gradient descent will be tracked outside of with block. Not tracking ->\n",
    "    doesn't store unnecessary numbers (eg. intermediate activations) for calculating gradient; \n",
    "    Saves memory and its faster\n",
    "    '''\n",
    "    with torch.no_grad():\n",
    "        for images, labels in loader:\n",
    "            images, labels = images.to(device), labels.to(device) \n",
    "\n",
    "            outputs = model(images) #self.forward(images), uses __call__\n",
    "            '''Return two tensors in tuple for max values (brightest neurons) and their indices per training \n",
    "            example in mini batch. Convention to store unimportant stuff in _. 1 as parameter input means \n",
    "            find max along dimension 1. Outputs = (batch_size, num_classes). Max outputs the max output neuron\n",
    "            and index (number) per batch.\n",
    "            '''\n",
    "            _, predicted = torch.max(outputs, 1)\n",
    "\n",
    "            #Update Counters\n",
    "            total += labels.size(0) #size of first dimension (each minibatch)\n",
    "\n",
    "            #Compare each tensor, which returns new tensor with each component being True or False\n",
    "            #Sum counts the amount of True in the tensor\n",
    "            correct += (predicted == labels).sum().item()\n",
    "        return (correct/total) * 100"
   ]
  },
  {
   "cell_type": "code",
   "execution_count": 51,
   "metadata": {},
   "outputs": [
    {
     "name": "stdout",
     "output_type": "stream",
     "text": [
      "Test Accuracy: 98.35%\n"
     ]
    }
   ],
   "source": [
    "test_dataset = datasets.MNIST(root = '../data', train = False, download = False, transform = transform_norm) #True on Colab\n",
    "\n",
    "test_loader = DataLoader(test_dataset, batch_size = 512, shuffle = False)\n",
    "\n",
    "accuracy = evaluate(model, loader = test_loader)\n",
    "print(f'Test Accuracy:{accuracy : .2f}%')"
   ]
  },
  {
   "cell_type": "markdown",
   "metadata": {},
   "source": [
    "#### __Testing Accuracy Per Digit__"
   ]
  },
  {
   "cell_type": "code",
   "execution_count": 28,
   "metadata": {},
   "outputs": [],
   "source": [
    "def digit_indices(dataset, digit):\n",
    "    indices = []\n",
    "    for index, (image, label) in enumerate(dataset):\n",
    "        if label == digit:\n",
    "            indices.append(index)\n",
    "    return indices"
   ]
  },
  {
   "cell_type": "code",
   "execution_count": 29,
   "metadata": {},
   "outputs": [
    {
     "name": "stdout",
     "output_type": "stream",
     "text": [
      "Test Accuracy for 1: 99.82%\n",
      "Test Accuracy for 0: 99.29%\n",
      "Test Accuracy for 8: 98.87%\n",
      "Test Accuracy for 7: 98.83%\n",
      "Test Accuracy for 2: 98.64%\n",
      "Test Accuracy for 5: 98.54%\n",
      "Test Accuracy for 9: 98.51%\n",
      "Test Accuracy for 4: 98.17%\n",
      "Test Accuracy for 3: 97.72%\n",
      "Test Accuracy for 6: 97.60%\n"
     ]
    }
   ],
   "source": [
    "accuracies = {}\n",
    "\n",
    "for i in range(0,10):\n",
    "    one_digit_indices = digit_indices(dataset = test_dataset, digit = i)\n",
    "    one_digit_test_set = Subset(test_dataset, one_digit_indices)\n",
    "    one_digit_loader = DataLoader(one_digit_test_set, batch_size= 512, shuffle = False)\n",
    "\n",
    "    accuracy = evaluate(model, loader = one_digit_loader)\n",
    "    accuracies[i] = accuracy\n",
    "\n",
    "sorted_accuracies = sorted(accuracies.items(), key = itemgetter(1), reverse = True)\n",
    "\n",
    "for digit, accuracy in sorted_accuracies:\n",
    "    print(f'Test Accuracy for {digit}:{accuracy: .2f}%')"
   ]
  },
  {
   "cell_type": "markdown",
   "metadata": {},
   "source": [
    "### __Inputting a New Image__"
   ]
  },
  {
   "cell_type": "markdown",
   "metadata": {},
   "source": [
    "#### __Pixelation__"
   ]
  },
  {
   "cell_type": "code",
   "execution_count": 31,
   "metadata": {},
   "outputs": [],
   "source": [
    "def pixelate_image(image, pixelation_level):\n",
    "    \n",
    "    '''/ is floor division. Tuples have indices. Resize is changing # of pixels after knowing new \n",
    "    size of image, what makes it appear pixelated is then enlarging image so the few pixels are larger.\n",
    "    Bilinear interpoloation is to get value of each pixel, look at weighted (based on distance) average of \n",
    "    4 nearest pixels of where it would go to determine new value. Then split those big pixels up again \n",
    "    so the size is same as original but looks more pixelated.'''\n",
    "\n",
    "    #open and greyscale image (compress to 1 channel)\n",
    "\n",
    "    new_size = (image.size[0] // pixelation_level, image.size[1] // pixelation_level)\n",
    "    pixelated = image.resize(new_size,resample=Image.BILINEAR)\n",
    "\n",
    "    pixelated = pixelated.resize((28, 28))\n",
    "    \n",
    "    return pixelated\n",
    "\n",
    "#Preprocess using functions of the Image class\n",
    "def preprocess_image(image, pixelation_level):\n",
    "    image = pixelate_image(image, pixelation_level)\n",
    "    image = transform_norm(image)  #images -> pixel values-> normalize\n",
    "    image = image.unsqueeze(0)  #Add singleton dimension (batch_size) to image; not used, but specific shape necessary for model\n",
    "    return image\n",
    "\n",
    "def preprocess_no_pixelation(image):\n",
    "    image = image.resize((28, 28))\n",
    "    image = transform_norm(image) \n",
    "    image = image.unsqueeze(0)\n",
    "    return image"
   ]
  },
  {
   "cell_type": "code",
   "execution_count": 32,
   "metadata": {},
   "outputs": [
    {
     "name": "stdout",
     "output_type": "stream",
     "text": [
      "Probability of 9: 99.293%\n",
      "Probability of 8: 0.432%\n",
      "Probability of 7: 0.153%\n",
      "Probability of 3: 0.080%\n",
      "Probability of 2: 0.024%\n",
      "Probability of 1: 0.017%\n",
      "Probability of 0: 0.001%\n",
      "Probability of 4: 0.000%\n",
      "Probability of 5: 0.000%\n",
      "Probability of 6: 0.000%\n",
      "\n",
      "Predicted Number: 9\n"
     ]
    }
   ],
   "source": [
    "original = Image.open('../data/test-images/9-1.png').convert('L')\n",
    "\n",
    "#pixelation slightly worse outcome because its different noise than model experienced in training\n",
    "pixelation_level = 1\n",
    "pixelated_image = pixelate_image(original, pixelation_level)\n",
    "\n",
    "image_transformed = preprocess_image(original, pixelation_level).to(device)\n",
    "#image_transformed = preprocess_no_pixelation(image).to(device)\n",
    "with torch.no_grad():\n",
    "    outputs = model(image_transformed)\n",
    "    _, predicted = torch.max(outputs, dim = 1)\n",
    "\n",
    "    #softmax takes care of negative outputs\n",
    "    probabilities = F.softmax(outputs, dim = 1) #probabilities[i] that contains softmax for outputs of i+1 image \n",
    "\n",
    "#[(number, probability tensor)...]; enumerate packs into tuple with counter\n",
    "prob_tuples = list(enumerate(probabilities[0])) \n",
    "\n",
    "#to sort by max, extract probability with itemgetter\n",
    "prob_tuples.sort(key = itemgetter(1), reverse = True)\n",
    "\n",
    "for number, probability in prob_tuples:\n",
    "    print(f'Probability of {number}:{probability.item() * 100: .3f}%')\n",
    "\n",
    "print(f'\\nPredicted Number: {predicted.item()}')"
   ]
  },
  {
   "cell_type": "markdown",
   "metadata": {},
   "source": [
    "#### __Visualizing the Pixelated Image__"
   ]
  },
  {
   "cell_type": "code",
   "execution_count": 33,
   "metadata": {},
   "outputs": [
    {
     "data": {
      "image/png": "[encoded data removed]",
      "text/plain": [
       "<Figure size 640x480 with 2 Axes>"
      ]
     },
     "metadata": {},
     "output_type": "display_data"
    }
   ],
   "source": [
    "side_by_side_plot(original, pixelated_image, \"Original\", \"Pixelated\")"
   ]
  }
 ],
 "metadata": {
  "kernelspec": {
   "display_name": "Python 3",
   "language": "python",
   "name": "python3"
  },
  "language_info": {
   "codemirror_mode": {
    "name": "ipython",
    "version": 3
   },
   "file_extension": ".py",
   "mimetype": "text/x-python",
   "name": "python",
   "nbconvert_exporter": "python",
   "pygments_lexer": "ipython3",
   "version": "3.10.14"
  }
 },
 "nbformat": 4,
 "nbformat_minor": 2
}
