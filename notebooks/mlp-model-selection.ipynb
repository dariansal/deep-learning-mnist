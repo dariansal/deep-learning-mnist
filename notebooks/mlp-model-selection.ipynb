{
 "cells": [
  {
   "cell_type": "markdown",
   "metadata": {},
   "source": []
  },
  {
   "cell_type": "markdown",
   "metadata": {},
   "source": [
    "<center><h1><b><u> Multilayer Perceptron with MNIST Dataset</u></b></h1></center>"
   ]
  },
  {
   "cell_type": "markdown",
   "metadata": {},
   "source": [
    "## __Importing Libraries, Classes, and Functions__"
   ]
  },
  {
   "cell_type": "code",
   "execution_count": null,
   "metadata": {},
   "outputs": [],
   "source": [
    "# !pip install torch-xla #Colab"
   ]
  },
  {
   "cell_type": "code",
   "execution_count": 2,
   "metadata": {},
   "outputs": [],
   "source": [
    "#Standard library\n",
    "import os\n",
    "import sys\n",
    "import json\n",
    "import time\n",
    "import shutil\n",
    "from operator import itemgetter\n",
    "\n",
    "import numpy as np\n",
    "from PIL import Image\n",
    "import matplotlib.pyplot as plt\n",
    "from sklearn.model_selection import KFold, ParameterGrid\n",
    "from sklearn.metrics import confusion_matrix, ConfusionMatrixDisplay, precision_score, recall_score, f1_score, classification_report\n",
    "\n",
    "# Torch\n",
    "import torch\n",
    "from torch import jit\n",
    "import torch.nn as nn  # provides classes/modules for making neural networks\n",
    "from torch.nn import Linear, Dropout\n",
    "import torch.nn.functional as F  # a module with common nn functions (operations on tensors/high dim matrices; activations)\n",
    "import torch.optim as optim  # contains optimization algorithms like SGD\n",
    "from torchvision import datasets, transforms  # includes MNIST, transform images -> tensors\n",
    "from torch.utils.data import DataLoader, Subset, ConcatDataset  # allows shuffling and minbatches\n",
    "\n",
    "#Colab\n",
    "#import torch_xla\n",
    "#import torch_xla.core.xla_model as xm  # tpu\n",
    "#from google.colab import files"
   ]
  },
  {
   "cell_type": "code",
   "execution_count": 3,
   "metadata": {},
   "outputs": [],
   "source": [
    "current_dir = os.getcwd()\n",
    "\n",
    "src_dir = os.path.join(current_dir, '..', 'src') #pathtocurrentdir/../src\n",
    "sys.path.append(src_dir) #adds to list of strings that Python checks to import module; resets everytime you restart kernel"
   ]
  },
  {
   "cell_type": "code",
   "execution_count": 4,
   "metadata": {},
   "outputs": [],
   "source": [
    "# Local/custom imports\n",
    "from custom_dataset import DataSetT"
   ]
  },
  {
   "cell_type": "markdown",
   "metadata": {},
   "source": [
    "## __Initializing the Hyperparameters__"
   ]
  },
  {
   "cell_type": "code",
   "execution_count": null,
   "metadata": {},
   "outputs": [],
   "source": [
    "class Hypers:\n",
    "    def __init__(self, hyperpath):\n",
    "        with open(hyperpath, 'r') as file:\n",
    "            hyper_dict = json.load(file)\n",
    "        self.l_rate = hyper_dict['learning_rate']\n",
    "        self.b_size = hyper_dict['batch_size']\n",
    "        self.epochs = hyper_dict['epochs']\n",
    "        self.drop_rate = hyper_dict['dropout_rate']\n",
    "        self.hidden_one = hyper_dict['hidden_one']\n",
    "        self.hidden_two = hyper_dict['hidden_two']\n",
    "        self.n_slope = hyper_dict['n_slope']\n",
    "        self.augment = hyper_dict['augment']\n",
    "        self.prob_augment = hyper_dict['prob_augment']\n",
    "        self.beta_one = hyper_dict['beta_one']\n",
    "        self.beta_two = hyper_dict['beta_two']\n",
    "        self.degrees = hyper_dict['degrees']\n",
    "        self.trans_horz = hyper_dict['trans_horz']\n",
    "        self.trans_vert = hyper_dict['trans_vert']\n",
    "        self.scale_min = hyper_dict['scale_min']\n",
    "        self.scale_max = hyper_dict['scale_max']\n",
    "        self.shear = hyper_dict['shear']\n",
    "        self.brightness = hyper_dict['brightness']\n",
    "        self.contrast = hyper_dict['contrast']\n",
    "\n",
    "\n",
    "#can feed this into functions that need hypers\n",
    "hypers = Hypers('../config/mlp-hyperparameters.json')"
   ]
  },
  {
   "cell_type": "markdown",
   "metadata": {},
   "source": [
    "## __Model Architecture__"
   ]
  },
  {
   "cell_type": "code",
   "execution_count": null,
   "metadata": {},
   "outputs": [],
   "source": [
    "class MLP(nn.Module):  #a module\n",
    "    def __init__(self, hypers, input_dim = 784, output_dim = 10):\n",
    "        super(MLP, self).__init__() #explicitly call parent class constructor to initialize stuff\n",
    "                                    #parent (nn.Module) technically initialized too and tied to child but you only access child\n",
    "        self.fc1 = Linear(in_features = input_dim, out_features = hypers.hidden_one) #num features = num neurons in input layer (1 neuron per feature/vector component); 28^2 pixels\n",
    "        self.fc2 = Linear(hypers.hidden_one, hypers.hidden_two) #each layer is submodule\n",
    "        self.fc3 = Linear(hypers.hidden_two, output_dim)\n",
    "        \n",
    "        self.n_slope = hypers.n_slope\n",
    "        self.dropout = Dropout(p = hypers.drop_rate) if hypers.drop_rate > 0 else nn.Identity() #basically no op; TorchScript requires all attributes to be defined\n",
    "    \n",
    "    def forward(self, x, input_dim = 784):\n",
    "        x = x.view(-1, input_dim)  # Flatten the input tensor (batch_size, 1, 28, 28) to (batch_size, 784)\n",
    "\n",
    "        z1 = self.fc1(x) #Weight matrix + bias vector\n",
    "        a1 = F.leaky_relu(z1, negative_slope= self.n_slope) \n",
    "        a1 = self.dropout(a1) #if dropout>0 apply; identity very fast \n",
    "\n",
    "        z2 = self.fc2(a1)\n",
    "        a2 = F.leaky_relu(z2, negative_slope= self.n_slope) \n",
    "        a2 = self.dropout(a2)\n",
    "\n",
    "        outputs = self.fc3(a2)\n",
    "        \n",
    "        return outputs"
   ]
  },
  {
   "cell_type": "markdown",
   "metadata": {},
   "source": [
    "## __Data Loading and Preparation__"
   ]
  },
  {
   "cell_type": "markdown",
   "metadata": {},
   "source": [
    "### __Setting up Device__"
   ]
  },
  {
   "cell_type": "code",
   "execution_count": null,
   "metadata": {},
   "outputs": [],
   "source": [
    "#device = xm.xla_device() #Sets up commmunication between CPU and TPU\n",
    "device = torch.device(\"mps\") if torch.backends.mps.is_available() else torch.device(\"cpu\")"
   ]
  },
  {
   "cell_type": "markdown",
   "metadata": {},
   "source": [
    "### __Setting the Seed__"
   ]
  },
  {
   "cell_type": "code",
   "execution_count": null,
   "metadata": {},
   "outputs": [],
   "source": [
    "seed = 20\n",
    "torch.manual_seed(seed)\n",
    "np.random.seed(seed)"
   ]
  },
  {
   "cell_type": "markdown",
   "metadata": {},
   "source": [
    "### __Defining the Transformations__"
   ]
  },
  {
   "cell_type": "code",
   "execution_count": 1,
   "metadata": {},
   "outputs": [],
   "source": [
    "'''Transformation function object applies transformations in list sequentially (e.g. images into tensors \n",
    "-> normalize). Normalizing/condensing pixels to 0-1 to make model focuses more on relationships instead\n",
    "of brightness levels.'''\n",
    "def transformations(hypers):\n",
    "    #To tensor scales pixel values from 0 to 1, \n",
    "    transform_norm = transforms.Compose([transforms.ToTensor(), transforms.Normalize((0.5,), (0.5,))])\n",
    "\n",
    "    if (hypers.augment == True):\n",
    "        #degrees - max rotation; translation - max horizontal/vert shift, scale - scaling range, shear - up to 10 degrees for both axes\n",
    "        #all these are hypers\n",
    "        partial_aug = transforms.RandomAffine(degrees = hypers.degrees, translate = (hypers.trans_horz, hypers.trans_vert), \n",
    "                                  scale = (hypers.scale_min, hypers.scale_max), shear = (hypers.shear, hypers.shear))\n",
    "        \n",
    "        transform_aug = transforms.Compose([partial_aug, transforms.ColorJitter(brightness = hypers.brightness, contrast = hypers.contrast), \n",
    "                                        transforms.ToTensor(),\n",
    "                                        transforms.Normalize((0.5,), (0.5,))\n",
    "                                        ])\n",
    "        \n",
    "    else:\n",
    "        transform_aug = transform_norm\n",
    "    \n",
    "    return transform_norm, transform_aug"
   ]
  },
  {
   "cell_type": "code",
   "execution_count": null,
   "metadata": {},
   "outputs": [],
   "source": [
    "transform_norm, transform_aug = transformations(hypers)"
   ]
  },
  {
   "cell_type": "markdown",
   "metadata": {},
   "source": [
    "### __Loading the Data__"
   ]
  },
  {
   "cell_type": "code",
   "execution_count": null,
   "metadata": {},
   "outputs": [],
   "source": [
    "'''like list of tuples of (image (tensor), label). First element of tuple is 3d array (channels, width, length) for the image. Grayscale\n",
    "dimension doesn't add new info. Second elemnt of tuple is just an integer for the label. Feature inputs (pixels) commonly denoted\n",
    "x and outputs (labels) as y.'''\n",
    "#Used for approach 1 for augmenting and for creating aug_dataset in approach 2\n",
    "train_dataset = datasets.MNIST(root = '../data', train = True, download = False, transform = None)\n",
    "norm_dataset = datasets.MNIST(root = '../data', train = True, download = False, transform = transform_norm) #used in approach 2\n",
    "\n",
    "test_dataset = datasets.MNIST(root = '../data', train = False, download = False, transform = transform_norm) #Download = true on Colab\n",
    "test_loader = DataLoader(test_dataset, batch_size = 512, shuffle = False, pin_memory=True, num_workers=2) #benchmarks show no workers for evaluation is faster"
   ]
  },
  {
   "cell_type": "markdown",
   "metadata": {},
   "source": [
    "### __Data Augmentation__"
   ]
  },
  {
   "cell_type": "markdown",
   "metadata": {},
   "source": [
    "#### __Methods to Get Proper Proportions of Augmented and Original Data__"
   ]
  },
  {
   "cell_type": "code",
   "execution_count": null,
   "metadata": {},
   "outputs": [],
   "source": [
    "def extract(dataset):\n",
    "    images = []\n",
    "    labels = []\n",
    "    for image, label in dataset:\n",
    "        images.append(image)\n",
    "        labels.append(label) \n",
    "    return images, labels\n",
    "\n",
    "def _calculate_indices(dataset, hypers):\n",
    "    len_train = len(dataset)\n",
    "\n",
    "    num_norm_indices = int(len_train * (1 - hypers.prob_augment))\n",
    "    num_aug_indices = int(len_train * hypers.prob_augment)\n",
    "\n",
    "    all_indices = np.random.permutation(len_train) #random array of numbers 0 to n-1\n",
    "\n",
    "    #part of permutation is indices for norm images, rest is augmented\n",
    "    norm_indices = all_indices[0:num_norm_indices] \n",
    "    aug_indices = all_indices[num_norm_indices:]\n",
    "\n",
    "    return norm_indices, aug_indices\n",
    "\n",
    "def create_dataset_t(dataset, indices, transformation):\n",
    "    subset = Subset(dataset, indices)\n",
    "    images, labels = extract(subset) #MNIST has .data and .labels apparently so extract not necessary\n",
    "    return DataSetT(images, labels, transformation)\n",
    "\n",
    "\n",
    "def norm_aug_loader_one(dataset, hypers):\n",
    "    norm_indices, aug_indices = _calculate_indices(dataset, hypers)\n",
    "\n",
    "    #For norm and aug, create a subset of the data, create Data instance so relevant transformation is applied when DataLoader gets image\n",
    "    norm_dataset = create_dataset_t(dataset, norm_indices, transformation=transform_norm)\n",
    "    aug_dataset = create_dataset_t(dataset, aug_indices, transform_aug)\n",
    "\n",
    "   #Concat determines what dataset contains that index -> recalculates index for that dataset -> delegates __getitem__ call to that Data instance\n",
    "    norm_aug_trainset = ConcatDataset([norm_dataset, aug_dataset])\n",
    "    return DataLoader(norm_aug_trainset, batch_size = hypers.b_size, shuffle=True, pin_memory=True, num_workers=8, prefetch_factor=8, persistent_workers=True)"
   ]
  },
  {
   "cell_type": "markdown",
   "metadata": {},
   "source": [
    "#### __Creating Augmented Data and Altering Class Distribution Based on Confusion Matrix Analysis__"
   ]
  },
  {
   "cell_type": "code",
   "execution_count": null,
   "metadata": {},
   "outputs": [],
   "source": [
    "def distribution(dataset):\n",
    "    freq = {}\n",
    "    for label in range(0, 10):\n",
    "        freq[label] = 0\n",
    "\n",
    "    for image, label in dataset:\n",
    "        freq[label] += 1\n",
    "\n",
    "    #list of tuples\n",
    "    freq_sorted = sorted(freq.items(), key = itemgetter(1), reverse = True)\n",
    "    for number, freq in freq_sorted:\n",
    "        print(f'{number}: {freq}')"
   ]
  },
  {
   "cell_type": "code",
   "execution_count": null,
   "metadata": {},
   "outputs": [
    {
     "name": "stdout",
     "output_type": "stream",
     "text": [
      "1: 6742\n",
      "7: 6265\n",
      "3: 6131\n",
      "2: 5958\n",
      "9: 5949\n",
      "0: 5923\n",
      "6: 5918\n",
      "8: 5851\n",
      "4: 5842\n",
      "5: 5421\n"
     ]
    }
   ],
   "source": [
    "distribution(train_dataset)"
   ]
  },
  {
   "cell_type": "code",
   "execution_count": null,
   "metadata": {},
   "outputs": [],
   "source": [
    "def digit_indices(dataset, digit):\n",
    "    indices = []\n",
    "    for index, (image, label) in enumerate(dataset):\n",
    "        if label == digit:\n",
    "            indices.append(index)\n",
    "    return indices\n",
    "\n",
    "#will never have repeated samples since augmented transformation always different\n",
    "def replace_victim_with_incoming_aug(replacements, transformation = transform_aug):\n",
    "    images, labels = extract(train_dataset) #will be augmented, replace some samples from these lists\n",
    "\n",
    "    for (victim, incoming, num_replacements) in replacements:\n",
    "        incoming_indices = digit_indices(dataset = train_dataset, digit = incoming) \n",
    "        incoming_data = Subset(train_dataset, incoming_indices) #set of image, label of the incoming number (number you want to insert more of)\n",
    "\n",
    "        victim_indices = digit_indices(dataset = train_dataset, digit = victim)\n",
    "        victim_indices = np.random.choice(victim_indices, num_replacements, replace = False) #choose num_replacement victim indices to replace with incoming_data\n",
    "\n",
    "        place = 0\n",
    "        for index in victim_indices: #replace these images and labels\n",
    "            images[index], labels[index] = incoming_data[place]\n",
    "            place += 1\n",
    "    \n",
    "    return DataSetT(images, labels, transform=transformation)"
   ]
  },
  {
   "cell_type": "code",
   "execution_count": null,
   "metadata": {},
   "outputs": [
    {
     "name": "stdout",
     "output_type": "stream",
     "text": [
      "7: 6627\n",
      "2: 6358\n",
      "9: 6227\n",
      "3: 6131\n",
      "6: 6118\n",
      "8: 5851\n",
      "4: 5842\n",
      "0: 5723\n",
      "1: 5702\n",
      "5: 5421\n"
     ]
    }
   ],
   "source": [
    "REPLACE_LIST = [(1, 7, 400), (0, 6, 200), (1, 9, 300), (1, 2, 400)]\n",
    "\n",
    "aug_dataset = replace_victim_with_incoming_aug(REPLACE_LIST)\n",
    "distribution(aug_dataset)"
   ]
  },
  {
   "cell_type": "markdown",
   "metadata": {},
   "source": [
    "#### __Visualizing the Augmentation__"
   ]
  },
  {
   "cell_type": "code",
   "execution_count": null,
   "metadata": {},
   "outputs": [],
   "source": [
    "def side_by_side_plot(image1, image2, title1, title2):\n",
    "    plt.subplot(1, 2, 1)\n",
    "    plt.imshow(image1, cmap=\"grey\")\n",
    "    plt.title(f'{title1}')\n",
    "    plt.axis(\"off\")\n",
    "\n",
    "    plt.subplot(1,2,2)\n",
    "    plt.title(f'{title2}')\n",
    "    plt.imshow(image2, cmap = \"grey\")\n",
    "    plt.axis(\"off\")\n",
    "\n",
    "    plt.show()\n",
    "\n",
    "def get_image(dataset, index):\n",
    "    image, __ = dataset[index]\n",
    "    return image.squeeze(0) #remove singleton batch_size dimension (provides no new info); now 2D (28x28) array"
   ]
  },
  {
   "cell_type": "code",
   "execution_count": null,
   "metadata": {},
   "outputs": [
    {
     "data": {
      "image/png": "[encoded data removed]",
      "text/plain": [
       "<Figure size 640x480 with 2 Axes>"
      ]
     },
     "metadata": {},
     "output_type": "display_data"
    }
   ],
   "source": [
    "num_to_view = 3 #Can change\n",
    "\n",
    "for index, (image, label) in enumerate(train_dataset):\n",
    "    if (label == num_to_view):\n",
    "        break\n",
    "\n",
    "norm_image = get_image(norm_dataset, index)\n",
    "aug_image = get_image(aug_dataset, index)\n",
    "\n",
    "side_by_side_plot(norm_image, aug_image, \"Original\", \"Augmented\")"
   ]
  },
  {
   "cell_type": "markdown",
   "metadata": {},
   "source": [
    "## __Model Evaluation and Selection__"
   ]
  },
  {
   "cell_type": "markdown",
   "metadata": {},
   "source": [
    "### __Visualizing Loss and Validation Accuracy Convergence__"
   ]
  },
  {
   "cell_type": "code",
   "execution_count": null,
   "metadata": {},
   "outputs": [],
   "source": [
    "def plot_info(epoch, losses, vals = None):\n",
    "    epochs = list(range(1, epoch + 2))\n",
    "    plt.figure(figsize=(6, 3))\n",
    "\n",
    "    plt.plot(epochs, losses)\n",
    "    if vals:\n",
    "        plt.plot(epochs, vals)\n",
    "        plt.legend(['Average Loss', 'Validation Accuracy'])\n",
    "\n",
    "        #return highest validation accuracy and the epoch it was in (index + 1)\n",
    "        max_val_acc = max(vals)\n",
    "        max_val_epoch = vals.index(max_val_acc) + 1 \n",
    "        \n",
    "        # Annotate the maximum validation accuracy on the plot\n",
    "        plt.annotate(f'Max at Epoch {max_val_epoch}: {max_val_acc:.2f}', \n",
    "                     xy=(max_val_epoch, max_val_acc), \n",
    "                     xytext=(max_val_epoch, max_val_acc + 0.05),\n",
    "                     arrowprops={'facecolor': 'black', 'shrink': 0.20})\n",
    "    else:\n",
    "        plt.legend(['Average Loss'])\n",
    "    plt.show()"
   ]
  },
  {
   "cell_type": "markdown",
   "metadata": {},
   "source": [
    "### __Training and Evaluation Methods__"
   ]
  },
  {
   "cell_type": "code",
   "execution_count": null,
   "metadata": {},
   "outputs": [],
   "source": [
    "def evaluate(model, loader):\n",
    "    model.eval()\n",
    "\n",
    "    #Counters\n",
    "    correct = 0\n",
    "    total = 0\n",
    "\n",
    "    #empty tensor of datatype long\n",
    "    all_predicted = torch.tensor([], dtype=torch.long).to(device)\n",
    "\n",
    "\n",
    "    '''with - gradient descent will be tracked outside of with block. Not tracking ->\n",
    "    doesn't store unnecessary numbers (eg. intermediate activations) for calculating gradient; \n",
    "    Saves memory and its faster'''\n",
    "    with torch.no_grad():\n",
    "        for images, labels in loader:\n",
    "            images, labels = images.to(device, non_blocking = True), labels.to(device, non_blocking = True) \n",
    "\n",
    "            outputs = model(images) #self.forward(images), uses __call__\n",
    "            '''Return two tensors in tuple for max values (brightest neurons) and their indices per training \n",
    "            example in mini batch. Convention to store unimportant stuff in _. 1 as parameter input means \n",
    "            find max along dimension 1. Outputs = (batch_size, num_classes). Max outputs the max output neuron\n",
    "            and index (number) per batch.\n",
    "            '''\n",
    "            _, predicted = torch.max(outputs, 1) #tensor\n",
    "\n",
    "            #add this tensor for predicted numbers to the list; cat concatenates two tensors\n",
    "            all_predicted = torch.cat((all_predicted, predicted), dim = 0) \n",
    "\n",
    "            #Update Counters\n",
    "            total += labels.size(0) #size of first dimension (each minibatch)\n",
    "\n",
    "            #Compare each tensor, which returns new tensor with each component being True or False\n",
    "            #Sum amount of True in the tensor\n",
    "            correct += (predicted == labels).sum().item()\n",
    "\n",
    "    accuracy = (correct/total) * 100\n",
    "    torch.mps.synchronize() if device == torch.device('mps') else None\n",
    "    \n",
    "    return accuracy, all_predicted"
   ]
  },
  {
   "cell_type": "code",
   "execution_count": null,
   "metadata": {},
   "outputs": [],
   "source": [
    "def train_model(model, train_loader, optimizer, loss_f, num_epochs, val_loader = None, visualize = False):\n",
    "    model.train() #prevents weird stuff (e.g. optimizer being weird)\n",
    "    average_losses = []\n",
    "    val_accuracies = []\n",
    "    \n",
    "    for epoch in range(num_epochs):\n",
    "        tot_epoch_loss = 0\n",
    "        processed_batches = 0\n",
    "\n",
    "        for images, labels in train_loader: \n",
    "            '''__getitem__ of dataset is called to transform each element; increasing numworkers decreases time of transformed images, labels being assigned in first line.'''\n",
    "            images, labels = images.to(device, non_blocking = True), labels.to(device, non_blocking = True) \n",
    "\n",
    "            '''Each parameter has its own tensor with its partial derivative in .grad attribute of tensor; step() accesses these. Zero grad ensures recalculation of partials in backprop.'''\n",
    "            optimizer.zero_grad()\n",
    "\n",
    "            outputs = model(images) #passes this to forward\n",
    "\n",
    "            target = F.one_hot(labels, num_classes=10).float() \n",
    "\n",
    "            loss = loss_f(outputs, target) #tensor with scalar and computation graph\n",
    "            loss.backward() #backward propogation to compute gradient\n",
    "\n",
    "            optimizer.step() #updates model parameters (takes \"step\")\n",
    "            \n",
    "            tot_epoch_loss += loss.item()\n",
    "            processed_batches +=1\n",
    "\n",
    "            #Colab\n",
    "            #xm.optimizer_step(optimizer) #ensures gradient calculated first\n",
    "            #xm.mark_step()\n",
    "\n",
    "        avg_loss = tot_epoch_loss/processed_batches\n",
    "        average_losses.append(avg_loss)\n",
    "\n",
    "        torch.mps.synchronize() if device == torch.device('mps') else None\n",
    "        \n",
    "        #Append validation accuracy values for k-folds plot\n",
    "        if visualize and val_loader:\n",
    "                val_accuracy, __ = evaluate(model, val_loader)\n",
    "                val_accuracies.append(val_accuracy)\n",
    "\n",
    "        #Printing format for k-folds and regular training\n",
    "        if (epoch == 0 or epoch == num_epochs - 1):\n",
    "            if val_loader: \n",
    "                train_accuracy, __ = evaluate(model, train_loader)\n",
    "                val_accuracy, __ = evaluate(model, val_loader)\n",
    "                print(f'Epoch {epoch + 1} -- Average Loss:{avg_loss: .4f}, Training Accuracy:{train_accuracy : .2f}%, Validation Accuracy:{val_accuracy : .2f}%')\n",
    "            else:\n",
    "                print(f'Epoch {epoch + 1} -- Average Loss:{avg_loss: .4f}')\n",
    "    print(\"\")\n",
    "    \n",
    "    if visualize: \n",
    "        plot_info(epoch, average_losses, val_accuracies if val_loader else None)\n",
    "    return val_accuracy if val_loader else None #last val accuracy"
   ]
  },
  {
   "cell_type": "markdown",
   "metadata": {},
   "source": [
    "### __Altering Hyperparameters for Grid Search__"
   ]
  },
  {
   "cell_type": "code",
   "execution_count": null,
   "metadata": {},
   "outputs": [],
   "source": [
    "def alter_hyper(hypers, hypercombo):\n",
    "    hypers.l_rate = hypercombo['l_rate']\n",
    "    hypers.b_size = hypercombo['b_size']\n",
    "    hypers.epochs = hypercombo['epochs']\n",
    "    hypers.drop_rate = hypercombo['drop_rate']\n",
    "    hypers.hidden_one = hypercombo['hidden_one']\n",
    "    hypers.hidden_two = hypercombo['hidden_two']\n",
    "    hypers.n_slope = hypercombo['n_slope']\n",
    "    hypers.augment = hypercombo['augment']\n",
    "    hypers.prob_augment = hypercombo['prob_augment']\n",
    "    hypers.beta_one = hypercombo['beta_one']\n",
    "    hypers.beta_two = hypercombo['beta_two']\n",
    "    hypers.beta_two = hypercombo['beta_two']\n",
    "    hypers.degrees = hypercombo['degrees']\n",
    "    hypers.trans_horz = hypercombo['trans_horz']\n",
    "    hypers.trans_vert = hypercombo['trans_vert']\n",
    "    hypers.scale_min = hypercombo['scale_min']\n",
    "    hypers.scale_max = hypercombo['scale_max']\n",
    "    hypers.shear = hypercombo['shear']\n",
    "    hypers.brightness = hypercombo['brightness']\n",
    "    hypers.contrast = hypercombo['contrast']"
   ]
  },
  {
   "cell_type": "markdown",
   "metadata": {},
   "source": [
    "### __K-folds Cross Validation - Approach 1 (Splitting Training)__"
   ]
  },
  {
   "cell_type": "markdown",
   "metadata": {},
   "source": [
    "#### __Approach 1 - Directly Splitting Training Subset into Augmented and Normal__"
   ]
  },
  {
   "cell_type": "code",
   "execution_count": null,
   "metadata": {},
   "outputs": [],
   "source": [
    "FOLDS = 10"
   ]
  },
  {
   "cell_type": "code",
   "execution_count": null,
   "metadata": {},
   "outputs": [],
   "source": [
    "def scripted_or_not(model, hypers):\n",
    "    if hypers.drop_rate == 0:\n",
    "       scripted_model = jit.script(model)\n",
    "       return scripted_model.to(device)\n",
    "    else:\n",
    "        return model"
   ]
  },
  {
   "cell_type": "code",
   "execution_count": null,
   "metadata": {},
   "outputs": [],
   "source": [
    "#already ensure validation only used once per sample\n",
    "def k_folds(train_dataset, hypers, visualize = False):\n",
    "\n",
    "    kf = KFold(n_splits = FOLDS, shuffle = True, random_state = 20)\n",
    "    validation_accuracies = []\n",
    "\n",
    "    cross_entropy = nn.CrossEntropyLoss()\n",
    "\n",
    "    for fold, (train_indices, val_indices) in enumerate(kf.split(train_dataset)):\n",
    "        print(f'Fold {fold + 1}')\n",
    "\n",
    "        #My actual validation\n",
    "        val_transformed = create_dataset_t(train_dataset, val_indices, transform_norm)\n",
    "        val_loader = DataLoader(val_transformed, batch_size = 512, shuffle=False, pin_memory=True, num_workers=2)\n",
    "\n",
    "        train_subset = Subset(train_dataset, train_indices)\n",
    "        train_loader = norm_aug_loader_one(train_subset, hypers)\n",
    "        \n",
    "        model = MLP(hypers).to(device) #ensures parameters reset and each fold is independent\n",
    "        actual_model = scripted_or_not(model, hypers)\n",
    "        adam = optim.Adam(actual_model.parameters(), lr = hypers.l_rate, betas=(hypers.beta_one, hypers.beta_two), eps=1e-08) #forget info from EWMA\n",
    "        \n",
    "        last_epoch_val_accuracy = train_model(actual_model, train_loader, optimizer = adam, loss_f = cross_entropy, \n",
    "                                              num_epochs = hypers.epochs, val_loader = val_loader, visualize = visualize)\n",
    "\n",
    "        validation_accuracies.append(last_epoch_val_accuracy)\n",
    "\n",
    "    mean_val_accuracy = np.mean(validation_accuracies)\n",
    "    #Use average validation accuracy across all folds to evaluate model\n",
    "    return mean_val_accuracy\n"
   ]
  },
  {
   "cell_type": "code",
   "execution_count": null,
   "metadata": {},
   "outputs": [],
   "source": [
    "mean_val_accuracy = k_folds(train_dataset, hypers, visualize = True)\n",
    "print(f'\\n\\033[1mMean Validation Accuracy Across All Folds: {mean_val_accuracy:.2f}%\\033[0m\\n')"
   ]
  },
  {
   "cell_type": "markdown",
   "metadata": {},
   "source": [
    "#### __Approach 2 - Mapping Some Original Training Indices from Training Subset to Separate Augmented Dataset__"
   ]
  },
  {
   "cell_type": "code",
   "execution_count": null,
   "metadata": {},
   "outputs": [],
   "source": [
    "def _calc_alt_indices(norm_dataset, norm_train_indices, hypers, k_folds):\n",
    "    '''This numberr maximizes amount of data for 70 30 prop; total_dataset_length*prob_normal.7 = len_normal; solve for total example length\n",
    "    . This allows for 60_000 (70%) has normal transformation. Without +1 would be 59999'''\n",
    "    total_training_examples = int((len(norm_dataset)/ (1-hypers.prob_augment)) + 1)\n",
    "\n",
    "    #if k_folds take less data to maintain 70 30 prop\n",
    "    len_val = len(norm_dataset)/FOLDS if k_folds else 0 #amount in validation set with k folds\n",
    "    training_num = (len(norm_dataset) - len_val) if k_folds else total_training_examples\n",
    "\n",
    "    num_norm_train_indices = int(training_num * (1-hypers.prob_augment))\n",
    "    num_aug_train_indices = int(training_num * hypers.prob_augment)\n",
    "\n",
    "    mapped_indices = norm_train_indices + len(norm_dataset) #maps indices to aug\n",
    "    \n",
    "    norm_train_indices = np.random.choice(norm_train_indices, num_norm_train_indices, replace = False) \n",
    "    norm_train_indices = norm_train_indices.reshape(-1) #should be 1D already\n",
    "    aug_train_indices = np.random.choice(mapped_indices, num_aug_train_indices, replace = False)  \n",
    "    \n",
    "    return np.concatenate([norm_train_indices, aug_train_indices])\n",
    "\n",
    "def norm_aug_loader_two(full_train_dataset, norm_dataset, norm_train_indices, hypers, k_folds = False):\n",
    "    full_train_indices = _calc_alt_indices(norm_dataset, norm_train_indices, hypers, k_folds)\n",
    "    train_subset = Subset(full_train_dataset, full_train_indices)\n",
    "\n",
    "    #Shuffles batch order + samples within batches per epoch\n",
    "    if k_folds:\n",
    "        return DataLoader(train_subset, batch_size = hypers.b_size, shuffle=True, pin_memory=True, num_workers=8, prefetch_factor=8, persistent_workers=True)\n",
    "    else:\n",
    "        return DataLoader(train_subset, batch_size = hypers.b_size, shuffle=True, pin_memory=True, num_workers=14, prefetch_factor=4, persistent_workers=True)\n",
    "    "
   ]
  },
  {
   "cell_type": "code",
   "execution_count": null,
   "metadata": {},
   "outputs": [],
   "source": [
    "#random_state like seed; generates train/validation indices per fold\n",
    "def k_folds_two(norm_dataset, hypers, visualize = False):\n",
    "    \n",
    "    kf = KFold(n_splits = FOLDS, shuffle=True, random_state=20)\n",
    "    validation_accuracies = []\n",
    "    \n",
    "    '''by default split only works with indices arrays unless it can use length attribute of dataset, which Pytorch provides.\n",
    "    This works too: norm_dataset.__len__(), dunder methods simplify syntax'''\n",
    "    all_norm_indices = np.arange(len(norm_dataset))\n",
    "\n",
    "    cross_entropy = nn.CrossEntropyLoss()\n",
    "\n",
    "    #Define aug_transformation based on hyperparameters -> create aug_dataset -> create full training dataset\n",
    "    __, transform_aug = transformations(hypers)\n",
    "    aug_dataset = replace_victim_with_incoming_aug(REPLACE_LIST, transformation=transform_aug)\n",
    "        \n",
    "    full_train_dataset = ConcatDataset([norm_dataset, aug_dataset])\n",
    "\n",
    "    for fold, (norm_train_indices, val_indices) in enumerate(kf.split(all_norm_indices)):\n",
    "        print(f'Fold {fold + 1}')\n",
    "\n",
    "        #Create validation and training sets\n",
    "        val_subset = Subset(norm_dataset, val_indices) #Since we put in norm don't need to transform validation\n",
    "        val_loader = DataLoader(val_subset, batch_size=512, shuffle=False, pin_memory=True, num_workers=2)\n",
    "        train_loader = norm_aug_loader_two(full_train_dataset, norm_dataset, norm_train_indices, hypers, k_folds = True)\n",
    "        \n",
    "        #instantiate model and optimizer\n",
    "        model = MLP(hypers).to(device) #ensures parameters reset and each fold is independent\n",
    "        actual_model = scripted_or_not(model, hypers)\n",
    "        \n",
    "        adam = optim.Adam(actual_model.parameters(), lr = hypers.l_rate, betas=(hypers.beta_one, hypers.beta_two), eps=1e-08) #forget info from EWMA\n",
    "        last_epoch_val_accuracy = train_model(actual_model, train_loader, optimizer = adam, loss_f = cross_entropy, \n",
    "                                              num_epochs = hypers.epochs, val_loader = val_loader, visualize=visualize)\n",
    "        \n",
    "        validation_accuracies.append(last_epoch_val_accuracy)\n",
    "\n",
    "    return np.mean(validation_accuracies)\n"
   ]
  },
  {
   "cell_type": "code",
   "execution_count": null,
   "metadata": {},
   "outputs": [],
   "source": [
    "mean_val_accuracy = k_folds_two(norm_dataset, hypers, visualize=True)\n",
    "print(f'\\n\\033[1mMean Validation Accuracy Across All Folds: {mean_val_accuracy:.2f}%\\033[0m\\n')"
   ]
  },
  {
   "cell_type": "markdown",
   "metadata": {},
   "source": [
    "### __Hyperparameter Tuning with Gridsearch__"
   ]
  },
  {
   "cell_type": "code",
   "execution_count": null,
   "metadata": {},
   "outputs": [
    {
     "name": "stdout",
     "output_type": "stream",
     "text": [
      "2\n"
     ]
    }
   ],
   "source": [
    "#All other hyperparameters previously tested\n",
    "#Dictionary for all values I want to test for the gridsearch\n",
    "hyperdict = {\n",
    "    'l_rate': [hypers.l_rate],\n",
    "    'b_size': [hypers.b_size],\n",
    "    'epochs': [hypers.epochs],\n",
    "    'drop_rate': [hypers.drop_rate],\n",
    "    'hidden_one': [hypers.hidden_one],\n",
    "    'hidden_two': [hypers.hidden_two],\n",
    "    'n_slope': [hypers.n_slope],\n",
    "    'augment': [hypers.augment],\n",
    "    'prob_augment': [hypers.prob_augment],\n",
    "    'beta_one': [hypers.beta_one],\n",
    "    'beta_two': [hypers.beta_two],\n",
    "    \"degrees\": [hypers.degrees, 20],\n",
    "    \"trans_horz\": [hypers.trans_horz],\n",
    "    \"trans_vert\": [hypers.trans_vert],\n",
    "    \"scale_min\": [hypers.scale_min],\n",
    "    \"scale_max\": [hypers.scale_max],\n",
    "    \"shear\": [hypers.scale_max],\n",
    "    \"brightness\": [hypers.brightness],\n",
    "    \"contrast\": [hypers.contrast]\n",
    "}\n",
    "\n",
    "print(len(ParameterGrid(hyperdict)))\n",
    "    "
   ]
  },
  {
   "cell_type": "code",
   "execution_count": null,
   "metadata": {},
   "outputs": [],
   "source": [
    "def grid_search(norm_dataset, hypers, hyperdict):\n",
    "    best_hypers = None\n",
    "    best_mean_val_accuracy = 0\n",
    "    orig_hypers = hypers #store original hypers to reset after grid search finishes\n",
    "    \n",
    "    for hypercombo in ParameterGrid(hyperdict): \n",
    "        print(hypercombo)\n",
    "        alter_hyper(hypers, hypercombo)\n",
    "\n",
    "        mean_val_accuracy = k_folds_two(norm_dataset, hypers, hypercombo, grid_search=True)\n",
    "        print(f'\\n\\033[1mMean Validation Accuracy Across All Folds: {mean_val_accuracy:.2f}%\\033[0m\\n')\n",
    "        \n",
    "        if (mean_val_accuracy > best_mean_val_accuracy):\n",
    "            best_mean_val_accuracy = mean_val_accuracy\n",
    "            best_hypers = hypercombo\n",
    "    \n",
    "    hypers = orig_hypers\n",
    "    return best_hypers, best_mean_val_accuracy"
   ]
  },
  {
   "cell_type": "code",
   "execution_count": null,
   "metadata": {},
   "outputs": [],
   "source": [
    "best_hypers, best_mean_val_accuracy = grid_search(norm_dataset, hypers, hyperdict) #full dataset made in kfolds to ensure proper proportions\n",
    "print(f'\\n\\033[1mBest Hyperparameters: {best_hypers}\\nBest Mean Validation Accuracy:{best_mean_val_accuracy: .2f}%\\033[0m')\n",
    "#.45 dropout gives 98.6 validation but lower test accuracy; go with 0 dropout"
   ]
  },
  {
   "cell_type": "markdown",
   "metadata": {},
   "source": [
    "## __Training the Model__ "
   ]
  },
  {
   "cell_type": "markdown",
   "metadata": {},
   "source": [
    "### __Preparing the Data__"
   ]
  },
  {
   "cell_type": "code",
   "execution_count": null,
   "metadata": {},
   "outputs": [],
   "source": [
    "#Approach 1\n",
    "norm_aug_loader_one = norm_aug_loader_one(train_dataset, hypers)"
   ]
  },
  {
   "cell_type": "code",
   "execution_count": null,
   "metadata": {},
   "outputs": [],
   "source": [
    "#Approach 2\n",
    "full_train_dataset = ConcatDataset([norm_dataset, aug_dataset])\n",
    "\n",
    "norm_train_indices = np.arange(len(norm_dataset))\n",
    "norm_aug_loader = norm_aug_loader_two(full_train_dataset, norm_dataset, norm_train_indices, hypers)"
   ]
  },
  {
   "cell_type": "markdown",
   "metadata": {},
   "source": [
    "### __Warming Up the DataLoader__"
   ]
  },
  {
   "cell_type": "code",
   "execution_count": null,
   "metadata": {},
   "outputs": [],
   "source": [
    "def benchmark_warm_loader(loader):\n",
    "    start_time = time.time()\n",
    "    for i, data in enumerate(loader):\n",
    "        if i == 100: \n",
    "            break\n",
    "    print(f\"Time to load and preprocess 100 batches: {time.time() - start_time}\")"
   ]
  },
  {
   "cell_type": "code",
   "execution_count": null,
   "metadata": {},
   "outputs": [
    {
     "name": "stdout",
     "output_type": "stream",
     "text": [
      "Time to load and preprocess 100 batches: 0.3558521270751953\n"
     ]
    }
   ],
   "source": [
    "benchmark_warm_loader(norm_aug_loader) #also initializes the workers"
   ]
  },
  {
   "cell_type": "markdown",
   "metadata": {},
   "source": [
    "### __Benchmarking JIT__"
   ]
  },
  {
   "cell_type": "code",
   "execution_count": null,
   "metadata": {},
   "outputs": [],
   "source": [
    "cross_entropy = nn.CrossEntropyLoss()\n",
    "model = MLP(hypers).to(device)\n",
    "adam = optim.Adam(model.parameters(), lr = hypers.l_rate, betas=(hypers.beta_one, hypers.beta_two), eps=1e-08)\n",
    "\n",
    "\n",
    "start_time = time.time()\n",
    "train_model(model = model, train_loader = norm_aug_loader, optimizer = adam, loss_f = cross_entropy, num_epochs = hypers.epochs)\n",
    "print(f\"Time to train non-scripted model with pinned memory and asynchronous data transfer: {time.time() - start_time}\")"
   ]
  },
  {
   "cell_type": "code",
   "execution_count": null,
   "metadata": {},
   "outputs": [],
   "source": [
    "scripted_model = jit.script(model)\n",
    "scripted_model = scripted_model.to(device)\n",
    "adam = optim.Adam(scripted_model.parameters(), lr = hypers.l_rate, betas=(hypers.beta_one, hypers.beta_two), eps=1e-08)\n",
    "\n",
    "start_time = time.time()\n",
    "train_model(model = scripted_model, train_loader = norm_aug_loader, optimizer = adam, loss_f = cross_entropy, num_epochs = hypers.epochs)\n",
    "print(f\"Time to train scripted model with pinned memory and asynchronous data transfer: {time.time() - start_time}\")"
   ]
  },
  {
   "cell_type": "markdown",
   "metadata": {},
   "source": [
    "### __Finding the Best Model Given the Hyperparameters__"
   ]
  },
  {
   "cell_type": "code",
   "execution_count": null,
   "metadata": {},
   "outputs": [],
   "source": [
    "def train_keep_best_model(hypers, train_loader, test_loader, num_trials):\n",
    "    best_model = None\n",
    "    best_accuracy = 0\n",
    "    cross_entropy = nn.CrossEntropyLoss()\n",
    "\n",
    "    for i in range(0, num_trials):\n",
    "        model = MLP(hypers).to(device)\n",
    "        actual_model = scripted_or_not(model, hypers)\n",
    "        adam = optim.Adam(actual_model.parameters(), hypers.l_rate, betas=(hypers.beta_one, hypers.beta_two), eps=1e-08) \n",
    "        train_model(model = actual_model, train_loader = train_loader, optimizer = adam, loss_f = cross_entropy, num_epochs = hypers.epochs)\n",
    "        \n",
    "        accuracy, __ = evaluate(model, test_loader)\n",
    "        print(f'Test Accuracy:{accuracy: .2f}%\\n')\n",
    "\n",
    "        if accuracy > best_accuracy:\n",
    "            best_accuracy = accuracy\n",
    "            best_model = model\n",
    "    \n",
    "    return best_model, best_accuracy"
   ]
  },
  {
   "cell_type": "code",
   "execution_count": null,
   "metadata": {},
   "outputs": [],
   "source": [
    "model, best_test_acc = train_keep_best_model(hypers, norm_aug_loader, test_loader, 100)\n",
    "print(f'\\n\\033[1mBest Test Accuracy:{best_test_acc: .2f}%\\033[0m')\n",
    "#36 MIN FOR 20 MODELS; 18 with JIT\n",
    "#43 seconds 20 epochs with resetting parameters instead of instantiating"
   ]
  },
  {
   "cell_type": "markdown",
   "metadata": {},
   "source": [
    "## __Saving the Model__"
   ]
  },
  {
   "cell_type": "code",
   "execution_count": null,
   "metadata": {},
   "outputs": [
    {
     "name": "stdout",
     "output_type": "stream",
     "text": [
      "mlp-h1-1024-0.3aug2-altdistrib-98.93.pth\n"
     ]
    }
   ],
   "source": [
    "#most data - approach 1 for splitting aug/normal; least is approach 2 because its among 60000\n",
    "model_name = f'mlp-h1-{hypers.hidden_one}-{hypers.prob_augment}aug2-altdistrib-{best_test_acc:.2f}.pth'\n",
    "print(model_name)"
   ]
  },
  {
   "cell_type": "markdown",
   "metadata": {},
   "source": [
    "### __Local__"
   ]
  },
  {
   "cell_type": "code",
   "execution_count": null,
   "metadata": {},
   "outputs": [],
   "source": [
    "torch.save(model.state_dict(), f'../models/{model_name}')"
   ]
  },
  {
   "cell_type": "markdown",
   "metadata": {},
   "source": [
    "### __Colab__"
   ]
  },
  {
   "cell_type": "code",
   "execution_count": null,
   "metadata": {},
   "outputs": [],
   "source": [
    "#files.download(f'{model_name}.pth')\n",
    "model_downloads_path = os.path.join(os.path.expanduser(\"~\"), \"Downloads\", f'{model_name}.pth')\n",
    "\n",
    "model_destination_path = f'~/Documents/deep-learning-mnist/models/{model_name}.pth'\n",
    "\n",
    "shutil.move(model_downloads_path, model_destination_path)"
   ]
  },
  {
   "cell_type": "markdown",
   "metadata": {},
   "source": [
    "## __Loading the Saved Model__"
   ]
  },
  {
   "cell_type": "code",
   "execution_count": null,
   "metadata": {},
   "outputs": [],
   "source": [
    "def load_model(path_to_dict, hypers):\n",
    "    # Instantiate the model\n",
    "    model = MLP(hypers).to(device)\n",
    "    #Update model's parameters to what it was after training\n",
    "    #model.load_state_dict(torch.load(f'../models/{trained_model}.pth'))\n",
    "    model.load_state_dict(torch.load(path_to_dict, map_location = device))\n",
    "    \n",
    "    '''Sometimes in training some neurons turned off (called dropout) to prevent overfitting, but when testing you want all neurons in model to be used, \n",
    "    so eval fixes this as well as other settings for testing so model acts \"normally\"'''\n",
    "    actual_model = scripted_or_not(model, hypers)\n",
    "    actual_model.eval()\n",
    "\n",
    "    return actual_model"
   ]
  },
  {
   "cell_type": "code",
   "execution_count": null,
   "metadata": {},
   "outputs": [],
   "source": [
    "model = load_model('../models/mlp-73ep-h11024-0.3aug2-altdistrib-99.02.pth', hypers)"
   ]
  },
  {
   "cell_type": "markdown",
   "metadata": {},
   "source": [
    "## __Final Model Testing and Analysis__"
   ]
  },
  {
   "cell_type": "markdown",
   "metadata": {},
   "source": [
    "### __Testing Accuracy__"
   ]
  },
  {
   "cell_type": "code",
   "execution_count": null,
   "metadata": {},
   "outputs": [
    {
     "name": "stdout",
     "output_type": "stream",
     "text": [
      "Train Accuracy: 99.37%\n",
      "Test Accuracy: 99.02%\n"
     ]
    }
   ],
   "source": [
    "'''Random augmentations/computer floating point computation rounding/parallel computations can lead to slight variability in the accuracies'''\n",
    "train_accuracy, __ = evaluate(model, loader = norm_aug_loader)\n",
    "print(f'Train Accuracy:{train_accuracy : .2f}%') \n",
    "\n",
    "test_accuracy, predicted = evaluate(model, loader = test_loader)\n",
    "print(f'Test Accuracy:{test_accuracy : .2f}%')"
   ]
  },
  {
   "cell_type": "markdown",
   "metadata": {},
   "source": [
    "### __Summary Statistics__"
   ]
  },
  {
   "cell_type": "markdown",
   "metadata": {},
   "source": [
    "#### __Recall Per Digit__"
   ]
  },
  {
   "cell_type": "code",
   "execution_count": null,
   "metadata": {},
   "outputs": [
    {
     "name": "stdout",
     "output_type": "stream",
     "text": [
      "Recall for 0: 99.80%\n",
      "Recall for 6: 99.48%\n",
      "Recall for 4: 99.39%\n",
      "Recall for 1: 99.30%\n",
      "Recall for 8: 99.28%\n",
      "Recall for 9: 99.11%\n",
      "Recall for 3: 98.91%\n",
      "Recall for 2: 98.84%\n",
      "Recall for 7: 98.25%\n",
      "Recall for 5: 97.76%\n"
     ]
    }
   ],
   "source": [
    "recalls = {}\n",
    "\n",
    "for i in range(0,10):\n",
    "    one_digit_indices = digit_indices(dataset = test_dataset, digit = i)\n",
    "    one_digit_test_set = Subset(test_dataset, one_digit_indices)\n",
    "    one_digit_loader = DataLoader(one_digit_test_set, batch_size = 512, shuffle = False, pin_memory=True, num_workers = 2)\n",
    "\n",
    "    recall, __ = evaluate(model, loader = one_digit_loader)\n",
    "    recalls[i] = recall\n",
    "\n",
    "sorted_recalls = sorted(recalls.items(), key = itemgetter(1), reverse = True)\n",
    "\n",
    "for digit, recall in sorted_recalls:\n",
    "    print(f'Recall for {digit}:{recall: .2f}%')"
   ]
  },
  {
   "cell_type": "markdown",
   "metadata": {},
   "source": [
    "#### __Classification Report__"
   ]
  },
  {
   "cell_type": "code",
   "execution_count": null,
   "metadata": {},
   "outputs": [],
   "source": [
    "'''Can't append lists otherwise you get nested list structure. Can either append each element to the list in loop or use extend().\n",
    "Numpy array eventually required for creating the confusion matrix. Python lists memory works like ArrayLists while numpy arrays work\n",
    "like normal arrays. Homogenous, contiguous np array means easier to calculate memory address of element so CPU can access stuff much faster \n",
    "for numpy. Unlike numpy, Python doesn't store objects themselves in list (fast) but instead a pointer to support heterogenous list. \n",
    "np array must be on CPU.'''\n",
    "\n",
    "labels = []\n",
    "for image, label in test_dataset:\n",
    "    labels.append(label)\n",
    "\n",
    "np_labels = np.array(labels)\n",
    "np_predicted = predicted.to(\"cpu\").numpy() #np arrays "
   ]
  },
  {
   "cell_type": "code",
   "execution_count": null,
   "metadata": {},
   "outputs": [
    {
     "name": "stdout",
     "output_type": "stream",
     "text": [
      "Precision: 0.9902, Recall: 0.9902, F1 Score: 0.9902\n"
     ]
    }
   ],
   "source": [
    "'''Numbers often misclassified as 5 probably because there are less 5s in the dataset.'''\n",
    "class_precisions = precision_score(np_labels, np_predicted, average='weighted')\n",
    "class_recalls = recall_score(np_labels, np_predicted, average='weighted')\n",
    "class_f1_scores = f1_score(np_labels, np_predicted, average='weighted')\n",
    "\n",
    "print(f\"Precision:{class_precisions: .4f}, Recall:{class_recalls: .4f}, F1 Score:{class_f1_scores: .4f}\")"
   ]
  },
  {
   "cell_type": "code",
   "execution_count": null,
   "metadata": {},
   "outputs": [
    {
     "name": "stdout",
     "output_type": "stream",
     "text": [
      "              precision    recall  f1-score   support\n",
      "\n",
      "           0       0.99      1.00      0.99       980\n",
      "           1       1.00      0.99      1.00      1135\n",
      "           2       0.98      0.99      0.99      1032\n",
      "           3       0.99      0.99      0.99      1010\n",
      "           4       0.99      0.99      0.99       982\n",
      "           5       1.00      0.98      0.99       892\n",
      "           6       0.98      0.99      0.99       958\n",
      "           7       0.99      0.98      0.99      1028\n",
      "           8       0.99      0.99      0.99       974\n",
      "           9       0.99      0.99      0.99      1009\n",
      "\n",
      "    accuracy                           0.99     10000\n",
      "   macro avg       0.99      0.99      0.99     10000\n",
      "weighted avg       0.99      0.99      0.99     10000\n",
      "\n"
     ]
    }
   ],
   "source": [
    "report = classification_report(np_labels, np_predicted)\n",
    "print(report)"
   ]
  },
  {
   "cell_type": "markdown",
   "metadata": {},
   "source": [
    "### __Confusion Matrix__"
   ]
  },
  {
   "cell_type": "code",
   "execution_count": null,
   "metadata": {},
   "outputs": [
    {
     "data": {
      "image/png": "[encoded data removed]",
      "text/plain": [
       "<Figure size 640x480 with 2 Axes>"
      ]
     },
     "metadata": {},
     "output_type": "display_data"
    }
   ],
   "source": [
    "cm = confusion_matrix(np_labels, np_predicted)\n",
    "\n",
    "#matplotlib object\n",
    "disp = ConfusionMatrixDisplay(confusion_matrix=cm, display_labels=[i for i in range(0,10)])\n",
    "\n",
    "disp.plot(cmap='Blues')\n",
    "plt.title('Confusion Matrix')\n",
    "plt.show()"
   ]
  },
  {
   "cell_type": "markdown",
   "metadata": {},
   "source": [
    "## __Inference on a New Image__"
   ]
  },
  {
   "cell_type": "markdown",
   "metadata": {},
   "source": [
    "### __Pixelation and Preprocessing__"
   ]
  },
  {
   "cell_type": "code",
   "execution_count": null,
   "metadata": {},
   "outputs": [],
   "source": [
    "def pixelate_image(image, pixelation_level):\n",
    "    \n",
    "    '''/ is floor division. Tuples have indices. Resize is changing # of pixels after knowing new \n",
    "    size of image, what makes it appear pixelated is then enlarging image so the few pixels are larger.\n",
    "    Bilinear interpoloation is to get value of each pixel, look at weighted (based on distance) average of \n",
    "    4 nearest pixels of where it would go to determine new value. Then split those big pixels up again \n",
    "    so the size is same as original but looks more pixelated.'''\n",
    "\n",
    "    #open and greyscale image (compress to 1 channel)\n",
    "    new_size = (image.size[0] // pixelation_level, image.size[1] // pixelation_level)\n",
    "    pixelated = image.resize(new_size,resample=Image.BILINEAR)\n",
    "\n",
    "    pixelated = pixelated.resize((28, 28))\n",
    "    \n",
    "    return pixelated\n",
    "\n",
    "#Preprocess using functions of the Image class\n",
    "def pixelate_preprocess(image, pixelation_level):\n",
    "    image = pixelate_image(image, pixelation_level)\n",
    "    image = transform_norm(image)  #images -> pixel values-> normalize\n",
    "    image = image.unsqueeze(0)  #Add singleton dimension (batch_size) to image; not used, but specific shape necessary for model\n",
    "    return image"
   ]
  },
  {
   "cell_type": "code",
   "execution_count": null,
   "metadata": {},
   "outputs": [],
   "source": [
    "def preprocess(image):\n",
    "    image = image.resize((28, 28))\n",
    "    image = transform_norm(image) \n",
    "    image = image.unsqueeze(0)\n",
    "    return image"
   ]
  },
  {
   "cell_type": "markdown",
   "metadata": {},
   "source": [
    "### __Visualizing the Pixelated Image__"
   ]
  },
  {
   "cell_type": "code",
   "execution_count": null,
   "metadata": {},
   "outputs": [],
   "source": [
    "image_path = '../data/test-images/9-4.png'\n",
    "image = Image.open(image_path).convert('L')\n",
    "\n",
    "pixelation_level = 1\n",
    "pixelated_image = pixelate_image(image, pixelation_level)"
   ]
  },
  {
   "cell_type": "code",
   "execution_count": null,
   "metadata": {},
   "outputs": [
    {
     "data": {
      "image/png": "[encoded data removed]",
      "text/plain": [
       "<Figure size 640x480 with 2 Axes>"
      ]
     },
     "metadata": {},
     "output_type": "display_data"
    }
   ],
   "source": [
    "side_by_side_plot(image, pixelated_image, \"Original\", \"Pixelated\")"
   ]
  },
  {
   "cell_type": "code",
   "execution_count": null,
   "metadata": {},
   "outputs": [],
   "source": [
    "def classify_image(image):\n",
    "    #image_transformed = pixelate_preprocess(image_path, pixelation_level).to(device)\n",
    "    image_transformed = preprocess(image).to(device)\n",
    "\n",
    "    with torch.no_grad():\n",
    "        outputs = model(image_transformed)\n",
    "        _, prediction = torch.max(outputs, dim = 1)\n",
    "\n",
    "        probabilities = F.softmax(outputs, dim = 1) #probabilities[i] that contains softmax for outputs of i+1 image \n",
    "\n",
    "    #[(number, probability tensor)...]; enumerate packs into tuple with counter\n",
    "    prob_classes = list(enumerate(probabilities[0])) \n",
    "\n",
    "    #to sort by max, extract probability with itemgetter\n",
    "    prob_classes.sort(key = itemgetter(1), reverse = True)\n",
    "\n",
    "    return prob_classes, prediction"
   ]
  },
  {
   "cell_type": "code",
   "execution_count": null,
   "metadata": {},
   "outputs": [
    {
     "name": "stdout",
     "output_type": "stream",
     "text": [
      "Probability of 9: 72.717%\n",
      "Probability of 7: 23.322%\n",
      "Probability of 3: 3.504%\n",
      "Probability of 8: 0.303%\n",
      "Probability of 2: 0.127%\n",
      "Probability of 4: 0.014%\n",
      "Probability of 5: 0.013%\n",
      "Probability of 1: 0.000%\n",
      "Probability of 0: 0.000%\n",
      "Probability of 6: 0.000%\n",
      "\n",
      "Predicted Number: 9\n"
     ]
    }
   ],
   "source": [
    "prob_classes, prediction = classify_image(image)\n",
    "\n",
    "for num, probability in prob_classes:\n",
    "    print(f'Probability of {num}:{probability.item() * 100: .3f}%')\n",
    "\n",
    "print(f'\\nPredicted Number: {prediction.item()}')"
   ]
  }
 ],
 "metadata": {
  "kernelspec": {
   "display_name": "Python 3",
   "language": "python",
   "name": "python3"
  },
  "language_info": {
   "codemirror_mode": {
    "name": "ipython",
    "version": 3
   },
   "file_extension": ".py",
   "mimetype": "text/x-python",
   "name": "python",
   "nbconvert_exporter": "python",
   "pygments_lexer": "ipython3",
   "version": "3.10.14"
  }
 },
 "nbformat": 4,
 "nbformat_minor": 2
}
