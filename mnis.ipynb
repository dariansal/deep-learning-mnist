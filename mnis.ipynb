{
 "cells": [
  {
   "cell_type": "code",
   "execution_count": 27,
   "metadata": {},
   "outputs": [],
   "source": [
    "import numpy as np\n",
    "import torch\n",
    "import torch.nn as nn #provides classes/modules for making neural networks\n",
    "import torch.nn.functional as F #a module with common nn functions (operations on tensors/high dim matrices; activations)\n",
    "import torch.optim as optim #contains SGD (Stochastic gradient descent)\n",
    "from torchvision import datasets, transforms #includes MNIST\n",
    "from torch.utils.data import DataLoader #allows shuffling and minbatches"
   ]
  },
  {
   "cell_type": "code",
   "execution_count": 30,
   "metadata": {},
   "outputs": [
    {
     "ename": "NameError",
     "evalue": "name 'Linear' is not defined",
     "output_type": "error",
     "traceback": [
      "\u001b[0;31m---------------------------------------------------------------------------\u001b[0m",
      "\u001b[0;31mNameError\u001b[0m                                 Traceback (most recent call last)",
      "Cell \u001b[0;32mIn[30], line 4\u001b[0m\n\u001b[1;32m      1\u001b[0m \u001b[38;5;66;03m#Create a NN class that encapsulates all components of NN, instantiate later\u001b[39;00m\n\u001b[1;32m      2\u001b[0m \u001b[38;5;66;03m# with __call__ object name can be treated as function that calls certain function in class (predefine)\u001b[39;00m\n\u001b[1;32m      3\u001b[0m \u001b[38;5;66;03m#inherits from nn.Module class; many classes for different layers\u001b[39;00m\n\u001b[0;32m----> 4\u001b[0m \u001b[38;5;28;01mclass\u001b[39;00m \u001b[38;5;21;01mSimpleNN\u001b[39;00m(nn\u001b[38;5;241m.\u001b[39mModule): \n\u001b[1;32m      5\u001b[0m     \u001b[38;5;28;01mdef\u001b[39;00m \u001b[38;5;21m__init__\u001b[39m(\u001b[38;5;28mself\u001b[39m):\n\u001b[1;32m      6\u001b[0m         \u001b[38;5;28msuper\u001b[39m(SimpleNN, \u001b[38;5;28mself\u001b[39m)\u001b[38;5;241m.\u001b[39m\u001b[38;5;21m__init__\u001b[39m() \u001b[38;5;66;03m#explicitly call parent class constructor to initialize stuff\u001b[39;00m\n",
      "Cell \u001b[0;32mIn[30], line 21\u001b[0m, in \u001b[0;36mSimpleNN\u001b[0;34m()\u001b[0m\n\u001b[1;32m     18\u001b[0m     \u001b[38;5;28;01mreturn\u001b[39;00m pixels\n\u001b[1;32m     20\u001b[0m \u001b[38;5;66;03m#Instantiate model\u001b[39;00m\n\u001b[0;32m---> 21\u001b[0m model \u001b[38;5;241m=\u001b[39m \u001b[43mSimpleNN\u001b[49m\u001b[43m(\u001b[49m\u001b[43m)\u001b[49m\n\u001b[1;32m     23\u001b[0m \u001b[38;5;66;03m#Loss function\u001b[39;00m\n\u001b[1;32m     24\u001b[0m loss \u001b[38;5;241m=\u001b[39m nn\u001b[38;5;241m.\u001b[39mMSELoss() \u001b[38;5;66;03m#making instance of this class to use the functions in it\u001b[39;00m\n",
      "Cell \u001b[0;32mIn[18], line 7\u001b[0m, in \u001b[0;36mSimpleNN.__init__\u001b[0;34m(self)\u001b[0m\n\u001b[1;32m      5\u001b[0m \u001b[38;5;28msuper\u001b[39m(SimpleNN, \u001b[38;5;28mself\u001b[39m)\u001b[38;5;241m.\u001b[39m\u001b[38;5;21m__init__\u001b[39m() \u001b[38;5;66;03m#explicitly call parent class constructor to initialize stuff\u001b[39;00m\n\u001b[1;32m      6\u001b[0m                             \u001b[38;5;66;03m#parent technically initialized too and tied to child but you only access child\u001b[39;00m\n\u001b[0;32m----> 7\u001b[0m \u001b[38;5;28mself\u001b[39m\u001b[38;5;241m.\u001b[39mfc1 \u001b[38;5;241m=\u001b[39m \u001b[43mLinear\u001b[49m(\u001b[38;5;241m28\u001b[39m\u001b[38;5;241m*\u001b[39m\u001b[38;5;241m*\u001b[39m\u001b[38;5;241m2\u001b[39m, \u001b[38;5;241m16\u001b[39m) \u001b[38;5;66;03m#first fully connected layer has 784 input neurons (performs matrix mult to calculate z)\u001b[39;00m\n\u001b[1;32m      8\u001b[0m                          \u001b[38;5;66;03m#next layer has 16 neurons\u001b[39;00m\n\u001b[1;32m      9\u001b[0m \u001b[38;5;28mself\u001b[39m\u001b[38;5;241m.\u001b[39mfc2 \u001b[38;5;241m=\u001b[39m Linear(\u001b[38;5;241m16\u001b[39m, \u001b[38;5;241m16\u001b[39m)\n",
      "\u001b[0;31mNameError\u001b[0m: name 'Linear' is not defined"
     ]
    }
   ],
   "source": [
    "#Create a NN class that encapsulates all components of NN, instantiate later\n",
    "# with __call__ object name can be treated as function that calls certain function in class (predefine)\n",
    "#inherits from nn.Module class; many classes for different layers\n",
    "class SimpleNN(nn.Module): \n",
    "    def __init__(self):\n",
    "        super(SimpleNN, self).__init__() #explicitly call parent class constructor to initialize stuff\n",
    "                                    #parent technically initialized too and tied to child but you only access child\n",
    "        self.fc1 = Linear(28**2, 16) #first fully connected layer has 784 input neurons (performs matrix mult to calculate z)\n",
    "                                 #next layer has 16 neurons\n",
    "        self.fc2 = Linear(16, 16)\n",
    "        self.fc3 = Linear(16, 10)\n",
    "    \n",
    "    def forward(self, pixels):\n",
    "        pixels = pixels.view(-1, 28**2) #dimension of input vector\n",
    "        pixels = torch.sigmoid(self.fc1(pixels)) #this includes all z stuff and matrix mult\n",
    "        pixels = torch.sigmoid(self.fc2(pixels))\n",
    "        pixels = torch.sigmoid(self.fc3(pixels))\n",
    "        return pixels\n",
    "    \n",
    "    #Instantiate model\n",
    "    model = SimpleNN()\n",
    "\n",
    "    #Loss function\n",
    "    loss = nn.MSELoss() #making instance of this class to use the functions in it\n",
    "\n",
    "    #Other optimizers than SGD like Adam, takes momentum into account for adaptive learning rate\n",
    "    optimizer = optim.Adam(model.parameters(), lr = 0.001)\n",
    "\n",
    "    #Load MNIST\n",
    "    #defines transformation to turn images into tensors then normalize them\n",
    "    #normalize transforms the pixel values more condensed/similar so training is faster\n",
    "    transform = transforms.Compose([transforms.ToTensor(), transforms.Normalize((0.5), 0.5)])\n",
    "\n",
    "    #transforms and downloads data\n",
    "    train_dataset = datasets.MNIST(root = './data', train = True, download = True, transform = transform)\n",
    "\n",
    "    #creates iterator that provides batches of data during training\n",
    "    train_loader = DataLoader(train_dataset, batch_size = 64, shuffle = True)\n",
    "\n",
    "    test_dataset = datasets.MNIST(root = './data', train = False, download = True, transform = transform)\n",
    "    test_loader = DataLoader(test_dataset, batch_size = 64, shuffle = False)"
   ]
  },
  {
   "cell_type": "code",
   "execution_count": null,
   "metadata": {},
   "outputs": [],
   "source": [
    "#Traning\n",
    "num_epochs = 5\n",
    "for epoch in range(num_epochs):\n",
    "    for images, labels"
   ]
  },
  {
   "cell_type": "code",
   "execution_count": 23,
   "metadata": {},
   "outputs": [
    {
     "name": "stdout",
     "output_type": "stream",
     "text": [
      "4\n",
      "5\n",
      "6\n",
      "7\n"
     ]
    }
   ],
   "source": []
  },
  {
   "cell_type": "code",
   "execution_count": null,
   "metadata": {},
   "outputs": [],
   "source": []
  }
 ],
 "metadata": {
  "kernelspec": {
   "display_name": "Python 3",
   "language": "python",
   "name": "python3"
  },
  "language_info": {
   "codemirror_mode": {
    "name": "ipython",
    "version": 3
   },
   "file_extension": ".py",
   "mimetype": "text/x-python",
   "name": "python",
   "nbconvert_exporter": "python",
   "pygments_lexer": "ipython3",
   "version": "3.10.12"
  }
 },
 "nbformat": 4,
 "nbformat_minor": 2
}
