{
 "cells": [
  {
   "cell_type": "markdown",
   "metadata": {},
   "source": []
  },
  {
   "cell_type": "markdown",
   "metadata": {},
   "source": [
    "<center><h3><b><u> Multilayer Perceptron with MNIST Dataset</u></b></h1></center>"
   ]
  },
  {
   "cell_type": "markdown",
   "metadata": {},
   "source": [
    "#### __Importing Libraries, Classes, and Functions__"
   ]
  },
  {
   "cell_type": "code",
   "execution_count": 143,
   "metadata": {},
   "outputs": [
    {
     "ename": "ModuleNotFoundError",
     "evalue": "No module named 'google.colab'",
     "output_type": "error",
     "traceback": [
      "\u001b[0;31m---------------------------------------------------------------------------\u001b[0m",
      "\u001b[0;31mModuleNotFoundError\u001b[0m                       Traceback (most recent call last)",
      "Cell \u001b[0;32mIn[143], line 11\u001b[0m\n\u001b[1;32m      9\u001b[0m \u001b[38;5;28;01mfrom\u001b[39;00m \u001b[38;5;21;01mPIL\u001b[39;00m \u001b[38;5;28;01mimport\u001b[39;00m Image\n\u001b[1;32m     10\u001b[0m \u001b[38;5;28;01mimport\u001b[39;00m \u001b[38;5;21;01mmatplotlib\u001b[39;00m\u001b[38;5;21;01m.\u001b[39;00m\u001b[38;5;21;01mpyplot\u001b[39;00m \u001b[38;5;28;01mas\u001b[39;00m \u001b[38;5;21;01mplt\u001b[39;00m\n\u001b[0;32m---> 11\u001b[0m \u001b[38;5;28;01mfrom\u001b[39;00m \u001b[38;5;21;01mgoogle\u001b[39;00m\u001b[38;5;21;01m.\u001b[39;00m\u001b[38;5;21;01mcolab\u001b[39;00m \u001b[38;5;28;01mimport\u001b[39;00m files\n\u001b[1;32m     12\u001b[0m \u001b[38;5;28;01mimport\u001b[39;00m \u001b[38;5;21;01mos\u001b[39;00m\n",
      "\u001b[0;31mModuleNotFoundError\u001b[0m: No module named 'google.colab'"
     ]
    }
   ],
   "source": [
    "import operator #itemgetter\n",
    "import torch\n",
    "import torch.nn as nn #provides classes/modules for making neural networks\n",
    "from torch.nn import Linear\n",
    "import torch.nn.functional as F #a module with common nn functions (operations on tensors/high dim matrices; activations)\n",
    "import torch.optim as optim #contains optimization algorithms like SGD\n",
    "from torchvision import datasets, transforms #includes MNIST, transform images -> tensors\n",
    "from torch.utils.data import DataLoader, TensorDataset, Subset, random_split #allows shuffling and minbatches\n",
    "from PIL import Image\n",
    "import matplotlib.pyplot as plt\n",
    "import os\n",
    "import shutil\n",
    "from google.colab import files"
   ]
  },
  {
   "cell_type": "markdown",
   "metadata": {},
   "source": [
    "#### __The Model Blueprint__"
   ]
  },
  {
   "cell_type": "code",
   "execution_count": 98,
   "metadata": {},
   "outputs": [],
   "source": [
    "'''Can use GPU, which has lots of cores, instead if available. It is good for parallel processing for tasks\n",
    "like matrix multiplication where job can be split up to calculate each element of new matrix. GPU's also have\n",
    "high bandwidth so they can indirectly have faster time talking to memory. This computer doesn't have cuda so\n",
    "run on CoLab.\n",
    "'''\n",
    "#Create a NN class that encapsulates all components of NN, instantiate later\n",
    "# with __call__ object name can be treated as function that calls certain function in class (predefine)\n",
    "#inherits from nn.Module class; many classes for different layers\n",
    "class NumberNN(nn.Module): \n",
    "    def __init__(self):\n",
    "        super(NumberNN, self).__init__() #explicitly call parent class constructor to initialize stuff\n",
    "                                    #parent technically initialized too and tied to child but you only access child\n",
    "        self.fc1 = Linear(in_features = 28**2, out_features = 128) #first fully connected layer has 784 input neurons\n",
    "        self.fc2 = Linear(128, 64)\n",
    "        self.fc3 = Linear(64, 10)\n",
    "    \n",
    "    def forward(self, pixels):\n",
    "        '''MNIST is (batch_size = ..., channels = 1, height = 28, width = 28)\n",
    "        Fully connected layers expect input tensors to be (batch_size, num_features); labels already liked this\n",
    "        Size of first dimension of tensor is batch size, -1 infers dim of the vector/features (784)\n",
    "        '''\n",
    "        pixels = pixels.view(-1, 28**2)  # Flatten the input tensor (batch_size, 1, 28, 28) to (batch_size, 784)\n",
    "        \n",
    "        pixels = F.leaky_relu(self.fc1(pixels), negative_slope= 0.02)\n",
    "        pixels = F.leaky_relu(self.fc2(pixels), negative_slope= 0.02) \n",
    "        pixels = self.fc3(pixels) # Output layer (logits)\n",
    "        return pixels\n",
    "    \n",
    "#Instantiate model\n",
    "model = NumberNN()\n",
    "\n",
    "#Loss function - making instance of this class to use the functions in it\n",
    "cross_entropy = nn.CrossEntropyLoss()\n",
    "\n",
    "#Other optimizers than SGD like Adam, takes momentum into account for adaptive learning rate: .05 good for SGD\n",
    "optimizer = optim.Adam(model.parameters(), lr=0.001, betas=(0.9, 0.999), eps=1e-08)\n",
    "\n",
    "'''transformation function object: applies transformations in list sequentially; images into tensors -> normalize\n",
    "normalize transforms the pixel values more condensed/similar so training is faster\n",
    "Normalizing for single channel (good practice to include tuple instead of scalar even if only one channel)'''\n",
    "transform = transforms.Compose([transforms.ToTensor(), transforms.Normalize((0.5,), (0.5,))])\n",
    "\n",
    "#Load MNIST\n",
    "train_dataset = datasets.MNIST(root = './data', train = True, download = True, transform = transform)\n",
    "\n",
    "#creates iterator that provides batches of data during training\n",
    "#the batches are in form of (image, label) tuple which are just tensors/vectors\n",
    "train_loader = DataLoader(train_dataset, batch_size = 64, shuffle = True)\n",
    "\n",
    "#Adds batch size to image tensor in train loader\n",
    "test_dataset = datasets.MNIST(root = './data', train = False, download = True, transform = transform)\n",
    "test_loader = DataLoader(test_dataset, batch_size = 64, shuffle = False)"
   ]
  },
  {
   "cell_type": "markdown",
   "metadata": {},
   "source": [
    "#### __Training the Model__"
   ]
  },
  {
   "cell_type": "code",
   "execution_count": 99,
   "metadata": {},
   "outputs": [
    {
     "name": "stdout",
     "output_type": "stream",
     "text": [
      "Epoch 1, Loss:  0.2767\n",
      "Epoch 2, Loss:  0.1557\n",
      "Epoch 3, Loss:  0.1065\n",
      "Epoch 4, Loss:  0.2222\n",
      "Epoch 5, Loss:  0.0083\n"
     ]
    }
   ],
   "source": [
    "'''Each parameter has its own special tensor (created per layer) \n",
    "with a number for its partial derivative in .grad attribute of tensor; step() accesses these'''\n",
    "\n",
    "def train_model(model, train_loader, optimizer, loss, num_epochs):\n",
    "    #Hyperparameter\n",
    "    num_epochs = 5\n",
    "\n",
    "    for epoch in range(num_epochs): #will do training cycle 5 times\n",
    "\n",
    "        #each iteration is one minibatch of images/labels\n",
    "        for images, labels in train_loader: \n",
    "            optimizer.zero_grad() #zeroing out gradient ignores .grad and recalculates partials in backprop\n",
    "            outputs = model(images) #passes this to forward\n",
    "\n",
    "            #numclasses is components; ex. 4 = [0,0,0,1,0,0,...]\n",
    "            target = F.one_hot(labels, num_classes=10).float()\n",
    "\n",
    "            loss = cross_entropy(outputs, target)\n",
    "            loss.backward() #backward propogation to compute gradiaent\n",
    "            optimizer.step() #updates model parameters (takes \"step\")\n",
    "\n",
    "        #single number tensors converted to normal number with .item(); 4 decimal places as floating point number\n",
    "        print(f'Epoch {epoch + 1}, Loss: {loss.item(): .4f}')\n",
    "\n",
    "train_model(model, train_loader, optimizer, loss = cross_entropy, num_epochs = 5)"
   ]
  },
  {
   "cell_type": "markdown",
   "metadata": {},
   "source": [
    "#### __Saving the Model__"
   ]
  },
  {
   "cell_type": "code",
   "execution_count": null,
   "metadata": {},
   "outputs": [],
   "source": [
    "#Saves these parameters in Colab or locally\n",
    "'''Saves the parameters in colab. Model has state dictionary, a Python dictionary that maps to the weights and \n",
    "biases. Extracts this and stores it in a file with .pth convention by convention to store PyTorch parameters \n",
    "or entire models.'''\n",
    "torch.save(model.state_dict(), 'bestmodel.pth')"
   ]
  },
  {
   "cell_type": "code",
   "execution_count": null,
   "metadata": {},
   "outputs": [],
   "source": [
    "#Download locally\n",
    "files.download('bestmodel.pth')"
   ]
  },
  {
   "cell_type": "code",
   "execution_count": null,
   "metadata": {},
   "outputs": [],
   "source": [
    "#Move to correct folder if Colab used\n",
    "model_downloads_path = os.path.join(os.path.expanduser(\"~\"), \"Downloads\", \"bestmodel.pth\")\n",
    "\n",
    "model_destination_path = \"/mnt/c/Users/daria/OneDrive/Practice/nnPractice/bestmodel.pth\"\n",
    "\n",
    "shutil.move(model_downloads_path, model_destination_path)"
   ]
  },
  {
   "cell_type": "markdown",
   "metadata": {},
   "source": [
    "#### __Loading the Saved Model__"
   ]
  },
  {
   "cell_type": "code",
   "execution_count": 100,
   "metadata": {},
   "outputs": [],
   "source": [
    "def load_model():\n",
    "    # Instantiate the model\n",
    "    model = NumberNN()\n",
    "    \n",
    "    #Update model's parameters to what it was after training\n",
    "    model.load_state_dict(torch.load('bestmodel.pth'))\n",
    "    \n",
    "    '''Sometimes in training some neurons turned off (called dropout) to prevent overfitting, but when testing \n",
    "you want all neurons in model to be used, so eval fixes this as well as other settings for testing so model\n",
    "acts \"normally\"'''\n",
    "    model.eval()\n",
    "    \n",
    "    return model\n",
    "\n",
    "model = load_model()"
   ]
  },
  {
   "cell_type": "markdown",
   "metadata": {},
   "source": [
    "#### __Evalulating/Testing the Model__"
   ]
  },
  {
   "cell_type": "code",
   "execution_count": 101,
   "metadata": {},
   "outputs": [
    {
     "name": "stdout",
     "output_type": "stream",
     "text": [
      "Test Accuracy: 96.7\n"
     ]
    }
   ],
   "source": [
    "'''with - disable gradient discent for the for loop and enable when for loop ends\n",
    "Don't store unnecessary numbers (eg. intermediate activations) for calculating gradient; \n",
    "Saves memory and its faster\n",
    "'''\n",
    "\n",
    "def test_model(model, test_loader):\n",
    "    model.eval()\n",
    "\n",
    "    #Counters\n",
    "    correct = 0\n",
    "    total = 0\n",
    "    with torch.no_grad():\n",
    "        for images, labels in test_loader:\n",
    "            outputs = model(images)\n",
    "\n",
    "            #Return two tensors for max values (brightest neurons) and their indices\n",
    "            '''\n",
    "            outputs dimensions: (batch_size, num_classes). Num_classes has value of each neuron in output\n",
    "            layer. You have 1 array per training example, and for each mini-batch you have 2D array\n",
    "            max has 2 outputs): the max values in each row and the indices of the max values\n",
    "            We only care about index/number it predicted, so convention to store unimportant stuff in _\n",
    "            1 as parameter input means find max along dimension 1\n",
    "            '''\n",
    "            _, predicted = torch.max(outputs, 1)\n",
    "\n",
    "            #Update Counters\n",
    "            total += labels.size(0) #size of first dimension (batch size)\n",
    "\n",
    "            #Compare each tensor, which returns new tensor with each component being True or False\n",
    "            #Sum counts the amount of True in the tensor\n",
    "            correct += (predicted == labels).sum().item()\n",
    "        return (correct/total) * 100\n",
    "\n",
    "accuracy = test_model(model, test_loader)\n",
    "print(f'Test Accuracy: {accuracy}')"
   ]
  },
  {
   "cell_type": "markdown",
   "metadata": {},
   "source": [
    "#### __Inputting a New Image__"
   ]
  },
  {
   "cell_type": "code",
   "execution_count": 135,
   "metadata": {},
   "outputs": [
    {
     "name": "stdout",
     "output_type": "stream",
     "text": [
      "Probability of 6:  99.91%\n",
      "Probability of 4:  0.05%\n",
      "Probability of 8:  0.03%\n",
      "Probability of 5:  0.01%\n",
      "Probability of 0:  0.00%\n",
      "Probability of 2:  0.00%\n",
      "Probability of 9:  0.00%\n",
      "Probability of 7:  0.00%\n",
      "Probability of 3:  0.00%\n",
      "Probability of 1:  0.00%\n",
      "\n",
      "Predicted number: 6\n"
     ]
    }
   ],
   "source": [
    "def pixelate_image(image, pixelation_level):\n",
    "    \n",
    "    '''/ is floor division. Tuples have indices. Resize is changing # of pixels after knowing new \n",
    "    size of image, what makes it appear pixelated is then enlarging image so the few pixels are larger.\n",
    "    Bilinear interpoloation is to get value of each pixel, look at weighted average of 4 nearest pixels \n",
    "    of where it would go to determine new value. Weighted based on what is closest to it. Then split those \n",
    "    big pixels up again so the size is same as original but looks more pixelated.'''\n",
    "\n",
    "    new_size = (image.size[0] // pixelation_level, image.size[1] // pixelation_level)\n",
    "    pixelated = image.resize(new_size,resample=Image.BILINEAR)\n",
    "\n",
    "    pixelated = pixelated.resize((28, 28))\n",
    "    \n",
    "    return pixelated\n",
    "\n",
    "#Preprocess using functions of the Image class\n",
    "def preprocess_image(image_path):\n",
    "    image = pixelate_image(image_path, 8)\n",
    "    image = transform(image)  #Make it a tensor then normalize\n",
    "    image = image.unsqueeze(0)  #Add another dimension (batch_size) to image; not used, but specific shape necessary\n",
    "    return image\n",
    "\n",
    "# Load and preprocess the image \n",
    "image = Image.open(\"6.1.png\").convert('L') #\"instantiating\", gives size as attribute in tuple\n",
    "\n",
    "pixelated_image_visual = pixelate_image(image, 5)\n",
    "\n",
    "image_transformed = preprocess_image(image)\n",
    "\n",
    "\n",
    "# Disable gradient computation for speedup\n",
    "with torch.no_grad():\n",
    "    output = model(image_transformed)\n",
    "    _, predicted = torch.max(output, dim = 1)\n",
    "    probabilities = F.softmax(output, dim = 1) #probabilities[i] that contains softmax for outputs of i+1 image \n",
    "\n",
    "#(number, probability tensor)\n",
    "prob_tuples = list(enumerate(probabilities[0])) \n",
    "\n",
    "#to sort by max, extract probability with itemgetter\n",
    "prob_tuples.sort(key = itemgetter(1), reverse = True)\n",
    "\n",
    "for number, probability in prob_tuples:\n",
    "    print(f'Probability of {number}: {probability.item() * 100: .2f}%')\n",
    "\n",
    "print(f'\\nPredicted number: {predicted.item()}')"
   ]
  },
  {
   "cell_type": "markdown",
   "metadata": {},
   "source": [
    "#### __Visualizing the Transformed Image__"
   ]
  },
  {
   "cell_type": "code",
   "execution_count": 136,
   "metadata": {},
   "outputs": [
    {
     "data": {
      "image/png": "[encoded data removed]",
      "text/plain": [
       "<Figure size 640x480 with 2 Axes>"
      ]
     },
     "metadata": {},
     "output_type": "display_data"
    }
   ],
   "source": [
    "plt.subplot(1,2,1) #create subplot first\n",
    "plt.imshow(image, cmap='gray')\n",
    "plt.axis('off')\n",
    "\n",
    "#dimensions need to be correct\n",
    "plt.subplot(1,2,2)\n",
    "plt.imshow(pixelated_image_visual, cmap='gray')\n",
    "plt.axis('off') \n",
    "\n",
    "plt.show() #not needed for Jupyter"
   ]
  }
 ],
 "metadata": {
  "kernelspec": {
   "display_name": "Python 3",
   "language": "python",
   "name": "python3"
  },
  "language_info": {
   "codemirror_mode": {
    "name": "ipython",
    "version": 3
   },
   "file_extension": ".py",
   "mimetype": "text/x-python",
   "name": "python",
   "nbconvert_exporter": "python",
   "pygments_lexer": "ipython3",
   "version": "3.10.12"
  }
 },
 "nbformat": 4,
 "nbformat_minor": 2
}
